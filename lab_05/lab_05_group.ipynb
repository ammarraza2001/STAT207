{
 "cells": [
  {
   "cell_type": "markdown",
   "metadata": {},
   "source": [
    "# STAT 207 Lab Assignment 5 - Group Part\n"
   ]
  },
  {
   "cell_type": "markdown",
   "metadata": {},
   "source": [
    "## <u>Case Study</u>: Exploring the Predictive Power of Explanatory Variables\n",
    "\n",
    "\n",
    "\n",
    "### Coffee Dataset Information\n",
    "\n",
    "In this individual assignment we will return to the `coffee_top_varieties.csv` dataset. Information about the variables in this dataset can be found here: https://corgis-edu.github.io/corgis/csv/coffee/ Just like in Lab 3, we have pre-filtered for just the most popular varieties of coffee found in the original dataset.\n",
    "\n",
    "\n",
    "### Linear Regression Model\n",
    "\n",
    "We intend to build linear regression models that will predict the `Aroma` of coffee brands *in this dataset* given the following explanatory variables.\n",
    "\n",
    "* `Aroma`\n",
    "* `Aftertaste`\n",
    "* `Acidity`\n",
    "* `Body`\n",
    "* `Balance`\n",
    "* `Uniformity`\n",
    "* `Sweetness`\n",
    "* `Moisture`\n",
    "* `Color`\n",
    "* `Variety`\n",
    "\n",
    "\n",
    "### Research Questions\n",
    "\n",
    "In this group assignment we would like to answer the following questions about the coffee brands in the *entire dataset*.\n",
    "\n",
    "1. Which explanatory variable in this list brings the most amount of predictive power to the model *by itself*?\n",
    "2. Which explanatory variable in this list brings the second most amount of predictive power to the model *in addition to the variable that brings the most power*?\n",
    "3. In the presence of ALL of the available explanatory variables, which explanatory variable brings the *least* amount of predictive power to the model?\n",
    "\n",
    "\n",
    "<p>&nbsp;</p>\n",
    "<table style=\"border: none;border-collapse: collapse;width:102pt;\">\n",
    "    <tbody>\n",
    "        <tr>\n",
    "            <td style=\"color:black;font-size:15px;font-weight:700;font-style:normal;text-decoration:none;font-family:Calibri, sans-serif;text-align:general;vertical-align:bottom;border:.5pt solid windowtext;height:14.25pt;width:51pt;\">Problem</td>\n",
    "            <td style=\"color:black;font-size:15px;font-weight:700;font-style:normal;text-decoration:none;font-family:Calibri, sans-serif;text-align:general;vertical-align:bottom;border:.5pt solid windowtext;border-left:none;width:51pt;\">Points</td>\n",
    "        </tr>\n",
    "        <tr>\n",
    "            <td style=\"color:black;font-size:15px;font-weight:400;font-style:normal;text-decoration:none;font-family:Calibri, sans-serif;text-align:right;vertical-align:bottom;border:.5pt solid windowtext;height:14.25pt;border-top:none;\">1.1</td>\n",
    "            <td style=\"color:black;font-size:15px;font-weight:400;font-style:normal;text-decoration:none;font-family:Calibri, sans-serif;text-align:right;vertical-align:bottom;border:.5pt solid windowtext;border-top:none;border-left:none;\">0.25</td>\n",
    "        </tr>\n",
    "        <tr>\n",
    "            <td style=\"color:black;font-size:15px;font-weight:400;font-style:normal;text-decoration:none;font-family:Calibri, sans-serif;text-align:right;vertical-align:bottom;border:.5pt solid windowtext;height:14.25pt;border-top:none;\">1.2</td>\n",
    "            <td style=\"color:black;font-size:15px;font-weight:400;font-style:normal;text-decoration:none;font-family:Calibri, sans-serif;text-align:right;vertical-align:bottom;border:.5pt solid windowtext;border-top:none;border-left:none;\">0.25</td>\n",
    "        </tr>\n",
    "        <tr>\n",
    "            <td style=\"color:black;font-size:15px;font-weight:400;font-style:normal;text-decoration:none;font-family:Calibri, sans-serif;text-align:right;vertical-align:bottom;border:.5pt solid windowtext;height:14.25pt;border-top:none;\">1.3</td>\n",
    "            <td style=\"color:black;font-size:15px;font-weight:400;font-style:normal;text-decoration:none;font-family:Calibri, sans-serif;text-align:right;vertical-align:bottom;border:.5pt solid windowtext;border-top:none;border-left:none;\">0.5</td>\n",
    "        </tr>\n",
    "        <tr>\n",
    "            <td style=\"color:black;font-size:15px;font-weight:400;font-style:normal;text-decoration:none;font-family:Calibri, sans-serif;text-align:right;vertical-align:bottom;border:.5pt solid windowtext;height:14.25pt;border-top:none;\">1.4</td>\n",
    "            <td style=\"color:black;font-size:15px;font-weight:400;font-style:normal;text-decoration:none;font-family:Calibri, sans-serif;text-align:right;vertical-align:bottom;border:.5pt solid windowtext;border-top:none;border-left:none;\">0.5</td>\n",
    "        </tr>\n",
    "        <tr>\n",
    "            <td style=\"color:black;font-size:15px;font-weight:400;font-style:normal;text-decoration:none;font-family:Calibri, sans-serif;text-align:right;vertical-align:bottom;border:.5pt solid windowtext;height:14.25pt;border-top:none;\">2.1</td>\n",
    "            <td style=\"color:black;font-size:15px;font-weight:400;font-style:normal;text-decoration:none;font-family:Calibri, sans-serif;text-align:right;vertical-align:bottom;border:.5pt solid windowtext;border-top:none;border-left:none;\">1</td>\n",
    "        </tr>\n",
    "        <tr>\n",
    "            <td style=\"color:black;font-size:15px;font-weight:400;font-style:normal;text-decoration:none;font-family:Calibri, sans-serif;text-align:right;vertical-align:bottom;border:.5pt solid windowtext;height:14.25pt;border-top:none;\">2.2</td>\n",
    "            <td style=\"color:black;font-size:15px;font-weight:400;font-style:normal;text-decoration:none;font-family:Calibri, sans-serif;text-align:right;vertical-align:bottom;border:.5pt solid windowtext;border-top:none;border-left:none;\">0.5</td>\n",
    "        </tr>\n",
    "        <tr>\n",
    "            <td style=\"color:black;font-size:15px;font-weight:400;font-style:normal;text-decoration:none;font-family:Calibri, sans-serif;text-align:right;vertical-align:bottom;border:.5pt solid windowtext;height:14.25pt;border-top:none;\">3.1</td>\n",
    "            <td style=\"color:black;font-size:15px;font-weight:400;font-style:normal;text-decoration:none;font-family:Calibri, sans-serif;text-align:right;vertical-align:bottom;border:.5pt solid windowtext;border-top:none;border-left:none;\">1</td>\n",
    "        </tr>\n",
    "        <tr>\n",
    "            <td style=\"color:black;font-size:15px;font-weight:400;font-style:normal;text-decoration:none;font-family:Calibri, sans-serif;text-align:right;vertical-align:bottom;border:.5pt solid windowtext;height:14.25pt;border-top:none;\">3.2</td>\n",
    "            <td style=\"color:black;font-size:15px;font-weight:400;font-style:normal;text-decoration:none;font-family:Calibri, sans-serif;text-align:right;vertical-align:bottom;border:.5pt solid windowtext;border-top:none;border-left:none;\">0.5</td>\n",
    "        </tr>\n",
    "        <tr>\n",
    "            <td style=\"color:black;font-size:15px;font-weight:400;font-style:normal;text-decoration:none;font-family:Calibri, sans-serif;text-align:right;vertical-align:bottom;border:.5pt solid windowtext;height:14.25pt;border-top:none;\">4.1</td>\n",
    "            <td style=\"color:black;font-size:15px;font-weight:400;font-style:normal;text-decoration:none;font-family:Calibri, sans-serif;text-align:right;vertical-align:bottom;border:.5pt solid windowtext;border-top:none;border-left:none;\">1</td>\n",
    "        </tr>\n",
    "        <tr>\n",
    "            <td style=\"color:black;font-size:15px;font-weight:400;font-style:normal;text-decoration:none;font-family:Calibri, sans-serif;text-align:right;vertical-align:bottom;border:.5pt solid windowtext;height:14.25pt;border-top:none;\">4.2</td>\n",
    "            <td style=\"color:black;font-size:15px;font-weight:400;font-style:normal;text-decoration:none;font-family:Calibri, sans-serif;text-align:right;vertical-align:bottom;border:.5pt solid windowtext;border-top:none;border-left:none;\">0.5</td>\n",
    "        </tr>\n",
    "        <tr>\n",
    "            <td style=\"color:black;font-size:15px;font-weight:400;font-style:normal;text-decoration:none;font-family:Calibri, sans-serif;text-align:general;vertical-align:bottom;border:.5pt solid windowtext;background:#E7E6E6;height:14.25pt;border-top:none;\">Total</td>\n",
    "            <td style=\"color:black;font-size:15px;font-weight:400;font-style:normal;text-decoration:none;font-family:Calibri, sans-serif;text-align:right;vertical-align:bottom;border:.5pt solid windowtext;background:#E7E6E6;border-top:none;border-left:none;\">6</td>\n",
    "        </tr>\n",
    "    </tbody>\n",
    "</table>\n"
   ]
  },
  {
   "cell_type": "code",
   "execution_count": 1,
   "metadata": {},
   "outputs": [],
   "source": [
    "import numpy as np\n",
    "import pandas as pd\n",
    "import seaborn as sns\n",
    "import matplotlib.pyplot as plt"
   ]
  },
  {
   "cell_type": "markdown",
   "metadata": {},
   "source": [
    "## 1. Coffee Dataset\n",
    "\n",
    "### 1.1. Reading the csv\n",
    "\n",
    "1. Read the `coffee_top_varieties.csv` into a dataframe. The strings that are used to represent missing values **in the intended numerical colums** in this csv file are represented with 'nan'. Luckily, 'nan' is one of the string values that the **pd.read_csv()** function is automatically programmed to detect as a missing value and thus convert into a NaN type object.\n",
    "2. Show the first 5 rows.\n",
    "3. Show how many rows this dataframe has."
   ]
  },
  {
   "cell_type": "code",
   "execution_count": 2,
   "metadata": {},
   "outputs": [
    {
     "data": {
      "text/html": [
       "<div>\n",
       "<style scoped>\n",
       "    .dataframe tbody tr th:only-of-type {\n",
       "        vertical-align: middle;\n",
       "    }\n",
       "\n",
       "    .dataframe tbody tr th {\n",
       "        vertical-align: top;\n",
       "    }\n",
       "\n",
       "    .dataframe thead th {\n",
       "        text-align: right;\n",
       "    }\n",
       "</style>\n",
       "<table border=\"1\" class=\"dataframe\">\n",
       "  <thead>\n",
       "    <tr style=\"text-align: right;\">\n",
       "      <th></th>\n",
       "      <th>Location_Country</th>\n",
       "      <th>Location_Region</th>\n",
       "      <th>Location_Altitude_Min</th>\n",
       "      <th>Location_Altitude_Max</th>\n",
       "      <th>Location_Altitude_Average</th>\n",
       "      <th>Year</th>\n",
       "      <th>Data_Owner</th>\n",
       "      <th>Data_Type_Species</th>\n",
       "      <th>Data_Type_Variety</th>\n",
       "      <th>Data_Type_Processing method</th>\n",
       "      <th>...</th>\n",
       "      <th>Data_Scores_Flavor</th>\n",
       "      <th>Data_Scores_Aftertaste</th>\n",
       "      <th>Data_Scores_Acidity</th>\n",
       "      <th>Data_Scores_Body</th>\n",
       "      <th>Data_Scores_Balance</th>\n",
       "      <th>Data_Scores_Uniformity</th>\n",
       "      <th>Data_Scores_Sweetness</th>\n",
       "      <th>Data_Scores_Moisture</th>\n",
       "      <th>Data_Scores_Total</th>\n",
       "      <th>Data_Color</th>\n",
       "    </tr>\n",
       "  </thead>\n",
       "  <tbody>\n",
       "    <tr>\n",
       "      <th>0</th>\n",
       "      <td>Brazil</td>\n",
       "      <td>south of minas</td>\n",
       "      <td>1250</td>\n",
       "      <td>1250</td>\n",
       "      <td>1250</td>\n",
       "      <td>2011</td>\n",
       "      <td>nucoffee</td>\n",
       "      <td>Arabica</td>\n",
       "      <td>Bourbon</td>\n",
       "      <td>Natural / Dry</td>\n",
       "      <td>...</td>\n",
       "      <td>8.50</td>\n",
       "      <td>8.00</td>\n",
       "      <td>8.00</td>\n",
       "      <td>8.00</td>\n",
       "      <td>8.00</td>\n",
       "      <td>10.0</td>\n",
       "      <td>10.0</td>\n",
       "      <td>0.12</td>\n",
       "      <td>86.92</td>\n",
       "      <td>Green</td>\n",
       "    </tr>\n",
       "    <tr>\n",
       "      <th>1</th>\n",
       "      <td>Brazil</td>\n",
       "      <td>vale da grama</td>\n",
       "      <td>1300</td>\n",
       "      <td>1300</td>\n",
       "      <td>1300</td>\n",
       "      <td>2011</td>\n",
       "      <td>nucoffee</td>\n",
       "      <td>Arabica</td>\n",
       "      <td>Bourbon</td>\n",
       "      <td>Natural / Dry</td>\n",
       "      <td>...</td>\n",
       "      <td>8.17</td>\n",
       "      <td>8.00</td>\n",
       "      <td>7.75</td>\n",
       "      <td>8.00</td>\n",
       "      <td>8.00</td>\n",
       "      <td>10.0</td>\n",
       "      <td>10.0</td>\n",
       "      <td>0.12</td>\n",
       "      <td>86.42</td>\n",
       "      <td>Green</td>\n",
       "    </tr>\n",
       "    <tr>\n",
       "      <th>2</th>\n",
       "      <td>Brazil</td>\n",
       "      <td>south of minas</td>\n",
       "      <td>1250</td>\n",
       "      <td>1250</td>\n",
       "      <td>1250</td>\n",
       "      <td>2011</td>\n",
       "      <td>nucoffee</td>\n",
       "      <td>Arabica</td>\n",
       "      <td>Bourbon</td>\n",
       "      <td>Semi-washed / Semi-pulped</td>\n",
       "      <td>...</td>\n",
       "      <td>8.00</td>\n",
       "      <td>8.00</td>\n",
       "      <td>8.00</td>\n",
       "      <td>7.75</td>\n",
       "      <td>8.00</td>\n",
       "      <td>10.0</td>\n",
       "      <td>10.0</td>\n",
       "      <td>0.11</td>\n",
       "      <td>86.08</td>\n",
       "      <td>Blue-Green</td>\n",
       "    </tr>\n",
       "    <tr>\n",
       "      <th>3</th>\n",
       "      <td>Brazil</td>\n",
       "      <td>south of minas</td>\n",
       "      <td>1250</td>\n",
       "      <td>1250</td>\n",
       "      <td>1250</td>\n",
       "      <td>2011</td>\n",
       "      <td>nucoffee</td>\n",
       "      <td>Arabica</td>\n",
       "      <td>Bourbon</td>\n",
       "      <td>Semi-washed / Semi-pulped</td>\n",
       "      <td>...</td>\n",
       "      <td>8.00</td>\n",
       "      <td>8.00</td>\n",
       "      <td>7.67</td>\n",
       "      <td>7.75</td>\n",
       "      <td>8.00</td>\n",
       "      <td>10.0</td>\n",
       "      <td>10.0</td>\n",
       "      <td>0.11</td>\n",
       "      <td>85.42</td>\n",
       "      <td>Blue-Green</td>\n",
       "    </tr>\n",
       "    <tr>\n",
       "      <th>4</th>\n",
       "      <td>Brazil</td>\n",
       "      <td>south of minas</td>\n",
       "      <td>1200</td>\n",
       "      <td>1200</td>\n",
       "      <td>1200</td>\n",
       "      <td>2011</td>\n",
       "      <td>nucoffee</td>\n",
       "      <td>Arabica</td>\n",
       "      <td>Bourbon</td>\n",
       "      <td>Natural / Dry</td>\n",
       "      <td>...</td>\n",
       "      <td>7.92</td>\n",
       "      <td>7.75</td>\n",
       "      <td>7.75</td>\n",
       "      <td>8.00</td>\n",
       "      <td>7.75</td>\n",
       "      <td>10.0</td>\n",
       "      <td>10.0</td>\n",
       "      <td>0.11</td>\n",
       "      <td>84.92</td>\n",
       "      <td>Green</td>\n",
       "    </tr>\n",
       "  </tbody>\n",
       "</table>\n",
       "<p>5 rows × 23 columns</p>\n",
       "</div>"
      ],
      "text/plain": [
       "  Location_Country Location_Region  Location_Altitude_Min  \\\n",
       "0           Brazil  south of minas                   1250   \n",
       "1           Brazil   vale da grama                   1300   \n",
       "2           Brazil  south of minas                   1250   \n",
       "3           Brazil  south of minas                   1250   \n",
       "4           Brazil  south of minas                   1200   \n",
       "\n",
       "   Location_Altitude_Max  Location_Altitude_Average  Year Data_Owner  \\\n",
       "0                   1250                       1250  2011   nucoffee   \n",
       "1                   1300                       1300  2011   nucoffee   \n",
       "2                   1250                       1250  2011   nucoffee   \n",
       "3                   1250                       1250  2011   nucoffee   \n",
       "4                   1200                       1200  2011   nucoffee   \n",
       "\n",
       "  Data_Type_Species Data_Type_Variety Data_Type_Processing method  ...  \\\n",
       "0           Arabica           Bourbon               Natural / Dry  ...   \n",
       "1           Arabica           Bourbon               Natural / Dry  ...   \n",
       "2           Arabica           Bourbon   Semi-washed / Semi-pulped  ...   \n",
       "3           Arabica           Bourbon   Semi-washed / Semi-pulped  ...   \n",
       "4           Arabica           Bourbon               Natural / Dry  ...   \n",
       "\n",
       "   Data_Scores_Flavor  Data_Scores_Aftertaste  Data_Scores_Acidity  \\\n",
       "0                8.50                    8.00                 8.00   \n",
       "1                8.17                    8.00                 7.75   \n",
       "2                8.00                    8.00                 8.00   \n",
       "3                8.00                    8.00                 7.67   \n",
       "4                7.92                    7.75                 7.75   \n",
       "\n",
       "   Data_Scores_Body  Data_Scores_Balance  Data_Scores_Uniformity  \\\n",
       "0              8.00                 8.00                    10.0   \n",
       "1              8.00                 8.00                    10.0   \n",
       "2              7.75                 8.00                    10.0   \n",
       "3              7.75                 8.00                    10.0   \n",
       "4              8.00                 7.75                    10.0   \n",
       "\n",
       "   Data_Scores_Sweetness  Data_Scores_Moisture  Data_Scores_Total  Data_Color  \n",
       "0                   10.0                  0.12              86.92       Green  \n",
       "1                   10.0                  0.12              86.42       Green  \n",
       "2                   10.0                  0.11              86.08  Blue-Green  \n",
       "3                   10.0                  0.11              85.42  Blue-Green  \n",
       "4                   10.0                  0.11              84.92       Green  \n",
       "\n",
       "[5 rows x 23 columns]"
      ]
     },
     "execution_count": 2,
     "metadata": {},
     "output_type": "execute_result"
    }
   ],
   "source": [
    "df = pd.read_csv(\"C:\\\\Users\\\\samma\\\\Documents\\\\stat207\\\\saraza2\\\\lab_05\\\\coffee_top_varieties.csv\")\n",
    "df.head()"
   ]
  },
  {
   "cell_type": "code",
   "execution_count": 3,
   "metadata": {
    "scrolled": true
   },
   "outputs": [
    {
     "data": {
      "text/plain": [
       "582"
      ]
     },
     "execution_count": 3,
     "metadata": {},
     "output_type": "execute_result"
    }
   ],
   "source": [
    "len(df)"
   ]
  },
  {
   "cell_type": "markdown",
   "metadata": {},
   "source": [
    "### 1.2. Dropping NaN Values\n",
    "\n",
    "We only intend to use the `Aroma`, `Flavor`, `Aftertaste`, `Acidity`, `Body`, `Balance`, `Uniformity`, `Sweetness`, `Moisture`, `Color`, and `Species` variables in this dataframe.\n",
    "\n",
    "1. Create a dataframe with just these variables.\n",
    "2. Then drop all rows from this dataframe that have a NaN value.\n",
    "3. How many rows did you drop?"
   ]
  },
  {
   "cell_type": "code",
   "execution_count": 4,
   "metadata": {},
   "outputs": [
    {
     "data": {
      "text/html": [
       "<div>\n",
       "<style scoped>\n",
       "    .dataframe tbody tr th:only-of-type {\n",
       "        vertical-align: middle;\n",
       "    }\n",
       "\n",
       "    .dataframe tbody tr th {\n",
       "        vertical-align: top;\n",
       "    }\n",
       "\n",
       "    .dataframe thead th {\n",
       "        text-align: right;\n",
       "    }\n",
       "</style>\n",
       "<table border=\"1\" class=\"dataframe\">\n",
       "  <thead>\n",
       "    <tr style=\"text-align: right;\">\n",
       "      <th></th>\n",
       "      <th>Data_Scores_Aroma</th>\n",
       "      <th>Data_Scores_Flavor</th>\n",
       "      <th>Data_Scores_Aftertaste</th>\n",
       "      <th>Data_Scores_Acidity</th>\n",
       "      <th>Data_Scores_Body</th>\n",
       "      <th>Data_Scores_Balance</th>\n",
       "      <th>Data_Scores_Uniformity</th>\n",
       "      <th>Data_Scores_Sweetness</th>\n",
       "      <th>Data_Scores_Moisture</th>\n",
       "      <th>Data_Color</th>\n",
       "      <th>Data_Type_Variety</th>\n",
       "    </tr>\n",
       "  </thead>\n",
       "  <tbody>\n",
       "    <tr>\n",
       "      <th>0</th>\n",
       "      <td>8.50</td>\n",
       "      <td>8.50</td>\n",
       "      <td>8.00</td>\n",
       "      <td>8.00</td>\n",
       "      <td>8.00</td>\n",
       "      <td>8.00</td>\n",
       "      <td>10.00</td>\n",
       "      <td>10.00</td>\n",
       "      <td>0.12</td>\n",
       "      <td>Green</td>\n",
       "      <td>Bourbon</td>\n",
       "    </tr>\n",
       "    <tr>\n",
       "      <th>1</th>\n",
       "      <td>8.50</td>\n",
       "      <td>8.17</td>\n",
       "      <td>8.00</td>\n",
       "      <td>7.75</td>\n",
       "      <td>8.00</td>\n",
       "      <td>8.00</td>\n",
       "      <td>10.00</td>\n",
       "      <td>10.00</td>\n",
       "      <td>0.12</td>\n",
       "      <td>Green</td>\n",
       "      <td>Bourbon</td>\n",
       "    </tr>\n",
       "    <tr>\n",
       "      <th>2</th>\n",
       "      <td>8.33</td>\n",
       "      <td>8.00</td>\n",
       "      <td>8.00</td>\n",
       "      <td>8.00</td>\n",
       "      <td>7.75</td>\n",
       "      <td>8.00</td>\n",
       "      <td>10.00</td>\n",
       "      <td>10.00</td>\n",
       "      <td>0.11</td>\n",
       "      <td>Blue-Green</td>\n",
       "      <td>Bourbon</td>\n",
       "    </tr>\n",
       "    <tr>\n",
       "      <th>3</th>\n",
       "      <td>8.00</td>\n",
       "      <td>8.00</td>\n",
       "      <td>8.00</td>\n",
       "      <td>7.67</td>\n",
       "      <td>7.75</td>\n",
       "      <td>8.00</td>\n",
       "      <td>10.00</td>\n",
       "      <td>10.00</td>\n",
       "      <td>0.11</td>\n",
       "      <td>Blue-Green</td>\n",
       "      <td>Bourbon</td>\n",
       "    </tr>\n",
       "    <tr>\n",
       "      <th>4</th>\n",
       "      <td>8.00</td>\n",
       "      <td>7.92</td>\n",
       "      <td>7.75</td>\n",
       "      <td>7.75</td>\n",
       "      <td>8.00</td>\n",
       "      <td>7.75</td>\n",
       "      <td>10.00</td>\n",
       "      <td>10.00</td>\n",
       "      <td>0.11</td>\n",
       "      <td>Green</td>\n",
       "      <td>Bourbon</td>\n",
       "    </tr>\n",
       "    <tr>\n",
       "      <th>...</th>\n",
       "      <td>...</td>\n",
       "      <td>...</td>\n",
       "      <td>...</td>\n",
       "      <td>...</td>\n",
       "      <td>...</td>\n",
       "      <td>...</td>\n",
       "      <td>...</td>\n",
       "      <td>...</td>\n",
       "      <td>...</td>\n",
       "      <td>...</td>\n",
       "      <td>...</td>\n",
       "    </tr>\n",
       "    <tr>\n",
       "      <th>577</th>\n",
       "      <td>7.33</td>\n",
       "      <td>7.25</td>\n",
       "      <td>6.92</td>\n",
       "      <td>7.33</td>\n",
       "      <td>7.25</td>\n",
       "      <td>7.33</td>\n",
       "      <td>9.33</td>\n",
       "      <td>10.00</td>\n",
       "      <td>0.10</td>\n",
       "      <td>Green</td>\n",
       "      <td>Bourbon</td>\n",
       "    </tr>\n",
       "    <tr>\n",
       "      <th>578</th>\n",
       "      <td>7.33</td>\n",
       "      <td>7.42</td>\n",
       "      <td>7.33</td>\n",
       "      <td>7.42</td>\n",
       "      <td>7.50</td>\n",
       "      <td>7.42</td>\n",
       "      <td>8.67</td>\n",
       "      <td>9.33</td>\n",
       "      <td>0.10</td>\n",
       "      <td>Green</td>\n",
       "      <td>Bourbon</td>\n",
       "    </tr>\n",
       "    <tr>\n",
       "      <th>579</th>\n",
       "      <td>7.58</td>\n",
       "      <td>7.00</td>\n",
       "      <td>6.75</td>\n",
       "      <td>6.92</td>\n",
       "      <td>7.00</td>\n",
       "      <td>6.92</td>\n",
       "      <td>10.00</td>\n",
       "      <td>10.00</td>\n",
       "      <td>0.11</td>\n",
       "      <td>Green</td>\n",
       "      <td>Catuai</td>\n",
       "    </tr>\n",
       "    <tr>\n",
       "      <th>580</th>\n",
       "      <td>7.58</td>\n",
       "      <td>7.67</td>\n",
       "      <td>7.42</td>\n",
       "      <td>7.42</td>\n",
       "      <td>7.67</td>\n",
       "      <td>7.67</td>\n",
       "      <td>8.67</td>\n",
       "      <td>8.67</td>\n",
       "      <td>0.10</td>\n",
       "      <td>Green</td>\n",
       "      <td>Bourbon</td>\n",
       "    </tr>\n",
       "    <tr>\n",
       "      <th>581</th>\n",
       "      <td>0.00</td>\n",
       "      <td>0.00</td>\n",
       "      <td>0.00</td>\n",
       "      <td>0.00</td>\n",
       "      <td>0.00</td>\n",
       "      <td>0.00</td>\n",
       "      <td>0.00</td>\n",
       "      <td>0.00</td>\n",
       "      <td>0.12</td>\n",
       "      <td>Green</td>\n",
       "      <td>Caturra</td>\n",
       "    </tr>\n",
       "  </tbody>\n",
       "</table>\n",
       "<p>582 rows × 11 columns</p>\n",
       "</div>"
      ],
      "text/plain": [
       "     Data_Scores_Aroma  Data_Scores_Flavor  Data_Scores_Aftertaste  \\\n",
       "0                 8.50                8.50                    8.00   \n",
       "1                 8.50                8.17                    8.00   \n",
       "2                 8.33                8.00                    8.00   \n",
       "3                 8.00                8.00                    8.00   \n",
       "4                 8.00                7.92                    7.75   \n",
       "..                 ...                 ...                     ...   \n",
       "577               7.33                7.25                    6.92   \n",
       "578               7.33                7.42                    7.33   \n",
       "579               7.58                7.00                    6.75   \n",
       "580               7.58                7.67                    7.42   \n",
       "581               0.00                0.00                    0.00   \n",
       "\n",
       "     Data_Scores_Acidity  Data_Scores_Body  Data_Scores_Balance  \\\n",
       "0                   8.00              8.00                 8.00   \n",
       "1                   7.75              8.00                 8.00   \n",
       "2                   8.00              7.75                 8.00   \n",
       "3                   7.67              7.75                 8.00   \n",
       "4                   7.75              8.00                 7.75   \n",
       "..                   ...               ...                  ...   \n",
       "577                 7.33              7.25                 7.33   \n",
       "578                 7.42              7.50                 7.42   \n",
       "579                 6.92              7.00                 6.92   \n",
       "580                 7.42              7.67                 7.67   \n",
       "581                 0.00              0.00                 0.00   \n",
       "\n",
       "     Data_Scores_Uniformity  Data_Scores_Sweetness  Data_Scores_Moisture  \\\n",
       "0                     10.00                  10.00                  0.12   \n",
       "1                     10.00                  10.00                  0.12   \n",
       "2                     10.00                  10.00                  0.11   \n",
       "3                     10.00                  10.00                  0.11   \n",
       "4                     10.00                  10.00                  0.11   \n",
       "..                      ...                    ...                   ...   \n",
       "577                    9.33                  10.00                  0.10   \n",
       "578                    8.67                   9.33                  0.10   \n",
       "579                   10.00                  10.00                  0.11   \n",
       "580                    8.67                   8.67                  0.10   \n",
       "581                    0.00                   0.00                  0.12   \n",
       "\n",
       "     Data_Color Data_Type_Variety  \n",
       "0         Green           Bourbon  \n",
       "1         Green           Bourbon  \n",
       "2    Blue-Green           Bourbon  \n",
       "3    Blue-Green           Bourbon  \n",
       "4         Green           Bourbon  \n",
       "..          ...               ...  \n",
       "577       Green           Bourbon  \n",
       "578       Green           Bourbon  \n",
       "579       Green            Catuai  \n",
       "580       Green           Bourbon  \n",
       "581       Green           Caturra  \n",
       "\n",
       "[582 rows x 11 columns]"
      ]
     },
     "execution_count": 4,
     "metadata": {},
     "output_type": "execute_result"
    }
   ],
   "source": [
    "df_short = df[['Data_Scores_Aroma', 'Data_Scores_Flavor', 'Data_Scores_Aftertaste', 'Data_Scores_Acidity', 'Data_Scores_Body', 'Data_Scores_Balance', 'Data_Scores_Uniformity', 'Data_Scores_Sweetness', 'Data_Scores_Moisture', 'Data_Color', 'Data_Type_Variety']]\n",
    "df_short"
   ]
  },
  {
   "cell_type": "code",
   "execution_count": 5,
   "metadata": {},
   "outputs": [
    {
     "data": {
      "text/html": [
       "<div>\n",
       "<style scoped>\n",
       "    .dataframe tbody tr th:only-of-type {\n",
       "        vertical-align: middle;\n",
       "    }\n",
       "\n",
       "    .dataframe tbody tr th {\n",
       "        vertical-align: top;\n",
       "    }\n",
       "\n",
       "    .dataframe thead th {\n",
       "        text-align: right;\n",
       "    }\n",
       "</style>\n",
       "<table border=\"1\" class=\"dataframe\">\n",
       "  <thead>\n",
       "    <tr style=\"text-align: right;\">\n",
       "      <th></th>\n",
       "      <th>Data_Scores_Aroma</th>\n",
       "      <th>Data_Scores_Flavor</th>\n",
       "      <th>Data_Scores_Aftertaste</th>\n",
       "      <th>Data_Scores_Acidity</th>\n",
       "      <th>Data_Scores_Body</th>\n",
       "      <th>Data_Scores_Balance</th>\n",
       "      <th>Data_Scores_Uniformity</th>\n",
       "      <th>Data_Scores_Sweetness</th>\n",
       "      <th>Data_Scores_Moisture</th>\n",
       "      <th>Data_Color</th>\n",
       "      <th>Data_Type_Variety</th>\n",
       "    </tr>\n",
       "  </thead>\n",
       "  <tbody>\n",
       "    <tr>\n",
       "      <th>0</th>\n",
       "      <td>8.50</td>\n",
       "      <td>8.50</td>\n",
       "      <td>8.00</td>\n",
       "      <td>8.00</td>\n",
       "      <td>8.00</td>\n",
       "      <td>8.00</td>\n",
       "      <td>10.00</td>\n",
       "      <td>10.00</td>\n",
       "      <td>0.12</td>\n",
       "      <td>Green</td>\n",
       "      <td>Bourbon</td>\n",
       "    </tr>\n",
       "    <tr>\n",
       "      <th>1</th>\n",
       "      <td>8.50</td>\n",
       "      <td>8.17</td>\n",
       "      <td>8.00</td>\n",
       "      <td>7.75</td>\n",
       "      <td>8.00</td>\n",
       "      <td>8.00</td>\n",
       "      <td>10.00</td>\n",
       "      <td>10.00</td>\n",
       "      <td>0.12</td>\n",
       "      <td>Green</td>\n",
       "      <td>Bourbon</td>\n",
       "    </tr>\n",
       "    <tr>\n",
       "      <th>2</th>\n",
       "      <td>8.33</td>\n",
       "      <td>8.00</td>\n",
       "      <td>8.00</td>\n",
       "      <td>8.00</td>\n",
       "      <td>7.75</td>\n",
       "      <td>8.00</td>\n",
       "      <td>10.00</td>\n",
       "      <td>10.00</td>\n",
       "      <td>0.11</td>\n",
       "      <td>Blue-Green</td>\n",
       "      <td>Bourbon</td>\n",
       "    </tr>\n",
       "    <tr>\n",
       "      <th>3</th>\n",
       "      <td>8.00</td>\n",
       "      <td>8.00</td>\n",
       "      <td>8.00</td>\n",
       "      <td>7.67</td>\n",
       "      <td>7.75</td>\n",
       "      <td>8.00</td>\n",
       "      <td>10.00</td>\n",
       "      <td>10.00</td>\n",
       "      <td>0.11</td>\n",
       "      <td>Blue-Green</td>\n",
       "      <td>Bourbon</td>\n",
       "    </tr>\n",
       "    <tr>\n",
       "      <th>4</th>\n",
       "      <td>8.00</td>\n",
       "      <td>7.92</td>\n",
       "      <td>7.75</td>\n",
       "      <td>7.75</td>\n",
       "      <td>8.00</td>\n",
       "      <td>7.75</td>\n",
       "      <td>10.00</td>\n",
       "      <td>10.00</td>\n",
       "      <td>0.11</td>\n",
       "      <td>Green</td>\n",
       "      <td>Bourbon</td>\n",
       "    </tr>\n",
       "    <tr>\n",
       "      <th>...</th>\n",
       "      <td>...</td>\n",
       "      <td>...</td>\n",
       "      <td>...</td>\n",
       "      <td>...</td>\n",
       "      <td>...</td>\n",
       "      <td>...</td>\n",
       "      <td>...</td>\n",
       "      <td>...</td>\n",
       "      <td>...</td>\n",
       "      <td>...</td>\n",
       "      <td>...</td>\n",
       "    </tr>\n",
       "    <tr>\n",
       "      <th>577</th>\n",
       "      <td>7.33</td>\n",
       "      <td>7.25</td>\n",
       "      <td>6.92</td>\n",
       "      <td>7.33</td>\n",
       "      <td>7.25</td>\n",
       "      <td>7.33</td>\n",
       "      <td>9.33</td>\n",
       "      <td>10.00</td>\n",
       "      <td>0.10</td>\n",
       "      <td>Green</td>\n",
       "      <td>Bourbon</td>\n",
       "    </tr>\n",
       "    <tr>\n",
       "      <th>578</th>\n",
       "      <td>7.33</td>\n",
       "      <td>7.42</td>\n",
       "      <td>7.33</td>\n",
       "      <td>7.42</td>\n",
       "      <td>7.50</td>\n",
       "      <td>7.42</td>\n",
       "      <td>8.67</td>\n",
       "      <td>9.33</td>\n",
       "      <td>0.10</td>\n",
       "      <td>Green</td>\n",
       "      <td>Bourbon</td>\n",
       "    </tr>\n",
       "    <tr>\n",
       "      <th>579</th>\n",
       "      <td>7.58</td>\n",
       "      <td>7.00</td>\n",
       "      <td>6.75</td>\n",
       "      <td>6.92</td>\n",
       "      <td>7.00</td>\n",
       "      <td>6.92</td>\n",
       "      <td>10.00</td>\n",
       "      <td>10.00</td>\n",
       "      <td>0.11</td>\n",
       "      <td>Green</td>\n",
       "      <td>Catuai</td>\n",
       "    </tr>\n",
       "    <tr>\n",
       "      <th>580</th>\n",
       "      <td>7.58</td>\n",
       "      <td>7.67</td>\n",
       "      <td>7.42</td>\n",
       "      <td>7.42</td>\n",
       "      <td>7.67</td>\n",
       "      <td>7.67</td>\n",
       "      <td>8.67</td>\n",
       "      <td>8.67</td>\n",
       "      <td>0.10</td>\n",
       "      <td>Green</td>\n",
       "      <td>Bourbon</td>\n",
       "    </tr>\n",
       "    <tr>\n",
       "      <th>581</th>\n",
       "      <td>0.00</td>\n",
       "      <td>0.00</td>\n",
       "      <td>0.00</td>\n",
       "      <td>0.00</td>\n",
       "      <td>0.00</td>\n",
       "      <td>0.00</td>\n",
       "      <td>0.00</td>\n",
       "      <td>0.00</td>\n",
       "      <td>0.12</td>\n",
       "      <td>Green</td>\n",
       "      <td>Caturra</td>\n",
       "    </tr>\n",
       "  </tbody>\n",
       "</table>\n",
       "<p>547 rows × 11 columns</p>\n",
       "</div>"
      ],
      "text/plain": [
       "     Data_Scores_Aroma  Data_Scores_Flavor  Data_Scores_Aftertaste  \\\n",
       "0                 8.50                8.50                    8.00   \n",
       "1                 8.50                8.17                    8.00   \n",
       "2                 8.33                8.00                    8.00   \n",
       "3                 8.00                8.00                    8.00   \n",
       "4                 8.00                7.92                    7.75   \n",
       "..                 ...                 ...                     ...   \n",
       "577               7.33                7.25                    6.92   \n",
       "578               7.33                7.42                    7.33   \n",
       "579               7.58                7.00                    6.75   \n",
       "580               7.58                7.67                    7.42   \n",
       "581               0.00                0.00                    0.00   \n",
       "\n",
       "     Data_Scores_Acidity  Data_Scores_Body  Data_Scores_Balance  \\\n",
       "0                   8.00              8.00                 8.00   \n",
       "1                   7.75              8.00                 8.00   \n",
       "2                   8.00              7.75                 8.00   \n",
       "3                   7.67              7.75                 8.00   \n",
       "4                   7.75              8.00                 7.75   \n",
       "..                   ...               ...                  ...   \n",
       "577                 7.33              7.25                 7.33   \n",
       "578                 7.42              7.50                 7.42   \n",
       "579                 6.92              7.00                 6.92   \n",
       "580                 7.42              7.67                 7.67   \n",
       "581                 0.00              0.00                 0.00   \n",
       "\n",
       "     Data_Scores_Uniformity  Data_Scores_Sweetness  Data_Scores_Moisture  \\\n",
       "0                     10.00                  10.00                  0.12   \n",
       "1                     10.00                  10.00                  0.12   \n",
       "2                     10.00                  10.00                  0.11   \n",
       "3                     10.00                  10.00                  0.11   \n",
       "4                     10.00                  10.00                  0.11   \n",
       "..                      ...                    ...                   ...   \n",
       "577                    9.33                  10.00                  0.10   \n",
       "578                    8.67                   9.33                  0.10   \n",
       "579                   10.00                  10.00                  0.11   \n",
       "580                    8.67                   8.67                  0.10   \n",
       "581                    0.00                   0.00                  0.12   \n",
       "\n",
       "     Data_Color Data_Type_Variety  \n",
       "0         Green           Bourbon  \n",
       "1         Green           Bourbon  \n",
       "2    Blue-Green           Bourbon  \n",
       "3    Blue-Green           Bourbon  \n",
       "4         Green           Bourbon  \n",
       "..          ...               ...  \n",
       "577       Green           Bourbon  \n",
       "578       Green           Bourbon  \n",
       "579       Green            Catuai  \n",
       "580       Green           Bourbon  \n",
       "581       Green           Caturra  \n",
       "\n",
       "[547 rows x 11 columns]"
      ]
     },
     "execution_count": 5,
     "metadata": {},
     "output_type": "execute_result"
    }
   ],
   "source": [
    "df_short = df_short.dropna()\n",
    "df_short"
   ]
  },
  {
   "cell_type": "code",
   "execution_count": 6,
   "metadata": {},
   "outputs": [
    {
     "data": {
      "text/plain": [
       "35"
      ]
     },
     "execution_count": 6,
     "metadata": {},
     "output_type": "execute_result"
    }
   ],
   "source": [
    "rows = len(df) - len(df_short)\n",
    "rows"
   ]
  },
  {
   "cell_type": "code",
   "execution_count": null,
   "metadata": {},
   "outputs": [],
   "source": []
  },
  {
   "cell_type": "code",
   "execution_count": null,
   "metadata": {},
   "outputs": [],
   "source": []
  },
  {
   "cell_type": "code",
   "execution_count": null,
   "metadata": {},
   "outputs": [],
   "source": []
  },
  {
   "cell_type": "code",
   "execution_count": null,
   "metadata": {},
   "outputs": [],
   "source": []
  },
  {
   "cell_type": "code",
   "execution_count": null,
   "metadata": {},
   "outputs": [],
   "source": []
  },
  {
   "cell_type": "markdown",
   "metadata": {},
   "source": [
    "### 1.3. Dropping Three Large Outliers\n",
    "\n",
    "This dataset has three prominent outliers.\n",
    "* Two of these outliers are characterized by having dramatically low `Aroma` values that are less than 5.5. \n",
    "* One of these outliers is characterized by having a dramatically low `Acidity` value that is less than 5.5. \n",
    "\n",
    "\n",
    "Drop these three outliers."
   ]
  },
  {
   "cell_type": "code",
   "execution_count": 7,
   "metadata": {},
   "outputs": [
    {
     "data": {
      "text/html": [
       "<div>\n",
       "<style scoped>\n",
       "    .dataframe tbody tr th:only-of-type {\n",
       "        vertical-align: middle;\n",
       "    }\n",
       "\n",
       "    .dataframe tbody tr th {\n",
       "        vertical-align: top;\n",
       "    }\n",
       "\n",
       "    .dataframe thead th {\n",
       "        text-align: right;\n",
       "    }\n",
       "</style>\n",
       "<table border=\"1\" class=\"dataframe\">\n",
       "  <thead>\n",
       "    <tr style=\"text-align: right;\">\n",
       "      <th></th>\n",
       "      <th>Data_Scores_Aroma</th>\n",
       "      <th>Data_Scores_Flavor</th>\n",
       "      <th>Data_Scores_Aftertaste</th>\n",
       "      <th>Data_Scores_Acidity</th>\n",
       "      <th>Data_Scores_Body</th>\n",
       "      <th>Data_Scores_Balance</th>\n",
       "      <th>Data_Scores_Uniformity</th>\n",
       "      <th>Data_Scores_Sweetness</th>\n",
       "      <th>Data_Scores_Moisture</th>\n",
       "      <th>Data_Color</th>\n",
       "      <th>Data_Type_Variety</th>\n",
       "    </tr>\n",
       "  </thead>\n",
       "  <tbody>\n",
       "    <tr>\n",
       "      <th>0</th>\n",
       "      <td>8.50</td>\n",
       "      <td>8.50</td>\n",
       "      <td>8.00</td>\n",
       "      <td>8.00</td>\n",
       "      <td>8.00</td>\n",
       "      <td>8.00</td>\n",
       "      <td>10.00</td>\n",
       "      <td>10.00</td>\n",
       "      <td>0.12</td>\n",
       "      <td>Green</td>\n",
       "      <td>Bourbon</td>\n",
       "    </tr>\n",
       "    <tr>\n",
       "      <th>1</th>\n",
       "      <td>8.50</td>\n",
       "      <td>8.17</td>\n",
       "      <td>8.00</td>\n",
       "      <td>7.75</td>\n",
       "      <td>8.00</td>\n",
       "      <td>8.00</td>\n",
       "      <td>10.00</td>\n",
       "      <td>10.00</td>\n",
       "      <td>0.12</td>\n",
       "      <td>Green</td>\n",
       "      <td>Bourbon</td>\n",
       "    </tr>\n",
       "    <tr>\n",
       "      <th>2</th>\n",
       "      <td>8.33</td>\n",
       "      <td>8.00</td>\n",
       "      <td>8.00</td>\n",
       "      <td>8.00</td>\n",
       "      <td>7.75</td>\n",
       "      <td>8.00</td>\n",
       "      <td>10.00</td>\n",
       "      <td>10.00</td>\n",
       "      <td>0.11</td>\n",
       "      <td>Blue-Green</td>\n",
       "      <td>Bourbon</td>\n",
       "    </tr>\n",
       "    <tr>\n",
       "      <th>3</th>\n",
       "      <td>8.00</td>\n",
       "      <td>8.00</td>\n",
       "      <td>8.00</td>\n",
       "      <td>7.67</td>\n",
       "      <td>7.75</td>\n",
       "      <td>8.00</td>\n",
       "      <td>10.00</td>\n",
       "      <td>10.00</td>\n",
       "      <td>0.11</td>\n",
       "      <td>Blue-Green</td>\n",
       "      <td>Bourbon</td>\n",
       "    </tr>\n",
       "    <tr>\n",
       "      <th>4</th>\n",
       "      <td>8.00</td>\n",
       "      <td>7.92</td>\n",
       "      <td>7.75</td>\n",
       "      <td>7.75</td>\n",
       "      <td>8.00</td>\n",
       "      <td>7.75</td>\n",
       "      <td>10.00</td>\n",
       "      <td>10.00</td>\n",
       "      <td>0.11</td>\n",
       "      <td>Green</td>\n",
       "      <td>Bourbon</td>\n",
       "    </tr>\n",
       "    <tr>\n",
       "      <th>...</th>\n",
       "      <td>...</td>\n",
       "      <td>...</td>\n",
       "      <td>...</td>\n",
       "      <td>...</td>\n",
       "      <td>...</td>\n",
       "      <td>...</td>\n",
       "      <td>...</td>\n",
       "      <td>...</td>\n",
       "      <td>...</td>\n",
       "      <td>...</td>\n",
       "      <td>...</td>\n",
       "    </tr>\n",
       "    <tr>\n",
       "      <th>576</th>\n",
       "      <td>7.33</td>\n",
       "      <td>7.08</td>\n",
       "      <td>6.92</td>\n",
       "      <td>7.08</td>\n",
       "      <td>7.42</td>\n",
       "      <td>7.17</td>\n",
       "      <td>10.00</td>\n",
       "      <td>10.00</td>\n",
       "      <td>0.10</td>\n",
       "      <td>Green</td>\n",
       "      <td>Caturra</td>\n",
       "    </tr>\n",
       "    <tr>\n",
       "      <th>577</th>\n",
       "      <td>7.33</td>\n",
       "      <td>7.25</td>\n",
       "      <td>6.92</td>\n",
       "      <td>7.33</td>\n",
       "      <td>7.25</td>\n",
       "      <td>7.33</td>\n",
       "      <td>9.33</td>\n",
       "      <td>10.00</td>\n",
       "      <td>0.10</td>\n",
       "      <td>Green</td>\n",
       "      <td>Bourbon</td>\n",
       "    </tr>\n",
       "    <tr>\n",
       "      <th>578</th>\n",
       "      <td>7.33</td>\n",
       "      <td>7.42</td>\n",
       "      <td>7.33</td>\n",
       "      <td>7.42</td>\n",
       "      <td>7.50</td>\n",
       "      <td>7.42</td>\n",
       "      <td>8.67</td>\n",
       "      <td>9.33</td>\n",
       "      <td>0.10</td>\n",
       "      <td>Green</td>\n",
       "      <td>Bourbon</td>\n",
       "    </tr>\n",
       "    <tr>\n",
       "      <th>579</th>\n",
       "      <td>7.58</td>\n",
       "      <td>7.00</td>\n",
       "      <td>6.75</td>\n",
       "      <td>6.92</td>\n",
       "      <td>7.00</td>\n",
       "      <td>6.92</td>\n",
       "      <td>10.00</td>\n",
       "      <td>10.00</td>\n",
       "      <td>0.11</td>\n",
       "      <td>Green</td>\n",
       "      <td>Catuai</td>\n",
       "    </tr>\n",
       "    <tr>\n",
       "      <th>580</th>\n",
       "      <td>7.58</td>\n",
       "      <td>7.67</td>\n",
       "      <td>7.42</td>\n",
       "      <td>7.42</td>\n",
       "      <td>7.67</td>\n",
       "      <td>7.67</td>\n",
       "      <td>8.67</td>\n",
       "      <td>8.67</td>\n",
       "      <td>0.10</td>\n",
       "      <td>Green</td>\n",
       "      <td>Bourbon</td>\n",
       "    </tr>\n",
       "  </tbody>\n",
       "</table>\n",
       "<p>544 rows × 11 columns</p>\n",
       "</div>"
      ],
      "text/plain": [
       "     Data_Scores_Aroma  Data_Scores_Flavor  Data_Scores_Aftertaste  \\\n",
       "0                 8.50                8.50                    8.00   \n",
       "1                 8.50                8.17                    8.00   \n",
       "2                 8.33                8.00                    8.00   \n",
       "3                 8.00                8.00                    8.00   \n",
       "4                 8.00                7.92                    7.75   \n",
       "..                 ...                 ...                     ...   \n",
       "576               7.33                7.08                    6.92   \n",
       "577               7.33                7.25                    6.92   \n",
       "578               7.33                7.42                    7.33   \n",
       "579               7.58                7.00                    6.75   \n",
       "580               7.58                7.67                    7.42   \n",
       "\n",
       "     Data_Scores_Acidity  Data_Scores_Body  Data_Scores_Balance  \\\n",
       "0                   8.00              8.00                 8.00   \n",
       "1                   7.75              8.00                 8.00   \n",
       "2                   8.00              7.75                 8.00   \n",
       "3                   7.67              7.75                 8.00   \n",
       "4                   7.75              8.00                 7.75   \n",
       "..                   ...               ...                  ...   \n",
       "576                 7.08              7.42                 7.17   \n",
       "577                 7.33              7.25                 7.33   \n",
       "578                 7.42              7.50                 7.42   \n",
       "579                 6.92              7.00                 6.92   \n",
       "580                 7.42              7.67                 7.67   \n",
       "\n",
       "     Data_Scores_Uniformity  Data_Scores_Sweetness  Data_Scores_Moisture  \\\n",
       "0                     10.00                  10.00                  0.12   \n",
       "1                     10.00                  10.00                  0.12   \n",
       "2                     10.00                  10.00                  0.11   \n",
       "3                     10.00                  10.00                  0.11   \n",
       "4                     10.00                  10.00                  0.11   \n",
       "..                      ...                    ...                   ...   \n",
       "576                   10.00                  10.00                  0.10   \n",
       "577                    9.33                  10.00                  0.10   \n",
       "578                    8.67                   9.33                  0.10   \n",
       "579                   10.00                  10.00                  0.11   \n",
       "580                    8.67                   8.67                  0.10   \n",
       "\n",
       "     Data_Color Data_Type_Variety  \n",
       "0         Green           Bourbon  \n",
       "1         Green           Bourbon  \n",
       "2    Blue-Green           Bourbon  \n",
       "3    Blue-Green           Bourbon  \n",
       "4         Green           Bourbon  \n",
       "..          ...               ...  \n",
       "576       Green           Caturra  \n",
       "577       Green           Bourbon  \n",
       "578       Green           Bourbon  \n",
       "579       Green            Catuai  \n",
       "580       Green           Bourbon  \n",
       "\n",
       "[544 rows x 11 columns]"
      ]
     },
     "execution_count": 7,
     "metadata": {},
     "output_type": "execute_result"
    }
   ],
   "source": [
    "df_short = df_short[(df_short.Data_Scores_Aroma >= 5.5) & (df_short.Data_Scores_Acidity >= 5.5)]\n",
    "df_short"
   ]
  },
  {
   "cell_type": "markdown",
   "metadata": {},
   "source": [
    "### 1.4. Implicit Missing Values in the Categorical Variables\n",
    "\n",
    "1. Do you have any reason to believe that there are some implicit missing values in the categorical variables that we intend to use?\n",
    "2. If so, drop all rows that have these missing values."
   ]
  },
  {
   "cell_type": "code",
   "execution_count": 8,
   "metadata": {},
   "outputs": [
    {
     "data": {
      "text/plain": [
       "Data_Scores_Aroma         float64\n",
       "Data_Scores_Flavor        float64\n",
       "Data_Scores_Aftertaste    float64\n",
       "Data_Scores_Acidity       float64\n",
       "Data_Scores_Body          float64\n",
       "Data_Scores_Balance       float64\n",
       "Data_Scores_Uniformity    float64\n",
       "Data_Scores_Sweetness     float64\n",
       "Data_Scores_Moisture      float64\n",
       "Data_Color                 object\n",
       "Data_Type_Variety          object\n",
       "dtype: object"
      ]
     },
     "execution_count": 8,
     "metadata": {},
     "output_type": "execute_result"
    }
   ],
   "source": [
    "df_short.dtypes"
   ]
  },
  {
   "cell_type": "code",
   "execution_count": 9,
   "metadata": {},
   "outputs": [
    {
     "data": {
      "text/plain": [
       "array(['Green', 'Blue-Green', 'Bluish-Green', 'Unknown'], dtype=object)"
      ]
     },
     "execution_count": 9,
     "metadata": {},
     "output_type": "execute_result"
    }
   ],
   "source": [
    "df_short['Data_Color'].unique()"
   ]
  },
  {
   "cell_type": "code",
   "execution_count": 10,
   "metadata": {},
   "outputs": [
    {
     "data": {
      "text/html": [
       "<div>\n",
       "<style scoped>\n",
       "    .dataframe tbody tr th:only-of-type {\n",
       "        vertical-align: middle;\n",
       "    }\n",
       "\n",
       "    .dataframe tbody tr th {\n",
       "        vertical-align: top;\n",
       "    }\n",
       "\n",
       "    .dataframe thead th {\n",
       "        text-align: right;\n",
       "    }\n",
       "</style>\n",
       "<table border=\"1\" class=\"dataframe\">\n",
       "  <thead>\n",
       "    <tr style=\"text-align: right;\">\n",
       "      <th></th>\n",
       "      <th>Data_Scores_Aroma</th>\n",
       "      <th>Data_Scores_Flavor</th>\n",
       "      <th>Data_Scores_Aftertaste</th>\n",
       "      <th>Data_Scores_Acidity</th>\n",
       "      <th>Data_Scores_Body</th>\n",
       "      <th>Data_Scores_Balance</th>\n",
       "      <th>Data_Scores_Uniformity</th>\n",
       "      <th>Data_Scores_Sweetness</th>\n",
       "      <th>Data_Scores_Moisture</th>\n",
       "      <th>Data_Color</th>\n",
       "      <th>Data_Type_Variety</th>\n",
       "    </tr>\n",
       "  </thead>\n",
       "  <tbody>\n",
       "    <tr>\n",
       "      <th>0</th>\n",
       "      <td>8.50</td>\n",
       "      <td>8.50</td>\n",
       "      <td>8.00</td>\n",
       "      <td>8.00</td>\n",
       "      <td>8.00</td>\n",
       "      <td>8.00</td>\n",
       "      <td>10.00</td>\n",
       "      <td>10.00</td>\n",
       "      <td>0.12</td>\n",
       "      <td>Green</td>\n",
       "      <td>Bourbon</td>\n",
       "    </tr>\n",
       "    <tr>\n",
       "      <th>1</th>\n",
       "      <td>8.50</td>\n",
       "      <td>8.17</td>\n",
       "      <td>8.00</td>\n",
       "      <td>7.75</td>\n",
       "      <td>8.00</td>\n",
       "      <td>8.00</td>\n",
       "      <td>10.00</td>\n",
       "      <td>10.00</td>\n",
       "      <td>0.12</td>\n",
       "      <td>Green</td>\n",
       "      <td>Bourbon</td>\n",
       "    </tr>\n",
       "    <tr>\n",
       "      <th>2</th>\n",
       "      <td>8.33</td>\n",
       "      <td>8.00</td>\n",
       "      <td>8.00</td>\n",
       "      <td>8.00</td>\n",
       "      <td>7.75</td>\n",
       "      <td>8.00</td>\n",
       "      <td>10.00</td>\n",
       "      <td>10.00</td>\n",
       "      <td>0.11</td>\n",
       "      <td>Blue-Green</td>\n",
       "      <td>Bourbon</td>\n",
       "    </tr>\n",
       "    <tr>\n",
       "      <th>3</th>\n",
       "      <td>8.00</td>\n",
       "      <td>8.00</td>\n",
       "      <td>8.00</td>\n",
       "      <td>7.67</td>\n",
       "      <td>7.75</td>\n",
       "      <td>8.00</td>\n",
       "      <td>10.00</td>\n",
       "      <td>10.00</td>\n",
       "      <td>0.11</td>\n",
       "      <td>Blue-Green</td>\n",
       "      <td>Bourbon</td>\n",
       "    </tr>\n",
       "    <tr>\n",
       "      <th>4</th>\n",
       "      <td>8.00</td>\n",
       "      <td>7.92</td>\n",
       "      <td>7.75</td>\n",
       "      <td>7.75</td>\n",
       "      <td>8.00</td>\n",
       "      <td>7.75</td>\n",
       "      <td>10.00</td>\n",
       "      <td>10.00</td>\n",
       "      <td>0.11</td>\n",
       "      <td>Green</td>\n",
       "      <td>Bourbon</td>\n",
       "    </tr>\n",
       "    <tr>\n",
       "      <th>...</th>\n",
       "      <td>...</td>\n",
       "      <td>...</td>\n",
       "      <td>...</td>\n",
       "      <td>...</td>\n",
       "      <td>...</td>\n",
       "      <td>...</td>\n",
       "      <td>...</td>\n",
       "      <td>...</td>\n",
       "      <td>...</td>\n",
       "      <td>...</td>\n",
       "      <td>...</td>\n",
       "    </tr>\n",
       "    <tr>\n",
       "      <th>576</th>\n",
       "      <td>7.33</td>\n",
       "      <td>7.08</td>\n",
       "      <td>6.92</td>\n",
       "      <td>7.08</td>\n",
       "      <td>7.42</td>\n",
       "      <td>7.17</td>\n",
       "      <td>10.00</td>\n",
       "      <td>10.00</td>\n",
       "      <td>0.10</td>\n",
       "      <td>Green</td>\n",
       "      <td>Caturra</td>\n",
       "    </tr>\n",
       "    <tr>\n",
       "      <th>577</th>\n",
       "      <td>7.33</td>\n",
       "      <td>7.25</td>\n",
       "      <td>6.92</td>\n",
       "      <td>7.33</td>\n",
       "      <td>7.25</td>\n",
       "      <td>7.33</td>\n",
       "      <td>9.33</td>\n",
       "      <td>10.00</td>\n",
       "      <td>0.10</td>\n",
       "      <td>Green</td>\n",
       "      <td>Bourbon</td>\n",
       "    </tr>\n",
       "    <tr>\n",
       "      <th>578</th>\n",
       "      <td>7.33</td>\n",
       "      <td>7.42</td>\n",
       "      <td>7.33</td>\n",
       "      <td>7.42</td>\n",
       "      <td>7.50</td>\n",
       "      <td>7.42</td>\n",
       "      <td>8.67</td>\n",
       "      <td>9.33</td>\n",
       "      <td>0.10</td>\n",
       "      <td>Green</td>\n",
       "      <td>Bourbon</td>\n",
       "    </tr>\n",
       "    <tr>\n",
       "      <th>579</th>\n",
       "      <td>7.58</td>\n",
       "      <td>7.00</td>\n",
       "      <td>6.75</td>\n",
       "      <td>6.92</td>\n",
       "      <td>7.00</td>\n",
       "      <td>6.92</td>\n",
       "      <td>10.00</td>\n",
       "      <td>10.00</td>\n",
       "      <td>0.11</td>\n",
       "      <td>Green</td>\n",
       "      <td>Catuai</td>\n",
       "    </tr>\n",
       "    <tr>\n",
       "      <th>580</th>\n",
       "      <td>7.58</td>\n",
       "      <td>7.67</td>\n",
       "      <td>7.42</td>\n",
       "      <td>7.42</td>\n",
       "      <td>7.67</td>\n",
       "      <td>7.67</td>\n",
       "      <td>8.67</td>\n",
       "      <td>8.67</td>\n",
       "      <td>0.10</td>\n",
       "      <td>Green</td>\n",
       "      <td>Bourbon</td>\n",
       "    </tr>\n",
       "  </tbody>\n",
       "</table>\n",
       "<p>504 rows × 11 columns</p>\n",
       "</div>"
      ],
      "text/plain": [
       "     Data_Scores_Aroma  Data_Scores_Flavor  Data_Scores_Aftertaste  \\\n",
       "0                 8.50                8.50                    8.00   \n",
       "1                 8.50                8.17                    8.00   \n",
       "2                 8.33                8.00                    8.00   \n",
       "3                 8.00                8.00                    8.00   \n",
       "4                 8.00                7.92                    7.75   \n",
       "..                 ...                 ...                     ...   \n",
       "576               7.33                7.08                    6.92   \n",
       "577               7.33                7.25                    6.92   \n",
       "578               7.33                7.42                    7.33   \n",
       "579               7.58                7.00                    6.75   \n",
       "580               7.58                7.67                    7.42   \n",
       "\n",
       "     Data_Scores_Acidity  Data_Scores_Body  Data_Scores_Balance  \\\n",
       "0                   8.00              8.00                 8.00   \n",
       "1                   7.75              8.00                 8.00   \n",
       "2                   8.00              7.75                 8.00   \n",
       "3                   7.67              7.75                 8.00   \n",
       "4                   7.75              8.00                 7.75   \n",
       "..                   ...               ...                  ...   \n",
       "576                 7.08              7.42                 7.17   \n",
       "577                 7.33              7.25                 7.33   \n",
       "578                 7.42              7.50                 7.42   \n",
       "579                 6.92              7.00                 6.92   \n",
       "580                 7.42              7.67                 7.67   \n",
       "\n",
       "     Data_Scores_Uniformity  Data_Scores_Sweetness  Data_Scores_Moisture  \\\n",
       "0                     10.00                  10.00                  0.12   \n",
       "1                     10.00                  10.00                  0.12   \n",
       "2                     10.00                  10.00                  0.11   \n",
       "3                     10.00                  10.00                  0.11   \n",
       "4                     10.00                  10.00                  0.11   \n",
       "..                      ...                    ...                   ...   \n",
       "576                   10.00                  10.00                  0.10   \n",
       "577                    9.33                  10.00                  0.10   \n",
       "578                    8.67                   9.33                  0.10   \n",
       "579                   10.00                  10.00                  0.11   \n",
       "580                    8.67                   8.67                  0.10   \n",
       "\n",
       "     Data_Color Data_Type_Variety  \n",
       "0         Green           Bourbon  \n",
       "1         Green           Bourbon  \n",
       "2    Blue-Green           Bourbon  \n",
       "3    Blue-Green           Bourbon  \n",
       "4         Green           Bourbon  \n",
       "..          ...               ...  \n",
       "576       Green           Caturra  \n",
       "577       Green           Bourbon  \n",
       "578       Green           Bourbon  \n",
       "579       Green            Catuai  \n",
       "580       Green           Bourbon  \n",
       "\n",
       "[504 rows x 11 columns]"
      ]
     },
     "execution_count": 10,
     "metadata": {},
     "output_type": "execute_result"
    }
   ],
   "source": [
    "new_df = df_short[df_short.Data_Color != \"Unknown\"]\n",
    "new_df"
   ]
  },
  {
   "cell_type": "markdown",
   "metadata": {},
   "source": [
    "## 2. <u>Research Question</u>: Most Independent Predictive Power\n",
    "\n",
    "We would first like to answer the following research question using the *full dataset*.\n",
    "\n",
    "`Which explanatory variable in this list brings the most amount of predictive power to the model by itself?`\n",
    "\n",
    "### 2.1. 10 Candidate Models\n",
    "\n",
    "Create 10 simple linear regression candidate models.\n",
    "\n",
    "* One that predicts `Aroma` with `Flavor`\n",
    "* One that predicts `Aroma` with `Aftertaste`\n",
    "* One that predicts `Aroma` with `Acidity`\n",
    "* One that predicts `Aroma` with`Body`\n",
    "* One that predicts `Aroma` with `Balance`\n",
    "* One that predicts `Aroma` with `Uniformity`\n",
    "* One that predicts `Aroma` with `Sweetness`\n",
    "* One that predicts `Aroma` with `Moisture`\n",
    "* One that predicts `Aroma` with `Color`\n",
    "* One that predicts `Aroma` with `Variety`\n",
    "\n",
    "Calculate/show the R^2 for each of these models."
   ]
  },
  {
   "cell_type": "code",
   "execution_count": 11,
   "metadata": {},
   "outputs": [],
   "source": [
    "import statsmodels.formula.api as smf"
   ]
  },
  {
   "cell_type": "code",
   "execution_count": 12,
   "metadata": {},
   "outputs": [
    {
     "data": {
      "text/plain": [
       "0.7202433986248682"
      ]
     },
     "execution_count": 12,
     "metadata": {},
     "output_type": "execute_result"
    }
   ],
   "source": [
    "flavor_model = smf.ols(formula='Data_Scores_Aroma~Data_Scores_Flavor', data=df).fit()\n",
    "flavor_model.rsquared"
   ]
  },
  {
   "cell_type": "code",
   "execution_count": 13,
   "metadata": {},
   "outputs": [
    {
     "data": {
      "text/plain": [
       "0.6636606218802588"
      ]
     },
     "execution_count": 13,
     "metadata": {},
     "output_type": "execute_result"
    }
   ],
   "source": [
    "aftertaste_model = smf.ols(formula='Data_Scores_Aroma~Data_Scores_Aftertaste', data=df).fit()\n",
    "aftertaste_model.rsquared"
   ]
  },
  {
   "cell_type": "code",
   "execution_count": 14,
   "metadata": {},
   "outputs": [
    {
     "data": {
      "text/plain": [
       "0.5995597378570516"
      ]
     },
     "execution_count": 14,
     "metadata": {},
     "output_type": "execute_result"
    }
   ],
   "source": [
    "acidity_model = smf.ols(formula='Data_Scores_Aroma~Data_Scores_Acidity', data=df).fit()\n",
    "acidity_model.rsquared"
   ]
  },
  {
   "cell_type": "code",
   "execution_count": 15,
   "metadata": {},
   "outputs": [
    {
     "data": {
      "text/plain": [
       "0.6125799200066135"
      ]
     },
     "execution_count": 15,
     "metadata": {},
     "output_type": "execute_result"
    }
   ],
   "source": [
    "body_model = smf.ols(formula='Data_Scores_Aroma~Data_Scores_Body', data=df).fit()\n",
    "body_model.rsquared"
   ]
  },
  {
   "cell_type": "code",
   "execution_count": 16,
   "metadata": {},
   "outputs": [
    {
     "data": {
      "text/plain": [
       "0.6501466949033345"
      ]
     },
     "execution_count": 16,
     "metadata": {},
     "output_type": "execute_result"
    }
   ],
   "source": [
    "balance_model = smf.ols(formula='Data_Scores_Aroma~Data_Scores_Balance', data=df).fit()\n",
    "balance_model.rsquared"
   ]
  },
  {
   "cell_type": "code",
   "execution_count": 17,
   "metadata": {},
   "outputs": [
    {
     "data": {
      "text/plain": [
       "0.3105450818896103"
      ]
     },
     "execution_count": 17,
     "metadata": {},
     "output_type": "execute_result"
    }
   ],
   "source": [
    "uniformity_model = smf.ols(formula='Data_Scores_Aroma~Data_Scores_Uniformity', data=df).fit()\n",
    "uniformity_model.rsquared"
   ]
  },
  {
   "cell_type": "code",
   "execution_count": 18,
   "metadata": {},
   "outputs": [
    {
     "data": {
      "text/plain": [
       "0.014976268949928873"
      ]
     },
     "execution_count": 18,
     "metadata": {},
     "output_type": "execute_result"
    }
   ],
   "source": [
    "moisture_model = smf.ols(formula='Data_Scores_Aroma~Data_Scores_Moisture', data=df).fit()\n",
    "moisture_model.rsquared"
   ]
  },
  {
   "cell_type": "code",
   "execution_count": 19,
   "metadata": {},
   "outputs": [
    {
     "data": {
      "text/plain": [
       "0.27116570048315203"
      ]
     },
     "execution_count": 19,
     "metadata": {},
     "output_type": "execute_result"
    }
   ],
   "source": [
    "sweetness_model = smf.ols(formula='Data_Scores_Aroma~Data_Scores_Sweetness', data=df).fit()\n",
    "sweetness_model.rsquared"
   ]
  },
  {
   "cell_type": "code",
   "execution_count": 20,
   "metadata": {},
   "outputs": [
    {
     "data": {
      "text/plain": [
       "0.016643783845659232"
      ]
     },
     "execution_count": 20,
     "metadata": {},
     "output_type": "execute_result"
    }
   ],
   "source": [
    "color_model = smf.ols(formula='Data_Scores_Aroma~Data_Color', data=df).fit()\n",
    "color_model.rsquared"
   ]
  },
  {
   "cell_type": "code",
   "execution_count": 21,
   "metadata": {},
   "outputs": [
    {
     "data": {
      "text/plain": [
       "0.011049409996538695"
      ]
     },
     "execution_count": 21,
     "metadata": {},
     "output_type": "execute_result"
    }
   ],
   "source": [
    "variety_model = smf.ols(formula='Data_Scores_Aroma~Data_Type_Variety', data=df).fit()\n",
    "variety_model.rsquared"
   ]
  },
  {
   "cell_type": "markdown",
   "metadata": {},
   "source": [
    "### 2.2. Answer\n",
    "\n",
    "Use your analyses from 2.1 to answer the research question."
   ]
  },
  {
   "cell_type": "markdown",
   "metadata": {},
   "source": [
    "Flavour is the best"
   ]
  },
  {
   "cell_type": "markdown",
   "metadata": {},
   "source": [
    "## 3. Most Additional Predictive Power\n",
    "\n",
    "We would next like to answer the following research question using the *full dataset*.\n",
    "\n",
    "\n",
    "`Which explanatory variable in this list brings the second most amount of predictive power to the model in addition to the variable that brings the most power`?\n",
    "\n",
    "### 3.1. 9 Candidate Models\n",
    "\n",
    "Create 9 linear regression candidate models.\n",
    "\n",
    "* One that predicts `Aroma` with `Aftertaste` and the `variable you selected in 2.1`\n",
    "* ...\n",
    "* One that predicts `Aroma` with `Color` and the `variable you selected in 2.1`\n",
    "* One that predicts `Aroma` with `Variety` and the `variable you selected in 2.1`\n",
    "\n",
    "*(Or in other words each candidate model should include the explanatory variable that you selected in 2.1 and one other available explanatory variable in the list).*\n",
    "\n",
    "Calculate/show the R^2 for each of these models."
   ]
  },
  {
   "cell_type": "code",
   "execution_count": 22,
   "metadata": {},
   "outputs": [
    {
     "data": {
      "text/plain": [
       "0.7262101460118672"
      ]
     },
     "execution_count": 22,
     "metadata": {},
     "output_type": "execute_result"
    }
   ],
   "source": [
    "aftertaste_model = smf.ols(formula='Data_Scores_Aroma~Data_Scores_Aftertaste+Data_Scores_Flavor', data=df).fit()\n",
    "aftertaste_model.rsquared"
   ]
  },
  {
   "cell_type": "code",
   "execution_count": 23,
   "metadata": {},
   "outputs": [
    {
     "data": {
      "text/plain": [
       "0.7300425437774924"
      ]
     },
     "execution_count": 23,
     "metadata": {},
     "output_type": "execute_result"
    }
   ],
   "source": [
    "acidity_model = smf.ols(formula='Data_Scores_Aroma~Data_Scores_Acidity+Data_Scores_Flavor', data=df).fit()\n",
    "acidity_model.rsquared"
   ]
  },
  {
   "cell_type": "code",
   "execution_count": 24,
   "metadata": {},
   "outputs": [
    {
     "data": {
      "text/plain": [
       "0.7401782423485951"
      ]
     },
     "execution_count": 24,
     "metadata": {},
     "output_type": "execute_result"
    }
   ],
   "source": [
    "body_model = smf.ols(formula='Data_Scores_Aroma~Data_Scores_Body+Data_Scores_Flavor', data=df).fit()\n",
    "body_model.rsquared"
   ]
  },
  {
   "cell_type": "code",
   "execution_count": 25,
   "metadata": {},
   "outputs": [
    {
     "data": {
      "text/plain": [
       "0.737266390944448"
      ]
     },
     "execution_count": 25,
     "metadata": {},
     "output_type": "execute_result"
    }
   ],
   "source": [
    "balance_model = smf.ols(formula='Data_Scores_Aroma~Data_Scores_Balance+Data_Scores_Flavor', data=df).fit()\n",
    "balance_model.rsquared"
   ]
  },
  {
   "cell_type": "code",
   "execution_count": 26,
   "metadata": {},
   "outputs": [
    {
     "data": {
      "text/plain": [
       "0.7258331127478828"
      ]
     },
     "execution_count": 26,
     "metadata": {},
     "output_type": "execute_result"
    }
   ],
   "source": [
    "uniformity_model = smf.ols(formula='Data_Scores_Aroma~Data_Scores_Uniformity+Data_Scores_Flavor', data=df).fit()\n",
    "uniformity_model.rsquared"
   ]
  },
  {
   "cell_type": "code",
   "execution_count": 27,
   "metadata": {},
   "outputs": [
    {
     "data": {
      "text/plain": [
       "0.7203571848071764"
      ]
     },
     "execution_count": 27,
     "metadata": {},
     "output_type": "execute_result"
    }
   ],
   "source": [
    "moisture_model = smf.ols(formula='Data_Scores_Aroma~Data_Scores_Moisture+Data_Scores_Flavor', data=df).fit()\n",
    "moisture_model.rsquared"
   ]
  },
  {
   "cell_type": "code",
   "execution_count": 28,
   "metadata": {},
   "outputs": [
    {
     "data": {
      "text/plain": [
       "0.7232600412218013"
      ]
     },
     "execution_count": 28,
     "metadata": {},
     "output_type": "execute_result"
    }
   ],
   "source": [
    "sweetness_model = smf.ols(formula='Data_Scores_Aroma~Data_Scores_Sweetness+Data_Scores_Flavor', data=df).fit()\n",
    "sweetness_model.rsquared"
   ]
  },
  {
   "cell_type": "code",
   "execution_count": 29,
   "metadata": {},
   "outputs": [
    {
     "data": {
      "text/plain": [
       "0.7253484146627278"
      ]
     },
     "execution_count": 29,
     "metadata": {},
     "output_type": "execute_result"
    }
   ],
   "source": [
    "color_model = smf.ols(formula='Data_Scores_Aroma~Data_Color+Data_Scores_Flavor', data=df).fit()\n",
    "color_model.rsquared"
   ]
  },
  {
   "cell_type": "code",
   "execution_count": 30,
   "metadata": {},
   "outputs": [
    {
     "data": {
      "text/plain": [
       "0.7204872664750677"
      ]
     },
     "execution_count": 30,
     "metadata": {},
     "output_type": "execute_result"
    }
   ],
   "source": [
    "variety_model = smf.ols(formula='Data_Scores_Aroma~Data_Type_Variety+Data_Scores_Flavor', data=df).fit()\n",
    "variety_model.rsquared"
   ]
  },
  {
   "cell_type": "markdown",
   "metadata": {},
   "source": [
    "### 3.2. Answer\n",
    "\n",
    "Use your analyses from 3.1 to answer the research question."
   ]
  },
  {
   "cell_type": "markdown",
   "metadata": {},
   "source": [
    "Body is the second best"
   ]
  },
  {
   "cell_type": "markdown",
   "metadata": {},
   "source": [
    "## 4. Least Amount of Predictive Power (Considering All other Variables)\n",
    "\n",
    "Finally, we'd like to answer the following research question using the *full dataset*.\n",
    "\n",
    "`In the presence of ALL of the available explanatory variables, which explanatory variable brings the *least* amount of predictive power to the model?`\n",
    "\n",
    "### 4.1. 10 Candidate Models\n",
    "\n",
    "Create 10 candidate models.\n",
    "\n",
    "* One that predicts `Aroma` with all explanatory variables except for `Flavor`\n",
    "* One that predicts `Aroma` with all explanatory variables except for `Aftertaste`\n",
    "* One that predicts `Aroma` with all explanatory variables except for `Acidity`\n",
    "* One that predicts `Aroma` with all explanatory variables except for`Body`\n",
    "* One that predicts `Aroma` with all explanatory variables except for `Balance`\n",
    "* One that predicts `Aroma` with all explanatory variables except for `Uniformity`\n",
    "* One that predicts `Aroma` with all explanatory variables except for `Sweetness`\n",
    "* One that predicts `Aroma` with all explanatory variables except for `Moisture`\n",
    "* One that predicts `Aroma` with all explanatory variables except for `Color`\n",
    "* One that predicts `Aroma` with all explanatory variables except for `Variety`\n",
    "\n",
    "Calculate the R^2 for each of these models."
   ]
  },
  {
   "cell_type": "code",
   "execution_count": 31,
   "metadata": {},
   "outputs": [
    {
     "data": {
      "text/plain": [
       "0.735161059339074"
      ]
     },
     "execution_count": 31,
     "metadata": {},
     "output_type": "execute_result"
    }
   ],
   "source": [
    "flavor_model = smf.ols(formula='Data_Scores_Aroma~Data_Scores_Aftertaste+Data_Scores_Acidity+Data_Scores_Body+Data_Scores_Balance+Data_Scores_Uniformity+Data_Scores_Moisture+Data_Scores_Sweetness+Data_Color+Data_Type_Variety', data=df).fit()\n",
    "flavor_model.rsquared"
   ]
  },
  {
   "cell_type": "code",
   "execution_count": 32,
   "metadata": {},
   "outputs": [
    {
     "data": {
      "text/plain": [
       "0.7592458339427064"
      ]
     },
     "execution_count": 32,
     "metadata": {},
     "output_type": "execute_result"
    }
   ],
   "source": [
    "aftertaste_model =  smf.ols(formula='Data_Scores_Aroma~Data_Scores_Flavor+Data_Scores_Acidity+Data_Scores_Body+Data_Scores_Balance+Data_Scores_Uniformity+Data_Scores_Moisture+Data_Scores_Sweetness+Data_Color+Data_Type_Variety', data=df).fit()\n",
    "aftertaste_model.rsquared"
   ]
  },
  {
   "cell_type": "code",
   "execution_count": 33,
   "metadata": {},
   "outputs": [
    {
     "data": {
      "text/plain": [
       "0.7582186695296255"
      ]
     },
     "execution_count": 33,
     "metadata": {},
     "output_type": "execute_result"
    }
   ],
   "source": [
    "acidity_model =  smf.ols(formula='Data_Scores_Aroma~Data_Scores_Flavor+Data_Scores_Aftertaste+Data_Scores_Body+Data_Scores_Balance+Data_Scores_Uniformity+Data_Scores_Moisture+Data_Scores_Sweetness+Data_Color+Data_Type_Variety', data=df).fit()\n",
    "acidity_model.rsquared"
   ]
  },
  {
   "cell_type": "code",
   "execution_count": 34,
   "metadata": {},
   "outputs": [
    {
     "data": {
      "text/plain": [
       "0.7522490360581943"
      ]
     },
     "execution_count": 34,
     "metadata": {},
     "output_type": "execute_result"
    }
   ],
   "source": [
    "body_model = smf.ols(formula='Data_Scores_Aroma~Data_Scores_Flavor+Data_Scores_Aftertaste+Data_Scores_Acidity+Data_Scores_Balance+Data_Scores_Uniformity+Data_Scores_Moisture+Data_Scores_Sweetness+Data_Color+Data_Type_Variety', data=df).fit()\n",
    "body_model.rsquared"
   ]
  },
  {
   "cell_type": "code",
   "execution_count": 35,
   "metadata": {},
   "outputs": [
    {
     "data": {
      "text/plain": [
       "0.755026405318443"
      ]
     },
     "execution_count": 35,
     "metadata": {},
     "output_type": "execute_result"
    }
   ],
   "source": [
    "balance_model =  smf.ols(formula='Data_Scores_Aroma~Data_Scores_Flavor+Data_Scores_Aftertaste+Data_Scores_Acidity+Data_Scores_Body+Data_Scores_Uniformity+Data_Scores_Moisture+Data_Scores_Sweetness+Data_Color+Data_Type_Variety', data=df).fit()\n",
    "balance_model.rsquared"
   ]
  },
  {
   "cell_type": "code",
   "execution_count": 36,
   "metadata": {},
   "outputs": [
    {
     "data": {
      "text/plain": [
       "0.7568680136080457"
      ]
     },
     "execution_count": 36,
     "metadata": {},
     "output_type": "execute_result"
    }
   ],
   "source": [
    "uniformity_model =  smf.ols(formula='Data_Scores_Aroma~Data_Scores_Flavor+Data_Scores_Aftertaste+Data_Scores_Acidity+Data_Scores_Body+Data_Scores_Balance+Data_Scores_Moisture+Data_Scores_Sweetness+Data_Color+Data_Type_Variety', data=df).fit()\n",
    "uniformity_model.rsquared"
   ]
  },
  {
   "cell_type": "code",
   "execution_count": 37,
   "metadata": {},
   "outputs": [
    {
     "data": {
      "text/plain": [
       "0.7588439336566604"
      ]
     },
     "execution_count": 37,
     "metadata": {},
     "output_type": "execute_result"
    }
   ],
   "source": [
    "sweetness_model =  smf.ols(formula='Data_Scores_Aroma~Data_Scores_Flavor+Data_Scores_Aftertaste+Data_Scores_Acidity+Data_Scores_Body+Data_Scores_Balance+Data_Scores_Uniformity+Data_Scores_Moisture+Data_Color+Data_Type_Variety', data=df).fit()\n",
    "sweetness_model.rsquared"
   ]
  },
  {
   "cell_type": "code",
   "execution_count": 38,
   "metadata": {},
   "outputs": [
    {
     "data": {
      "text/plain": [
       "0.7592541756949114"
      ]
     },
     "execution_count": 38,
     "metadata": {},
     "output_type": "execute_result"
    }
   ],
   "source": [
    "moisture_model =  smf.ols(formula='Data_Scores_Aroma~Data_Scores_Flavor+Data_Scores_Aftertaste+Data_Scores_Acidity+Data_Scores_Body+Data_Scores_Balance+Data_Scores_Uniformity+Data_Scores_Sweetness+Data_Color+Data_Type_Variety', data=df).fit()\n",
    "moisture_model.rsquared"
   ]
  },
  {
   "cell_type": "code",
   "execution_count": 39,
   "metadata": {},
   "outputs": [
    {
     "data": {
      "text/plain": [
       "0.7497727357205948"
      ]
     },
     "execution_count": 39,
     "metadata": {},
     "output_type": "execute_result"
    }
   ],
   "source": [
    "color_model =  smf.ols(formula='Data_Scores_Aroma~Data_Scores_Flavor+Data_Scores_Aftertaste+Data_Scores_Acidity+Data_Scores_Body+Data_Scores_Balance+Data_Scores_Uniformity+Data_Scores_Moisture+Data_Scores_Sweetness+Data_Type_Variety', data=df).fit()\n",
    "color_model.rsquared"
   ]
  },
  {
   "cell_type": "code",
   "execution_count": 40,
   "metadata": {},
   "outputs": [
    {
     "data": {
      "text/plain": [
       "0.7584841170699785"
      ]
     },
     "execution_count": 40,
     "metadata": {},
     "output_type": "execute_result"
    }
   ],
   "source": [
    "variety_model =  smf.ols(formula='Data_Scores_Aroma~Data_Scores_Flavor+Data_Scores_Aftertaste+Data_Scores_Acidity+Data_Scores_Body+Data_Scores_Balance+Data_Scores_Uniformity+Data_Scores_Moisture+Data_Scores_Sweetness+Data_Color', data=df).fit()\n",
    "variety_model.rsquared"
   ]
  },
  {
   "cell_type": "markdown",
   "metadata": {},
   "source": [
    "### 4.2. Answer\n",
    "\n",
    "Use your analyses from 4.1 to answer the research question."
   ]
  },
  {
   "cell_type": "markdown",
   "metadata": {},
   "source": [
    "Moisture is the one with the least predictive power"
   ]
  }
 ],
 "metadata": {
  "kernelspec": {
   "display_name": "Python 3 (ipykernel)",
   "language": "python",
   "name": "python3"
  },
  "language_info": {
   "codemirror_mode": {
    "name": "ipython",
    "version": 3
   },
   "file_extension": ".py",
   "mimetype": "text/x-python",
   "name": "python",
   "nbconvert_exporter": "python",
   "pygments_lexer": "ipython3",
   "version": "3.11.6"
  }
 },
 "nbformat": 4,
 "nbformat_minor": 2
}
