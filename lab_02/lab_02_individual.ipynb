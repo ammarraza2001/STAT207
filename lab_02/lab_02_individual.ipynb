{
 "cells": [
  {
   "cell_type": "markdown",
   "metadata": {},
   "source": [
    "# STAT 207 Lab Assignment 2 - Individual Part - [25 total points]\n",
    "\n",
    "## Dataframe Manipulation and Cleaning"
   ]
  },
  {
   "cell_type": "markdown",
   "metadata": {},
   "source": [
    "Due: Tuesday, January 30, 11:59pm CST\n",
    "\n",
    "<hr>\n"
   ]
  },
  {
   "cell_type": "markdown",
   "metadata": {},
   "source": [
    "## <u>Case Study</u>: Steam Game Play and Purchase Analysis\n",
    "Steam is the world's most popular PC Gaming hub. With a massive collection that includes everything from AAA blockbusters to small indie titles, great discovery tools can be super valuable for Steam. We would like to use the following dataset below to learn more about Steam player behavior.\n",
    "\n",
    "The dataset we will be analyzing is comprised of a random sample of 400 steam users and their game play and purchase behaviors. It has the following columns:\n",
    "* **user_id** of the player\n",
    "* **game_name**,\n",
    "* **activity**:\n",
    "    - <u>purchase</u>: indicating that the user has *purchased* the corresponding game\n",
    "    - <u>play</u>: indicating that the user has *played* the corresponding game (for at least some amount of time.) \n",
    "* **hours_played_if_play**:\n",
    "    - if the row corresponds to a 'play' activity, this number represents the number of hours the user has played the game\n",
    "    - if the row corresponds to a 'purchase' activity, this number is always a 1 (and means nothing... it's a placeholder).\n",
    "\n",
    "<hr>\n",
    "\n",
    "\n",
    "### <u>Research Goals</u>\n",
    "\n",
    "In this analysis, we will consider a game's **\"all-star\" player** to be the person who had played this game for the most amount of hours. With this definition in mind, we will do the following in this assignment.\n",
    "\n",
    "1. **Missing Value Cleaning**: Identify any implicit or explicit missing values in the dataset and drop any rows that have a missing value.\n",
    "2. **Game Purchase vs. Play Behaviors**: What percent of games that were *bought* were actually *played* in this dataset?\n",
    "3. **Top Game Buyer**: Learn more about the person who bought the most amount of games in this dataset. How many of these games did they actually play?\n",
    "4. **\"All Star Players\"**: Who were the \"all-star players\" of the games? How long did they play this game?\n",
    "5. **All Star Player Behavior**: What percent of games that these \"all star players\" bought did they actually play?\n",
    "\n",
    "\n",
    "\n",
    "### <u>Points </u>\n",
    "<p style=\"margin-top:0in;margin-right:0in;margin-bottom:0in;margin-left:0in;font-size:11.0pt;font-family:&quot;Calibri&quot;,sans-serif;line-height:normal;\"></p>\n",
    "<table style=\"border: none;border-collapse: collapse;width:102pt;\">\n",
    "    <tbody>\n",
    "        <tr>\n",
    "            <td style=\"color:black;font-size:15px;font-weight:700;font-style:normal;text-decoration:none;font-family:Calibri, sans-serif;text-align:right;vertical-align:bottom;border:.5pt solid windowtext;height:14.25pt;width:51pt;\">Problem</td>\n",
    "            <td style=\"color:black;font-size:15px;font-weight:700;font-style:normal;text-decoration:none;font-family:Calibri, sans-serif;text-align:right;vertical-align:bottom;border:.5pt solid windowtext;border-left:none;width:51pt;\">Points</td>\n",
    "        </tr>\n",
    "        <tr>\n",
    "            <td style=\"color:black;font-size:15px;font-weight:400;font-style:normal;text-decoration:none;font-family:Calibri, sans-serif;text-align:right;vertical-align:bottom;border:.5pt solid windowtext;height:14.25pt;border-top:none;\">1</td>\n",
    "            <td style=\"color:black;font-size:15px;font-weight:400;font-style:normal;text-decoration:none;font-family:Calibri, sans-serif;text-align:right;vertical-align:bottom;border:.5pt solid windowtext;border-top:none;border-left:none;\">0.5</td>\n",
    "        </tr>\n",
    "        <tr>\n",
    "            <td style=\"color:black;font-size:15px;font-weight:400;font-style:normal;text-decoration:none;font-family:Calibri, sans-serif;text-align:right;vertical-align:bottom;border:.5pt solid windowtext;height:14.25pt;border-top:none;\">2</td>\n",
    "            <td style=\"color:black;font-size:15px;font-weight:400;font-style:normal;text-decoration:none;font-family:Calibri, sans-serif;text-align:right;vertical-align:bottom;border:.5pt solid windowtext;border-top:none;border-left:none;\">0.5</td>\n",
    "        </tr>\n",
    "        <tr>\n",
    "            <td style=\"color:black;font-size:15px;font-weight:400;font-style:normal;text-decoration:none;font-family:Calibri, sans-serif;text-align:right;vertical-align:bottom;border:.5pt solid windowtext;height:14.25pt;border-top:none;\">3</td>\n",
    "            <td style=\"color:black;font-size:15px;font-weight:400;font-style:normal;text-decoration:none;font-family:Calibri, sans-serif;text-align:right;vertical-align:bottom;border:.5pt solid windowtext;border-top:none;border-left:none;\">6</td>\n",
    "        </tr>\n",
    "        <tr>\n",
    "            <td style=\"color:black;font-size:15px;font-weight:400;font-style:normal;text-decoration:none;font-family:Calibri, sans-serif;text-align:right;vertical-align:bottom;border:.5pt solid windowtext;height:14.25pt;border-top:none;\">4</td>\n",
    "            <td style=\"color:black;font-size:15px;font-weight:400;font-style:normal;text-decoration:none;font-family:Calibri, sans-serif;text-align:right;vertical-align:bottom;border:.5pt solid windowtext;border-top:none;border-left:none;\">1</td>\n",
    "        </tr>\n",
    "        <tr>\n",
    "            <td style=\"color:black;font-size:15px;font-weight:400;font-style:normal;text-decoration:none;font-family:Calibri, sans-serif;text-align:right;vertical-align:bottom;border:.5pt solid windowtext;height:14.25pt;border-top:none;\">5</td>\n",
    "            <td style=\"color:black;font-size:15px;font-weight:400;font-style:normal;text-decoration:none;font-family:Calibri, sans-serif;text-align:right;vertical-align:bottom;border:.5pt solid windowtext;border-top:none;border-left:none;\">2</td>\n",
    "        </tr>\n",
    "        <tr>\n",
    "            <td style=\"color:black;font-size:15px;font-weight:400;font-style:normal;text-decoration:none;font-family:Calibri, sans-serif;text-align:right;vertical-align:bottom;border:.5pt solid windowtext;height:14.25pt;border-top:none;\">6</td>\n",
    "            <td style=\"color:black;font-size:15px;font-weight:400;font-style:normal;text-decoration:none;font-family:Calibri, sans-serif;text-align:right;vertical-align:bottom;border:.5pt solid windowtext;border-top:none;border-left:none;\">2</td>\n",
    "        </tr>\n",
    "        <tr>\n",
    "            <td style=\"color:black;font-size:15px;font-weight:400;font-style:normal;text-decoration:none;font-family:Calibri, sans-serif;text-align:right;vertical-align:bottom;border:.5pt solid windowtext;height:14.25pt;border-top:none;\">7.1</td>\n",
    "            <td style=\"color:black;font-size:15px;font-weight:400;font-style:normal;text-decoration:none;font-family:Calibri, sans-serif;text-align:right;vertical-align:bottom;border:.5pt solid windowtext;border-top:none;border-left:none;\">2</td>\n",
    "        </tr>\n",
    "        <tr>\n",
    "            <td style=\"color:black;font-size:15px;font-weight:400;font-style:normal;text-decoration:none;font-family:Calibri, sans-serif;text-align:right;vertical-align:bottom;border:.5pt solid windowtext;height:14.25pt;border-top:none;\">7.2</td>\n",
    "            <td style=\"color:black;font-size:15px;font-weight:400;font-style:normal;text-decoration:none;font-family:Calibri, sans-serif;text-align:right;vertical-align:bottom;border:.5pt solid windowtext;border-top:none;border-left:none;\">2</td>\n",
    "        </tr>\n",
    "        <tr>\n",
    "            <td style=\"color:black;font-size:15px;font-weight:400;font-style:normal;text-decoration:none;font-family:Calibri, sans-serif;text-align:right;vertical-align:bottom;border:.5pt solid windowtext;height:14.25pt;border-top:none;\">8.1</td>\n",
    "            <td style=\"color:black;font-size:15px;font-weight:400;font-style:normal;text-decoration:none;font-family:Calibri, sans-serif;text-align:right;vertical-align:bottom;border:.5pt solid windowtext;border-top:none;border-left:none;\">2.5</td>\n",
    "        </tr>\n",
    "        <tr>\n",
    "            <td style=\"color:black;font-size:15px;font-weight:400;font-style:normal;text-decoration:none;font-family:Calibri, sans-serif;text-align:right;vertical-align:bottom;border:.5pt solid windowtext;height:14.25pt;border-top:none;\">8.2</td>\n",
    "            <td style=\"color:black;font-size:15px;font-weight:400;font-style:normal;text-decoration:none;font-family:Calibri, sans-serif;text-align:right;vertical-align:bottom;border:.5pt solid windowtext;border-top:none;border-left:none;\">2</td>\n",
    "        </tr>\n",
    "        <tr>\n",
    "            <td style=\"color:black;font-size:15px;font-weight:400;font-style:normal;text-decoration:none;font-family:Calibri, sans-serif;text-align:right;vertical-align:bottom;border:.5pt solid windowtext;height:14.25pt;border-top:none;\">8.3</td>\n",
    "            <td style=\"color:black;font-size:15px;font-weight:400;font-style:normal;text-decoration:none;font-family:Calibri, sans-serif;text-align:right;vertical-align:bottom;border:.5pt solid windowtext;border-top:none;border-left:none;\">1</td>\n",
    "        </tr>\n",
    "        <tr>\n",
    "            <td style=\"color:black;font-size:15px;font-weight:400;font-style:normal;text-decoration:none;font-family:Calibri, sans-serif;text-align:right;vertical-align:bottom;border:.5pt solid windowtext;height:14.25pt;border-top:none;\">8.4</td>\n",
    "            <td style=\"color:black;font-size:15px;font-weight:400;font-style:normal;text-decoration:none;font-family:Calibri, sans-serif;text-align:right;vertical-align:bottom;border:.5pt solid windowtext;border-top:none;border-left:none;\">2</td>\n",
    "        </tr>\n",
    "        <tr>\n",
    "            <td style=\"color:black;font-size:15px;font-weight:400;font-style:normal;text-decoration:none;font-family:Calibri, sans-serif;text-align:right;vertical-align:bottom;border:.5pt solid windowtext;height:14.25pt;border-top:none;\">9</td>\n",
    "            <td style=\"color:black;font-size:15px;font-weight:400;font-style:normal;text-decoration:none;font-family:Calibri, sans-serif;text-align:right;vertical-align:bottom;border:.5pt solid windowtext;border-top:none;border-left:none;\">1.5</td>\n",
    "        </tr>\n",
    "    </tbody>\n",
    "</table>\n",
    "<p></p>\n",
    "\n",
    "\n"
   ]
  },
  {
   "cell_type": "markdown",
   "metadata": {},
   "source": [
    "<hr>\n",
    "\n",
    "### <u>STAT107 Review</u>\n",
    "Part of this individual assignment will involve a review of STAT107 code that you have seen before including the following. Click on the links below if you need a refresher.\n",
    "\n",
    "1. <a href=\"https://discovery.cs.illinois.edu/learn/Basics-of-Data-Science-with-Python/DataFrames-with-Conditionals/\">Row Filtering</a>\n",
    "2. <a href=\"https://discovery.cs.illinois.edu/guides/Modifying-DataFrames/dataframe-groupby/\">The groupby() and reset_index() Functions</a>\n",
    "2. <a href=\"https://discovery.cs.illinois.edu/guides/Modifying-DataFrames/sorting-a-dataframe-with-pandas/\">The sort_values() Function</a>\n",
    "\n",
    "\n",
    "### <u>Tutorial you Will Need</u>: Utilizing the *.shape* attribute\n",
    "\n",
    "The **.shape** attribute for a given dataframe returns a **tuple** of two values, the first value in the tuple is the number of rows, the second value is the number of columns."
   ]
  },
  {
   "cell_type": "code",
   "execution_count": 1,
   "metadata": {},
   "outputs": [
    {
     "data": {
      "text/html": [
       "<div>\n",
       "<style scoped>\n",
       "    .dataframe tbody tr th:only-of-type {\n",
       "        vertical-align: middle;\n",
       "    }\n",
       "\n",
       "    .dataframe tbody tr th {\n",
       "        vertical-align: top;\n",
       "    }\n",
       "\n",
       "    .dataframe thead th {\n",
       "        text-align: right;\n",
       "    }\n",
       "</style>\n",
       "<table border=\"1\" class=\"dataframe\">\n",
       "  <thead>\n",
       "    <tr style=\"text-align: right;\">\n",
       "      <th></th>\n",
       "      <th>a</th>\n",
       "      <th>b</th>\n",
       "    </tr>\n",
       "  </thead>\n",
       "  <tbody>\n",
       "    <tr>\n",
       "      <th>0</th>\n",
       "      <td>1</td>\n",
       "      <td>4</td>\n",
       "    </tr>\n",
       "    <tr>\n",
       "      <th>1</th>\n",
       "      <td>2</td>\n",
       "      <td>5</td>\n",
       "    </tr>\n",
       "    <tr>\n",
       "      <th>2</th>\n",
       "      <td>3</td>\n",
       "      <td>6</td>\n",
       "    </tr>\n",
       "  </tbody>\n",
       "</table>\n",
       "</div>"
      ],
      "text/plain": [
       "   a  b\n",
       "0  1  4\n",
       "1  2  5\n",
       "2  3  6"
      ]
     },
     "execution_count": 1,
     "metadata": {},
     "output_type": "execute_result"
    }
   ],
   "source": [
    "import pandas as pd\n",
    "demo_df=pd.DataFrame({'a': [1,2,3], 'b': [4,5,6]})\n",
    "demo_df"
   ]
  },
  {
   "cell_type": "markdown",
   "metadata": {},
   "source": [
    "We can index a tuple with 0 and 1 indices to extract the number of rows and columns from the dataframe separately."
   ]
  },
  {
   "cell_type": "code",
   "execution_count": 2,
   "metadata": {},
   "outputs": [
    {
     "data": {
      "text/plain": [
       "(3, 2)"
      ]
     },
     "execution_count": 2,
     "metadata": {},
     "output_type": "execute_result"
    }
   ],
   "source": [
    "#Number of rows and columns\n",
    "demo_df.shape"
   ]
  },
  {
   "cell_type": "code",
   "execution_count": 3,
   "metadata": {},
   "outputs": [
    {
     "data": {
      "text/plain": [
       "3"
      ]
     },
     "execution_count": 3,
     "metadata": {},
     "output_type": "execute_result"
    }
   ],
   "source": [
    "#Number of rows\n",
    "demo_df.shape[0]"
   ]
  },
  {
   "cell_type": "code",
   "execution_count": 4,
   "metadata": {},
   "outputs": [
    {
     "data": {
      "text/plain": [
       "2"
      ]
     },
     "execution_count": 4,
     "metadata": {},
     "output_type": "execute_result"
    }
   ],
   "source": [
    "#Number of columns\n",
    "demo_df.shape[1]"
   ]
  },
  {
   "cell_type": "markdown",
   "metadata": {},
   "source": [
    "<hr>\n",
    "\n",
    "### Imports"
   ]
  },
  {
   "cell_type": "code",
   "execution_count": 5,
   "metadata": {},
   "outputs": [],
   "source": [
    "import numpy as np\n",
    "import matplotlib.pyplot as plt\n",
    "import seaborn as sns"
   ]
  },
  {
   "cell_type": "markdown",
   "metadata": {},
   "source": [
    "### 1. Read the csv\n",
    "First, read the **steam_sample_400.csv** file into a dataframe and display the first five rows of the dataframe."
   ]
  },
  {
   "cell_type": "code",
   "execution_count": 25,
   "metadata": {},
   "outputs": [
    {
     "data": {
      "text/html": [
       "<div>\n",
       "<style scoped>\n",
       "    .dataframe tbody tr th:only-of-type {\n",
       "        vertical-align: middle;\n",
       "    }\n",
       "\n",
       "    .dataframe tbody tr th {\n",
       "        vertical-align: top;\n",
       "    }\n",
       "\n",
       "    .dataframe thead th {\n",
       "        text-align: right;\n",
       "    }\n",
       "</style>\n",
       "<table border=\"1\" class=\"dataframe\">\n",
       "  <thead>\n",
       "    <tr style=\"text-align: right;\">\n",
       "      <th></th>\n",
       "      <th>user_id</th>\n",
       "      <th>game_name</th>\n",
       "      <th>activity</th>\n",
       "      <th>hours_played_if_play</th>\n",
       "    </tr>\n",
       "  </thead>\n",
       "  <tbody>\n",
       "    <tr>\n",
       "      <th>0</th>\n",
       "      <td>218323237</td>\n",
       "      <td>Dota 2</td>\n",
       "      <td>purchase</td>\n",
       "      <td>1.0</td>\n",
       "    </tr>\n",
       "    <tr>\n",
       "      <th>1</th>\n",
       "      <td>218323237</td>\n",
       "      <td>Dota 2</td>\n",
       "      <td>play</td>\n",
       "      <td>14.8</td>\n",
       "    </tr>\n",
       "    <tr>\n",
       "      <th>2</th>\n",
       "      <td>218323237</td>\n",
       "      <td>Tomb Raider</td>\n",
       "      <td>purchase</td>\n",
       "      <td>1.0</td>\n",
       "    </tr>\n",
       "    <tr>\n",
       "      <th>3</th>\n",
       "      <td>218323237</td>\n",
       "      <td>Tomb Raider</td>\n",
       "      <td>play</td>\n",
       "      <td>8.8</td>\n",
       "    </tr>\n",
       "    <tr>\n",
       "      <th>4</th>\n",
       "      <td>218323237</td>\n",
       "      <td>TERA</td>\n",
       "      <td>purchase</td>\n",
       "      <td>1.0</td>\n",
       "    </tr>\n",
       "  </tbody>\n",
       "</table>\n",
       "</div>"
      ],
      "text/plain": [
       "     user_id    game_name  activity  hours_played_if_play\n",
       "0  218323237       Dota 2  purchase                   1.0\n",
       "1  218323237       Dota 2      play                  14.8\n",
       "2  218323237  Tomb Raider  purchase                   1.0\n",
       "3  218323237  Tomb Raider      play                   8.8\n",
       "4  218323237         TERA  purchase                   1.0"
      ]
     },
     "execution_count": 25,
     "metadata": {},
     "output_type": "execute_result"
    }
   ],
   "source": [
    "df = pd.read_csv('C:\\\\Users\\\\samma\\\\Documents\\\\stat207\\\\saraza2\\\\lab_02\\\\steam_sample_400.csv', na_values=['data missing', 'data not found'])\n",
    "df.head()"
   ]
  },
  {
   "cell_type": "markdown",
   "metadata": {},
   "source": [
    "### 2. How many rows does the dataframe have? (Use Python code to show this)."
   ]
  },
  {
   "cell_type": "code",
   "execution_count": 26,
   "metadata": {},
   "outputs": [
    {
     "name": "stdout",
     "output_type": "stream",
     "text": [
      "6307\n"
     ]
    }
   ],
   "source": [
    "print(len(df))"
   ]
  },
  {
   "cell_type": "markdown",
   "metadata": {},
   "source": [
    "### 3. Data cleaning and data type checking\n",
    "\n",
    "We plan to analyze the **\"hours_played_if_play\"** variable in this assignment. In order to ensure that our subsequent functions work appropriately on this numerical variable, you should do the following.\n",
    "1. Identify any values (if any) that have been encoded in the csv to represent a **missing value**. \n",
    "2. Make sure that the values in your **\"hours_played_if_play\"** variable are represented as numerical values (either float64 or int64 object types). If not, fix this using the methods we discussed in class.\n",
    "3. PERMANENTLY delete any rows in your dataframe that have missing values (both explicit or implict). Remember, some \"missing values\", in the way that they're currently encoded in the csv may not be initially detectable by Python. It is your job to figure out what these implicit missing values are and make it so Python does detect them. And then delete any rows that have them."
   ]
  },
  {
   "cell_type": "code",
   "execution_count": 27,
   "metadata": {},
   "outputs": [
    {
     "data": {
      "text/plain": [
       "user_id                 0\n",
       "game_name               0\n",
       "activity                0\n",
       "hours_played_if_play    9\n",
       "dtype: int64"
      ]
     },
     "execution_count": 27,
     "metadata": {},
     "output_type": "execute_result"
    }
   ],
   "source": [
    "df.isna().sum()"
   ]
  },
  {
   "cell_type": "code",
   "execution_count": 28,
   "metadata": {},
   "outputs": [
    {
     "data": {
      "text/plain": [
       "user_id                   int64\n",
       "game_name                object\n",
       "activity                 object\n",
       "hours_played_if_play    float64\n",
       "dtype: object"
      ]
     },
     "execution_count": 28,
     "metadata": {},
     "output_type": "execute_result"
    }
   ],
   "source": [
    "df.dtypes"
   ]
  },
  {
   "cell_type": "code",
   "execution_count": 29,
   "metadata": {},
   "outputs": [
    {
     "data": {
      "text/plain": [
       "23.793966338520164"
      ]
     },
     "execution_count": 29,
     "metadata": {},
     "output_type": "execute_result"
    }
   ],
   "source": [
    "df['hours_played_if_play'].mean()"
   ]
  },
  {
   "cell_type": "code",
   "execution_count": 30,
   "metadata": {},
   "outputs": [
    {
     "data": {
      "text/plain": [
       "array([1.000e-01, 2.000e-01, 3.000e-01, 4.000e-01, 5.000e-01, 6.000e-01,\n",
       "       7.000e-01, 8.000e-01, 9.000e-01, 1.000e+00, 1.100e+00, 1.200e+00,\n",
       "       1.300e+00, 1.400e+00, 1.500e+00, 1.600e+00, 1.700e+00, 1.800e+00,\n",
       "       1.900e+00, 2.000e+00, 2.100e+00, 2.200e+00, 2.300e+00, 2.400e+00,\n",
       "       2.500e+00, 2.600e+00, 2.700e+00, 2.800e+00, 2.900e+00, 3.000e+00,\n",
       "       3.100e+00, 3.200e+00, 3.300e+00, 3.400e+00, 3.500e+00, 3.600e+00,\n",
       "       3.700e+00, 3.800e+00, 3.900e+00, 4.000e+00, 4.100e+00, 4.200e+00,\n",
       "       4.300e+00, 4.400e+00, 4.500e+00, 4.600e+00, 4.700e+00, 4.800e+00,\n",
       "       4.900e+00, 5.000e+00, 5.100e+00, 5.200e+00, 5.300e+00, 5.400e+00,\n",
       "       5.500e+00, 5.600e+00, 5.700e+00, 5.800e+00, 5.900e+00, 6.000e+00,\n",
       "       6.100e+00, 6.200e+00, 6.300e+00, 6.400e+00, 6.500e+00, 6.600e+00,\n",
       "       6.700e+00, 6.800e+00, 6.900e+00, 7.000e+00, 7.100e+00, 7.200e+00,\n",
       "       7.300e+00, 7.400e+00, 7.500e+00, 7.600e+00, 7.700e+00, 7.800e+00,\n",
       "       7.900e+00, 8.000e+00, 8.100e+00, 8.200e+00, 8.300e+00, 8.400e+00,\n",
       "       8.500e+00, 8.600e+00, 8.700e+00, 8.800e+00, 8.900e+00, 9.000e+00,\n",
       "       9.100e+00, 9.200e+00, 9.300e+00, 9.400e+00, 9.500e+00, 9.600e+00,\n",
       "       9.700e+00, 9.800e+00, 9.900e+00, 1.000e+01, 1.010e+01, 1.020e+01,\n",
       "       1.030e+01, 1.040e+01, 1.050e+01, 1.060e+01, 1.070e+01, 1.080e+01,\n",
       "       1.090e+01, 1.100e+01, 1.110e+01, 1.120e+01, 1.130e+01, 1.140e+01,\n",
       "       1.160e+01, 1.170e+01, 1.180e+01, 1.190e+01, 1.200e+01, 1.210e+01,\n",
       "       1.220e+01, 1.230e+01, 1.240e+01, 1.250e+01, 1.260e+01, 1.270e+01,\n",
       "       1.280e+01, 1.290e+01, 1.300e+01, 1.310e+01, 1.320e+01, 1.330e+01,\n",
       "       1.340e+01, 1.350e+01, 1.360e+01, 1.380e+01, 1.390e+01, 1.400e+01,\n",
       "       1.410e+01, 1.420e+01, 1.430e+01, 1.440e+01, 1.450e+01, 1.460e+01,\n",
       "       1.470e+01, 1.480e+01, 1.490e+01, 1.500e+01, 1.510e+01, 1.520e+01,\n",
       "       1.550e+01, 1.560e+01, 1.580e+01, 1.590e+01, 1.610e+01, 1.620e+01,\n",
       "       1.640e+01, 1.650e+01, 1.660e+01, 1.670e+01, 1.690e+01, 1.700e+01,\n",
       "       1.710e+01, 1.720e+01, 1.730e+01, 1.740e+01, 1.750e+01, 1.770e+01,\n",
       "       1.780e+01, 1.790e+01, 1.800e+01, 1.810e+01, 1.820e+01, 1.830e+01,\n",
       "       1.840e+01, 1.850e+01, 1.860e+01, 1.870e+01, 1.890e+01, 1.900e+01,\n",
       "       1.910e+01, 1.920e+01, 1.930e+01, 1.940e+01, 1.950e+01, 1.960e+01,\n",
       "       2.000e+01, 2.100e+01, 2.200e+01, 2.300e+01, 2.400e+01, 2.500e+01,\n",
       "       2.600e+01, 2.700e+01, 2.800e+01, 2.900e+01, 3.000e+01, 3.100e+01,\n",
       "       3.200e+01, 3.300e+01, 3.400e+01, 3.500e+01, 3.600e+01, 3.700e+01,\n",
       "       3.800e+01, 3.900e+01, 4.000e+01, 4.100e+01, 4.200e+01, 4.300e+01,\n",
       "       4.400e+01, 4.500e+01, 4.600e+01, 4.700e+01, 4.800e+01, 4.900e+01,\n",
       "       5.000e+01, 5.100e+01, 5.200e+01, 5.300e+01, 5.400e+01, 5.500e+01,\n",
       "       5.600e+01, 5.700e+01, 5.800e+01, 6.000e+01, 6.100e+01, 6.200e+01,\n",
       "       6.300e+01, 6.400e+01, 6.500e+01, 6.600e+01, 6.700e+01, 6.800e+01,\n",
       "       6.900e+01, 7.000e+01, 7.100e+01, 7.200e+01, 7.300e+01, 7.500e+01,\n",
       "       7.600e+01, 7.700e+01, 7.800e+01, 8.000e+01, 8.100e+01, 8.200e+01,\n",
       "       8.300e+01, 8.400e+01, 8.500e+01, 8.600e+01, 8.700e+01, 8.800e+01,\n",
       "       8.900e+01, 9.000e+01, 9.100e+01, 9.200e+01, 9.300e+01, 9.400e+01,\n",
       "       9.600e+01, 9.700e+01, 9.800e+01, 9.900e+01, 1.010e+02, 1.020e+02,\n",
       "       1.030e+02, 1.050e+02, 1.060e+02, 1.070e+02, 1.090e+02, 1.100e+02,\n",
       "       1.110e+02, 1.120e+02, 1.140e+02, 1.160e+02, 1.170e+02, 1.190e+02,\n",
       "       1.200e+02, 1.210e+02, 1.220e+02, 1.230e+02, 1.250e+02, 1.260e+02,\n",
       "       1.270e+02, 1.280e+02, 1.310e+02, 1.320e+02, 1.330e+02, 1.340e+02,\n",
       "       1.360e+02, 1.370e+02, 1.380e+02, 1.400e+02, 1.410e+02, 1.420e+02,\n",
       "       1.450e+02, 1.460e+02, 1.480e+02, 1.490e+02, 1.510e+02, 1.520e+02,\n",
       "       1.550e+02, 1.570e+02, 1.580e+02, 1.630e+02, 1.640e+02, 1.650e+02,\n",
       "       1.660e+02, 1.670e+02, 1.700e+02, 1.720e+02, 1.740e+02, 1.760e+02,\n",
       "       1.770e+02, 1.780e+02, 1.810e+02, 1.820e+02, 1.830e+02, 1.840e+02,\n",
       "       1.850e+02, 1.920e+02, 1.930e+02, 1.950e+02, 1.980e+02, 2.000e+02,\n",
       "       2.030e+02, 2.060e+02, 2.070e+02, 2.080e+02, 2.090e+02, 2.110e+02,\n",
       "       2.140e+02, 2.180e+02, 2.190e+02, 2.220e+02, 2.260e+02, 2.300e+02,\n",
       "       2.360e+02, 2.370e+02, 2.460e+02, 2.470e+02, 2.490e+02, 2.520e+02,\n",
       "       2.530e+02, 2.540e+02, 2.550e+02, 2.570e+02, 2.610e+02, 2.620e+02,\n",
       "       2.650e+02, 2.680e+02, 2.700e+02, 2.730e+02, 2.760e+02, 2.770e+02,\n",
       "       2.790e+02, 2.800e+02, 2.900e+02, 2.950e+02, 2.960e+02, 2.990e+02,\n",
       "       3.020e+02, 3.030e+02, 3.100e+02, 3.110e+02, 3.210e+02, 3.270e+02,\n",
       "       3.290e+02, 3.320e+02, 3.360e+02, 3.370e+02, 3.430e+02, 3.610e+02,\n",
       "       3.630e+02, 3.640e+02, 3.650e+02, 3.700e+02, 3.720e+02, 3.740e+02,\n",
       "       3.990e+02, 4.090e+02, 4.150e+02, 4.180e+02, 4.200e+02, 4.250e+02,\n",
       "       4.330e+02, 4.380e+02, 4.610e+02, 4.620e+02, 4.630e+02, 4.650e+02,\n",
       "       4.670e+02, 4.720e+02, 4.740e+02, 4.790e+02, 5.060e+02, 5.100e+02,\n",
       "       5.530e+02, 5.560e+02, 5.680e+02, 5.770e+02, 6.030e+02, 6.060e+02,\n",
       "       6.260e+02, 6.480e+02, 6.490e+02, 6.640e+02, 7.110e+02, 7.160e+02,\n",
       "       7.250e+02, 7.520e+02, 7.530e+02, 7.570e+02, 7.920e+02, 7.960e+02,\n",
       "       8.430e+02, 8.670e+02, 9.940e+02, 1.009e+03, 1.015e+03, 1.024e+03,\n",
       "       1.026e+03, 1.029e+03, 1.054e+03, 1.113e+03, 1.118e+03, 1.149e+03,\n",
       "       1.195e+03, 1.231e+03, 1.243e+03, 1.250e+03, 1.298e+03, 1.319e+03,\n",
       "       1.322e+03, 1.395e+03, 1.467e+03, 1.478e+03, 1.498e+03, 1.556e+03,\n",
       "       1.784e+03, 1.862e+03, 1.906e+03, 2.060e+03, 2.117e+03, 2.442e+03,\n",
       "       2.526e+03, 2.630e+03, 3.790e+03, 3.898e+03, 4.067e+03, 5.002e+03,\n",
       "       5.608e+03,       nan])"
      ]
     },
     "execution_count": 30,
     "metadata": {},
     "output_type": "execute_result"
    }
   ],
   "source": [
    "np.unique(df['hours_played_if_play'].values)"
   ]
  },
  {
   "cell_type": "code",
   "execution_count": 31,
   "metadata": {},
   "outputs": [
    {
     "data": {
      "text/html": [
       "<div>\n",
       "<style scoped>\n",
       "    .dataframe tbody tr th:only-of-type {\n",
       "        vertical-align: middle;\n",
       "    }\n",
       "\n",
       "    .dataframe tbody tr th {\n",
       "        vertical-align: top;\n",
       "    }\n",
       "\n",
       "    .dataframe thead th {\n",
       "        text-align: right;\n",
       "    }\n",
       "</style>\n",
       "<table border=\"1\" class=\"dataframe\">\n",
       "  <thead>\n",
       "    <tr style=\"text-align: right;\">\n",
       "      <th></th>\n",
       "      <th>user_id</th>\n",
       "      <th>game_name</th>\n",
       "      <th>activity</th>\n",
       "      <th>hours_played_if_play</th>\n",
       "    </tr>\n",
       "  </thead>\n",
       "  <tbody>\n",
       "    <tr>\n",
       "      <th>0</th>\n",
       "      <td>218323237</td>\n",
       "      <td>Dota 2</td>\n",
       "      <td>purchase</td>\n",
       "      <td>1.0</td>\n",
       "    </tr>\n",
       "    <tr>\n",
       "      <th>1</th>\n",
       "      <td>218323237</td>\n",
       "      <td>Dota 2</td>\n",
       "      <td>play</td>\n",
       "      <td>14.8</td>\n",
       "    </tr>\n",
       "    <tr>\n",
       "      <th>2</th>\n",
       "      <td>218323237</td>\n",
       "      <td>Tomb Raider</td>\n",
       "      <td>purchase</td>\n",
       "      <td>1.0</td>\n",
       "    </tr>\n",
       "    <tr>\n",
       "      <th>3</th>\n",
       "      <td>218323237</td>\n",
       "      <td>Tomb Raider</td>\n",
       "      <td>play</td>\n",
       "      <td>8.8</td>\n",
       "    </tr>\n",
       "    <tr>\n",
       "      <th>4</th>\n",
       "      <td>218323237</td>\n",
       "      <td>TERA</td>\n",
       "      <td>purchase</td>\n",
       "      <td>1.0</td>\n",
       "    </tr>\n",
       "  </tbody>\n",
       "</table>\n",
       "</div>"
      ],
      "text/plain": [
       "     user_id    game_name  activity  hours_played_if_play\n",
       "0  218323237       Dota 2  purchase                   1.0\n",
       "1  218323237       Dota 2      play                  14.8\n",
       "2  218323237  Tomb Raider  purchase                   1.0\n",
       "3  218323237  Tomb Raider      play                   8.8\n",
       "4  218323237         TERA  purchase                   1.0"
      ]
     },
     "execution_count": 31,
     "metadata": {},
     "output_type": "execute_result"
    }
   ],
   "source": [
    "df = df.dropna()\n",
    "df.head()"
   ]
  },
  {
   "cell_type": "code",
   "execution_count": 32,
   "metadata": {},
   "outputs": [
    {
     "data": {
      "text/plain": [
       "6298"
      ]
     },
     "execution_count": 32,
     "metadata": {},
     "output_type": "execute_result"
    }
   ],
   "source": [
    "len(df)"
   ]
  },
  {
   "cell_type": "code",
   "execution_count": 33,
   "metadata": {},
   "outputs": [
    {
     "data": {
      "text/plain": [
       "user_id                 0\n",
       "game_name               0\n",
       "activity                0\n",
       "hours_played_if_play    0\n",
       "dtype: int64"
      ]
     },
     "execution_count": 33,
     "metadata": {},
     "output_type": "execute_result"
    }
   ],
   "source": [
    "df.isna().sum()"
   ]
  },
  {
   "cell_type": "code",
   "execution_count": 34,
   "metadata": {},
   "outputs": [
    {
     "data": {
      "text/plain": [
       "user_id                   int64\n",
       "game_name                object\n",
       "activity                 object\n",
       "hours_played_if_play    float64\n",
       "dtype: object"
      ]
     },
     "execution_count": 34,
     "metadata": {},
     "output_type": "execute_result"
    }
   ],
   "source": [
    "df.dtypes"
   ]
  },
  {
   "cell_type": "code",
   "execution_count": null,
   "metadata": {},
   "outputs": [],
   "source": []
  },
  {
   "cell_type": "code",
   "execution_count": null,
   "metadata": {},
   "outputs": [],
   "source": []
  },
  {
   "cell_type": "code",
   "execution_count": null,
   "metadata": {},
   "outputs": [],
   "source": []
  },
  {
   "cell_type": "markdown",
   "metadata": {},
   "source": [
    "### 4. Number of Dropped Rows \n",
    "\n",
    "How many rows with missing values did you delete from your original dataframe?"
   ]
  },
  {
   "cell_type": "code",
   "execution_count": null,
   "metadata": {},
   "outputs": [],
   "source": []
  },
  {
   "cell_type": "markdown",
   "metadata": {},
   "source": [
    "### 5. Separate the dataframes. \n",
    "\n",
    "Next, in this analysis we would like to analyze the game purchase information and game play information separately. First create two new dataframes:\n",
    "* one that is comprised of the purchase rows\n",
    "* the other that is comprised of the play rows."
   ]
  },
  {
   "cell_type": "code",
   "execution_count": 35,
   "metadata": {},
   "outputs": [
    {
     "data": {
      "text/html": [
       "<div>\n",
       "<style scoped>\n",
       "    .dataframe tbody tr th:only-of-type {\n",
       "        vertical-align: middle;\n",
       "    }\n",
       "\n",
       "    .dataframe tbody tr th {\n",
       "        vertical-align: top;\n",
       "    }\n",
       "\n",
       "    .dataframe thead th {\n",
       "        text-align: right;\n",
       "    }\n",
       "</style>\n",
       "<table border=\"1\" class=\"dataframe\">\n",
       "  <thead>\n",
       "    <tr style=\"text-align: right;\">\n",
       "      <th></th>\n",
       "      <th>user_id</th>\n",
       "      <th>game_name</th>\n",
       "      <th>activity</th>\n",
       "      <th>hours_played_if_play</th>\n",
       "    </tr>\n",
       "  </thead>\n",
       "  <tbody>\n",
       "    <tr>\n",
       "      <th>0</th>\n",
       "      <td>218323237</td>\n",
       "      <td>Dota 2</td>\n",
       "      <td>purchase</td>\n",
       "      <td>1.0</td>\n",
       "    </tr>\n",
       "    <tr>\n",
       "      <th>2</th>\n",
       "      <td>218323237</td>\n",
       "      <td>Tomb Raider</td>\n",
       "      <td>purchase</td>\n",
       "      <td>1.0</td>\n",
       "    </tr>\n",
       "    <tr>\n",
       "      <th>4</th>\n",
       "      <td>218323237</td>\n",
       "      <td>TERA</td>\n",
       "      <td>purchase</td>\n",
       "      <td>1.0</td>\n",
       "    </tr>\n",
       "    <tr>\n",
       "      <th>6</th>\n",
       "      <td>126340495</td>\n",
       "      <td>Dota 2</td>\n",
       "      <td>purchase</td>\n",
       "      <td>1.0</td>\n",
       "    </tr>\n",
       "    <tr>\n",
       "      <th>8</th>\n",
       "      <td>126340495</td>\n",
       "      <td>Counter-Strike Global Offensive</td>\n",
       "      <td>purchase</td>\n",
       "      <td>1.0</td>\n",
       "    </tr>\n",
       "    <tr>\n",
       "      <th>...</th>\n",
       "      <td>...</td>\n",
       "      <td>...</td>\n",
       "      <td>...</td>\n",
       "      <td>...</td>\n",
       "    </tr>\n",
       "    <tr>\n",
       "      <th>6299</th>\n",
       "      <td>190460990</td>\n",
       "      <td>Dota 2</td>\n",
       "      <td>purchase</td>\n",
       "      <td>1.0</td>\n",
       "    </tr>\n",
       "    <tr>\n",
       "      <th>6301</th>\n",
       "      <td>7519923</td>\n",
       "      <td>Counter-Strike</td>\n",
       "      <td>purchase</td>\n",
       "      <td>1.0</td>\n",
       "    </tr>\n",
       "    <tr>\n",
       "      <th>6303</th>\n",
       "      <td>7519923</td>\n",
       "      <td>Counter-Strike Condition Zero</td>\n",
       "      <td>purchase</td>\n",
       "      <td>1.0</td>\n",
       "    </tr>\n",
       "    <tr>\n",
       "      <th>6304</th>\n",
       "      <td>7519923</td>\n",
       "      <td>Counter-Strike Condition Zero Deleted Scenes</td>\n",
       "      <td>purchase</td>\n",
       "      <td>1.0</td>\n",
       "    </tr>\n",
       "    <tr>\n",
       "      <th>6305</th>\n",
       "      <td>103963922</td>\n",
       "      <td>Team Fortress 2</td>\n",
       "      <td>purchase</td>\n",
       "      <td>1.0</td>\n",
       "    </tr>\n",
       "  </tbody>\n",
       "</table>\n",
       "<p>3984 rows × 4 columns</p>\n",
       "</div>"
      ],
      "text/plain": [
       "        user_id                                     game_name  activity  \\\n",
       "0     218323237                                        Dota 2  purchase   \n",
       "2     218323237                                   Tomb Raider  purchase   \n",
       "4     218323237                                          TERA  purchase   \n",
       "6     126340495                                        Dota 2  purchase   \n",
       "8     126340495               Counter-Strike Global Offensive  purchase   \n",
       "...         ...                                           ...       ...   \n",
       "6299  190460990                                        Dota 2  purchase   \n",
       "6301    7519923                                Counter-Strike  purchase   \n",
       "6303    7519923                 Counter-Strike Condition Zero  purchase   \n",
       "6304    7519923  Counter-Strike Condition Zero Deleted Scenes  purchase   \n",
       "6305  103963922                               Team Fortress 2  purchase   \n",
       "\n",
       "      hours_played_if_play  \n",
       "0                      1.0  \n",
       "2                      1.0  \n",
       "4                      1.0  \n",
       "6                      1.0  \n",
       "8                      1.0  \n",
       "...                    ...  \n",
       "6299                   1.0  \n",
       "6301                   1.0  \n",
       "6303                   1.0  \n",
       "6304                   1.0  \n",
       "6305                   1.0  \n",
       "\n",
       "[3984 rows x 4 columns]"
      ]
     },
     "execution_count": 35,
     "metadata": {},
     "output_type": "execute_result"
    }
   ],
   "source": [
    "df_purchase = df[df.activity == \"purchase\"]\n",
    "df_purchase"
   ]
  },
  {
   "cell_type": "code",
   "execution_count": 36,
   "metadata": {},
   "outputs": [
    {
     "data": {
      "text/html": [
       "<div>\n",
       "<style scoped>\n",
       "    .dataframe tbody tr th:only-of-type {\n",
       "        vertical-align: middle;\n",
       "    }\n",
       "\n",
       "    .dataframe tbody tr th {\n",
       "        vertical-align: top;\n",
       "    }\n",
       "\n",
       "    .dataframe thead th {\n",
       "        text-align: right;\n",
       "    }\n",
       "</style>\n",
       "<table border=\"1\" class=\"dataframe\">\n",
       "  <thead>\n",
       "    <tr style=\"text-align: right;\">\n",
       "      <th></th>\n",
       "      <th>user_id</th>\n",
       "      <th>game_name</th>\n",
       "      <th>activity</th>\n",
       "      <th>hours_played_if_play</th>\n",
       "    </tr>\n",
       "  </thead>\n",
       "  <tbody>\n",
       "    <tr>\n",
       "      <th>1</th>\n",
       "      <td>218323237</td>\n",
       "      <td>Dota 2</td>\n",
       "      <td>play</td>\n",
       "      <td>14.8</td>\n",
       "    </tr>\n",
       "    <tr>\n",
       "      <th>3</th>\n",
       "      <td>218323237</td>\n",
       "      <td>Tomb Raider</td>\n",
       "      <td>play</td>\n",
       "      <td>8.8</td>\n",
       "    </tr>\n",
       "    <tr>\n",
       "      <th>5</th>\n",
       "      <td>218323237</td>\n",
       "      <td>TERA</td>\n",
       "      <td>play</td>\n",
       "      <td>0.9</td>\n",
       "    </tr>\n",
       "    <tr>\n",
       "      <th>7</th>\n",
       "      <td>126340495</td>\n",
       "      <td>Dota 2</td>\n",
       "      <td>play</td>\n",
       "      <td>1784.0</td>\n",
       "    </tr>\n",
       "    <tr>\n",
       "      <th>9</th>\n",
       "      <td>126340495</td>\n",
       "      <td>Counter-Strike Global Offensive</td>\n",
       "      <td>play</td>\n",
       "      <td>626.0</td>\n",
       "    </tr>\n",
       "    <tr>\n",
       "      <th>...</th>\n",
       "      <td>...</td>\n",
       "      <td>...</td>\n",
       "      <td>...</td>\n",
       "      <td>...</td>\n",
       "    </tr>\n",
       "    <tr>\n",
       "      <th>6296</th>\n",
       "      <td>73761548</td>\n",
       "      <td>Sid Meier's Civilization V</td>\n",
       "      <td>play</td>\n",
       "      <td>92.0</td>\n",
       "    </tr>\n",
       "    <tr>\n",
       "      <th>6298</th>\n",
       "      <td>138590829</td>\n",
       "      <td>Dota 2</td>\n",
       "      <td>play</td>\n",
       "      <td>1026.0</td>\n",
       "    </tr>\n",
       "    <tr>\n",
       "      <th>6300</th>\n",
       "      <td>190460990</td>\n",
       "      <td>Dota 2</td>\n",
       "      <td>play</td>\n",
       "      <td>1.5</td>\n",
       "    </tr>\n",
       "    <tr>\n",
       "      <th>6302</th>\n",
       "      <td>7519923</td>\n",
       "      <td>Counter-Strike</td>\n",
       "      <td>play</td>\n",
       "      <td>35.0</td>\n",
       "    </tr>\n",
       "    <tr>\n",
       "      <th>6306</th>\n",
       "      <td>103963922</td>\n",
       "      <td>Team Fortress 2</td>\n",
       "      <td>play</td>\n",
       "      <td>0.4</td>\n",
       "    </tr>\n",
       "  </tbody>\n",
       "</table>\n",
       "<p>2314 rows × 4 columns</p>\n",
       "</div>"
      ],
      "text/plain": [
       "        user_id                        game_name activity  \\\n",
       "1     218323237                           Dota 2     play   \n",
       "3     218323237                      Tomb Raider     play   \n",
       "5     218323237                             TERA     play   \n",
       "7     126340495                           Dota 2     play   \n",
       "9     126340495  Counter-Strike Global Offensive     play   \n",
       "...         ...                              ...      ...   \n",
       "6296   73761548       Sid Meier's Civilization V     play   \n",
       "6298  138590829                           Dota 2     play   \n",
       "6300  190460990                           Dota 2     play   \n",
       "6302    7519923                   Counter-Strike     play   \n",
       "6306  103963922                  Team Fortress 2     play   \n",
       "\n",
       "      hours_played_if_play  \n",
       "1                     14.8  \n",
       "3                      8.8  \n",
       "5                      0.9  \n",
       "7                   1784.0  \n",
       "9                    626.0  \n",
       "...                    ...  \n",
       "6296                  92.0  \n",
       "6298                1026.0  \n",
       "6300                   1.5  \n",
       "6302                  35.0  \n",
       "6306                   0.4  \n",
       "\n",
       "[2314 rows x 4 columns]"
      ]
     },
     "execution_count": 36,
     "metadata": {},
     "output_type": "execute_result"
    }
   ],
   "source": [
    "df_play = df[df.activity == \"play\"]\n",
    "df_play"
   ]
  },
  {
   "cell_type": "markdown",
   "metadata": {},
   "source": [
    "### 6. Percentage of Game Purchases that are Actually Played\n",
    "\n",
    "What percentage of all total game purchases in this dataset are actually played by the player that purchased them?\n",
    "\n",
    "*You can assume that a game and user id that has a 'play' row ALSO MUST have a 'purchase' row (but not the other way around).*\n",
    "\n",
    "**For full credit, use automated Python code to find your answer. (Ie. don't put something like '30/50', where you found the 30 and 50 from the output of other code.)**"
   ]
  },
  {
   "cell_type": "code",
   "execution_count": 38,
   "metadata": {},
   "outputs": [
    {
     "data": {
      "text/plain": [
       "58.08232931726908"
      ]
     },
     "execution_count": 38,
     "metadata": {},
     "output_type": "execute_result"
    }
   ],
   "source": [
    "percentage = (len(df_play) / len(df_purchase)) * 100\n",
    "percentage"
   ]
  },
  {
   "cell_type": "markdown",
   "metadata": {},
   "source": [
    "### 7. Top Game Purchaser\n",
    "\n",
    "Next, we'd like to learn more about the people who *purchase* the most amount of games.\n",
    "\n",
    "#### 7.1. Most Amount of Games Purchased\n",
    "\n",
    "What is the user id of the player who has purchased the most amount of games in this dataset, and how many games have they purchased?"
   ]
  },
  {
   "cell_type": "code",
   "execution_count": 48,
   "metadata": {},
   "outputs": [
    {
     "data": {
      "text/plain": [
       "user_id                 27279261\n",
       "game_name                    185\n",
       "activity                     185\n",
       "hours_played_if_play         185\n",
       "Name: 16, dtype: int64"
      ]
     },
     "execution_count": 48,
     "metadata": {},
     "output_type": "execute_result"
    }
   ],
   "source": [
    "df_group = df_purchase.groupby(\"user_id\").agg(\"count\").reset_index()\n",
    "df_sorted = df_group.sort_values(by='game_name', ascending=False)\n",
    "top_user = df_sorted.iloc[0]\n",
    "top_user\n"
   ]
  },
  {
   "cell_type": "code",
   "execution_count": null,
   "metadata": {},
   "outputs": [],
   "source": []
  },
  {
   "cell_type": "markdown",
   "metadata": {},
   "source": []
  },
  {
   "cell_type": "markdown",
   "metadata": {},
   "source": [
    "#### 7.2. How many games has this user actually played?\n",
    "\n",
    "What percentage of the purchased games did this player from 7.1 actually play?"
   ]
  },
  {
   "cell_type": "code",
   "execution_count": 49,
   "metadata": {},
   "outputs": [
    {
     "data": {
      "text/plain": [
       "55.67567567567567"
      ]
     },
     "execution_count": 49,
     "metadata": {},
     "output_type": "execute_result"
    }
   ],
   "source": [
    "top_user_play = df_play[df_play.user_id == 27279261]\n",
    "percentage_top_user_played = (len(top_user_play) / top_user['game_name']) * 100\n",
    "percentage_top_user_played"
   ]
  },
  {
   "cell_type": "code",
   "execution_count": null,
   "metadata": {},
   "outputs": [],
   "source": []
  },
  {
   "cell_type": "markdown",
   "metadata": {},
   "source": [
    "## 8. Examining Some Game \"All-Star\" Players\n",
    "\n",
    "Next, we'd like to examine the play vs. purchase behavior of a few games' \"all star players\". We will consider a game's \"all star player\" to be the one who has played the game the longest in this dataset.\n",
    "\n",
    "### 8.1. Each Game's Highest Play Time\n",
    "\n",
    "In a single dataframe below, display the highest amount of time that each game was played.\n",
    "\n",
    "For full credit, your final resulting dataframe should:\n",
    "1. Be comprised of *two columns*\n",
    " * `game_name`\n",
    " * `hours_played_if_play`\n",
    "2. And should have an index going from 0,1,2,... etc."
   ]
  },
  {
   "cell_type": "code",
   "execution_count": 65,
   "metadata": {},
   "outputs": [
    {
     "data": {
      "text/html": [
       "<div>\n",
       "<style scoped>\n",
       "    .dataframe tbody tr th:only-of-type {\n",
       "        vertical-align: middle;\n",
       "    }\n",
       "\n",
       "    .dataframe tbody tr th {\n",
       "        vertical-align: top;\n",
       "    }\n",
       "\n",
       "    .dataframe thead th {\n",
       "        text-align: right;\n",
       "    }\n",
       "</style>\n",
       "<table border=\"1\" class=\"dataframe\">\n",
       "  <thead>\n",
       "    <tr style=\"text-align: right;\">\n",
       "      <th></th>\n",
       "      <th>game_name</th>\n",
       "      <th>hours_played_if_play</th>\n",
       "    </tr>\n",
       "  </thead>\n",
       "  <tbody>\n",
       "    <tr>\n",
       "      <th>0</th>\n",
       "      <td>7 Days to Die</td>\n",
       "      <td>336.0</td>\n",
       "    </tr>\n",
       "    <tr>\n",
       "      <th>1</th>\n",
       "      <td>8BitBoy</td>\n",
       "      <td>24.0</td>\n",
       "    </tr>\n",
       "    <tr>\n",
       "      <th>2</th>\n",
       "      <td>A Valley Without Wind</td>\n",
       "      <td>1.2</td>\n",
       "    </tr>\n",
       "    <tr>\n",
       "      <th>3</th>\n",
       "      <td>A Valley Without Wind 2</td>\n",
       "      <td>0.1</td>\n",
       "    </tr>\n",
       "    <tr>\n",
       "      <th>4</th>\n",
       "      <td>ACE COMBAT ASSAULT HORIZON Enhanced Edition</td>\n",
       "      <td>7.7</td>\n",
       "    </tr>\n",
       "    <tr>\n",
       "      <th>...</th>\n",
       "      <td>...</td>\n",
       "      <td>...</td>\n",
       "    </tr>\n",
       "    <tr>\n",
       "      <th>838</th>\n",
       "      <td>Zombie Panic Source</td>\n",
       "      <td>0.5</td>\n",
       "    </tr>\n",
       "    <tr>\n",
       "      <th>839</th>\n",
       "      <td>eden*</td>\n",
       "      <td>4.3</td>\n",
       "    </tr>\n",
       "    <tr>\n",
       "      <th>840</th>\n",
       "      <td>realMyst Masterpiece Edition</td>\n",
       "      <td>7.5</td>\n",
       "    </tr>\n",
       "    <tr>\n",
       "      <th>841</th>\n",
       "      <td>resident evil 4 / biohazard 4</td>\n",
       "      <td>3.8</td>\n",
       "    </tr>\n",
       "    <tr>\n",
       "      <th>842</th>\n",
       "      <td>theHunter</td>\n",
       "      <td>0.6</td>\n",
       "    </tr>\n",
       "  </tbody>\n",
       "</table>\n",
       "<p>843 rows × 2 columns</p>\n",
       "</div>"
      ],
      "text/plain": [
       "                                       game_name  hours_played_if_play\n",
       "0                                  7 Days to Die                 336.0\n",
       "1                                        8BitBoy                  24.0\n",
       "2                          A Valley Without Wind                   1.2\n",
       "3                        A Valley Without Wind 2                   0.1\n",
       "4    ACE COMBAT ASSAULT HORIZON Enhanced Edition                   7.7\n",
       "..                                           ...                   ...\n",
       "838                          Zombie Panic Source                   0.5\n",
       "839                                        eden*                   4.3\n",
       "840                 realMyst Masterpiece Edition                   7.5\n",
       "841                resident evil 4 / biohazard 4                   3.8\n",
       "842                                    theHunter                   0.6\n",
       "\n",
       "[843 rows x 2 columns]"
      ]
     },
     "execution_count": 65,
     "metadata": {},
     "output_type": "execute_result"
    }
   ],
   "source": [
    "df_temp = df_play.groupby(\"game_name\").agg(\"max\").reset_index()\n",
    "df_highest_time_played = df_temp[['game_name', 'hours_played_if_play']]\n",
    "df_highest_time_played"
   ]
  },
  {
   "cell_type": "code",
   "execution_count": null,
   "metadata": {},
   "outputs": [],
   "source": []
  },
  {
   "cell_type": "code",
   "execution_count": null,
   "metadata": {},
   "outputs": [],
   "source": []
  },
  {
   "cell_type": "markdown",
   "metadata": {},
   "source": [
    "### 8.2. Ranking the Games by Highest Maximum Game Play Time\n",
    "\n",
    "Sort your final resulting dataframe from 8.1 by the number of hours that the game was played by the all-star player *in descending order*.\n",
    "\n",
    "Overwrite your dataframe, so it remains sorted in this order."
   ]
  },
  {
   "cell_type": "code",
   "execution_count": 66,
   "metadata": {},
   "outputs": [
    {
     "name": "stderr",
     "output_type": "stream",
     "text": [
      "C:\\Users\\samma\\AppData\\Local\\Temp\\ipykernel_33012\\3539495552.py:1: SettingWithCopyWarning: \n",
      "A value is trying to be set on a copy of a slice from a DataFrame\n",
      "\n",
      "See the caveats in the documentation: https://pandas.pydata.org/pandas-docs/stable/user_guide/indexing.html#returning-a-view-versus-a-copy\n",
      "  df_highest_time_played.sort_values(\"hours_played_if_play\", ascending=False, inplace=True)\n"
     ]
    },
    {
     "data": {
      "text/html": [
       "<div>\n",
       "<style scoped>\n",
       "    .dataframe tbody tr th:only-of-type {\n",
       "        vertical-align: middle;\n",
       "    }\n",
       "\n",
       "    .dataframe tbody tr th {\n",
       "        vertical-align: top;\n",
       "    }\n",
       "\n",
       "    .dataframe thead th {\n",
       "        text-align: right;\n",
       "    }\n",
       "</style>\n",
       "<table border=\"1\" class=\"dataframe\">\n",
       "  <thead>\n",
       "    <tr style=\"text-align: right;\">\n",
       "      <th></th>\n",
       "      <th>game_name</th>\n",
       "      <th>hours_played_if_play</th>\n",
       "    </tr>\n",
       "  </thead>\n",
       "  <tbody>\n",
       "    <tr>\n",
       "      <th>225</th>\n",
       "      <td>Dota 2</td>\n",
       "      <td>5608.0</td>\n",
       "    </tr>\n",
       "    <tr>\n",
       "      <th>616</th>\n",
       "      <td>Sid Meier's Civilization V</td>\n",
       "      <td>5002.0</td>\n",
       "    </tr>\n",
       "    <tr>\n",
       "      <th>60</th>\n",
       "      <td>Baldur's Gate II Enhanced Edition</td>\n",
       "      <td>3898.0</td>\n",
       "    </tr>\n",
       "    <tr>\n",
       "      <th>59</th>\n",
       "      <td>Baldur's Gate Enhanced Edition</td>\n",
       "      <td>2630.0</td>\n",
       "    </tr>\n",
       "    <tr>\n",
       "      <th>151</th>\n",
       "      <td>Counter-Strike</td>\n",
       "      <td>2526.0</td>\n",
       "    </tr>\n",
       "    <tr>\n",
       "      <th>...</th>\n",
       "      <td>...</td>\n",
       "      <td>...</td>\n",
       "    </tr>\n",
       "    <tr>\n",
       "      <th>173</th>\n",
       "      <td>DOOM 3 BFG Edition</td>\n",
       "      <td>0.1</td>\n",
       "    </tr>\n",
       "    <tr>\n",
       "      <th>378</th>\n",
       "      <td>Indie Game The Movie</td>\n",
       "      <td>0.1</td>\n",
       "    </tr>\n",
       "    <tr>\n",
       "      <th>377</th>\n",
       "      <td>I Have No Mouth, and I Must Scream</td>\n",
       "      <td>0.1</td>\n",
       "    </tr>\n",
       "    <tr>\n",
       "      <th>3</th>\n",
       "      <td>A Valley Without Wind 2</td>\n",
       "      <td>0.1</td>\n",
       "    </tr>\n",
       "    <tr>\n",
       "      <th>623</th>\n",
       "      <td>SkyDrift</td>\n",
       "      <td>0.1</td>\n",
       "    </tr>\n",
       "  </tbody>\n",
       "</table>\n",
       "<p>843 rows × 2 columns</p>\n",
       "</div>"
      ],
      "text/plain": [
       "                              game_name  hours_played_if_play\n",
       "225                              Dota 2                5608.0\n",
       "616          Sid Meier's Civilization V                5002.0\n",
       "60    Baldur's Gate II Enhanced Edition                3898.0\n",
       "59       Baldur's Gate Enhanced Edition                2630.0\n",
       "151                      Counter-Strike                2526.0\n",
       "..                                  ...                   ...\n",
       "173                  DOOM 3 BFG Edition                   0.1\n",
       "378                Indie Game The Movie                   0.1\n",
       "377  I Have No Mouth, and I Must Scream                   0.1\n",
       "3               A Valley Without Wind 2                   0.1\n",
       "623                            SkyDrift                   0.1\n",
       "\n",
       "[843 rows x 2 columns]"
      ]
     },
     "execution_count": 66,
     "metadata": {},
     "output_type": "execute_result"
    }
   ],
   "source": [
    "df_highest_time_played.sort_values(\"hours_played_if_play\", ascending=False, inplace=True)\n",
    "df_highest_time_played"
   ]
  },
  {
   "cell_type": "markdown",
   "metadata": {},
   "source": [
    "### 8.3. Top 3 Games with the Most Dedicated \"All-Star Player\"\n",
    "\n",
    "Which three games in this dataset had the most \"dedicated\" \"all star players\"? Or in other words, which three games were played the longest amount of time by a particular player?"
   ]
  },
  {
   "cell_type": "code",
   "execution_count": 67,
   "metadata": {},
   "outputs": [
    {
     "data": {
      "text/html": [
       "<div>\n",
       "<style scoped>\n",
       "    .dataframe tbody tr th:only-of-type {\n",
       "        vertical-align: middle;\n",
       "    }\n",
       "\n",
       "    .dataframe tbody tr th {\n",
       "        vertical-align: top;\n",
       "    }\n",
       "\n",
       "    .dataframe thead th {\n",
       "        text-align: right;\n",
       "    }\n",
       "</style>\n",
       "<table border=\"1\" class=\"dataframe\">\n",
       "  <thead>\n",
       "    <tr style=\"text-align: right;\">\n",
       "      <th></th>\n",
       "      <th>game_name</th>\n",
       "      <th>hours_played_if_play</th>\n",
       "    </tr>\n",
       "  </thead>\n",
       "  <tbody>\n",
       "    <tr>\n",
       "      <th>225</th>\n",
       "      <td>Dota 2</td>\n",
       "      <td>5608.0</td>\n",
       "    </tr>\n",
       "    <tr>\n",
       "      <th>616</th>\n",
       "      <td>Sid Meier's Civilization V</td>\n",
       "      <td>5002.0</td>\n",
       "    </tr>\n",
       "    <tr>\n",
       "      <th>60</th>\n",
       "      <td>Baldur's Gate II Enhanced Edition</td>\n",
       "      <td>3898.0</td>\n",
       "    </tr>\n",
       "  </tbody>\n",
       "</table>\n",
       "</div>"
      ],
      "text/plain": [
       "                             game_name  hours_played_if_play\n",
       "225                             Dota 2                5608.0\n",
       "616         Sid Meier's Civilization V                5002.0\n",
       "60   Baldur's Gate II Enhanced Edition                3898.0"
      ]
     },
     "execution_count": 67,
     "metadata": {},
     "output_type": "execute_result"
    }
   ],
   "source": [
    "df_highest_time_played.head(3)"
   ]
  },
  {
   "cell_type": "markdown",
   "metadata": {},
   "source": []
  },
  {
   "cell_type": "markdown",
   "metadata": {},
   "source": [
    "### 8.4. Identifying these \"All Star Players\"\n",
    "\n",
    "For these three games that you selected in 8.3 above, what is the user id of their respective \"all star player\"?"
   ]
  },
  {
   "cell_type": "code",
   "execution_count": 70,
   "metadata": {},
   "outputs": [
    {
     "data": {
      "text/plain": [
       "1150    67694595\n",
       "Name: user_id, dtype: int64"
      ]
     },
     "execution_count": 70,
     "metadata": {},
     "output_type": "execute_result"
    }
   ],
   "source": [
    "user_dota = df_play[(df_play.game_name == \"Dota 2\") & (df_play.hours_played_if_play == 5608.0)]\n",
    "user_dota['user_id']"
   ]
  },
  {
   "cell_type": "code",
   "execution_count": 71,
   "metadata": {},
   "outputs": [
    {
     "data": {
      "text/plain": [
       "5972    128065805\n",
       "Name: user_id, dtype: int64"
      ]
     },
     "execution_count": 71,
     "metadata": {},
     "output_type": "execute_result"
    }
   ],
   "source": [
    "user_sid = df_play[(df_play.game_name == \"Sid Meier's Civilization V\") & (df_play.hours_played_if_play == 5002.0)]\n",
    "user_sid['user_id']"
   ]
  },
  {
   "cell_type": "code",
   "execution_count": 72,
   "metadata": {},
   "outputs": [
    {
     "data": {
      "text/plain": [
       "3461    52731290\n",
       "Name: user_id, dtype: int64"
      ]
     },
     "execution_count": 72,
     "metadata": {},
     "output_type": "execute_result"
    }
   ],
   "source": [
    "user_baldur = df_play[(df_play.game_name == \"Baldur's Gate II Enhanced Edition\") & (df_play.hours_played_if_play == 3898.0)]\n",
    "user_baldur['user_id']"
   ]
  },
  {
   "cell_type": "markdown",
   "metadata": {},
   "source": [
    "## 9. Learning about the All-Star Players\n",
    "\n",
    "Finally, let's learn more about the play vs. purchase behavior of these three \"all star\" players that we identified in #8. Specifically for each of these three player user ids that you identified in #8, what percentage of games that they bought did they actually play?"
   ]
  },
  {
   "cell_type": "code",
   "execution_count": 75,
   "metadata": {},
   "outputs": [
    {
     "data": {
      "text/plain": [
       "63.1578947368421"
      ]
     },
     "execution_count": 75,
     "metadata": {},
     "output_type": "execute_result"
    }
   ],
   "source": [
    "percentage_dota_player = ((len(df_play[df_play.user_id == 67694595])) / (len(df_purchase[df_purchase.user_id == 67694595]))) * 100\n",
    "percentage_dota_player"
   ]
  },
  {
   "cell_type": "code",
   "execution_count": 76,
   "metadata": {},
   "outputs": [
    {
     "data": {
      "text/plain": [
       "100.0"
      ]
     },
     "execution_count": 76,
     "metadata": {},
     "output_type": "execute_result"
    }
   ],
   "source": [
    "percentage_sid_player = ((len(df_play[df_play.user_id == 128065805])) / (len(df_purchase[df_purchase.user_id == 128065805]))) * 100\n",
    "percentage_sid_player"
   ]
  },
  {
   "cell_type": "code",
   "execution_count": 81,
   "metadata": {},
   "outputs": [
    {
     "data": {
      "text/plain": [
       "92.5925925925926"
      ]
     },
     "execution_count": 81,
     "metadata": {},
     "output_type": "execute_result"
    }
   ],
   "source": [
    "percentage_baldur_player = ((len(df_play[df_play.user_id == 52731290])) / (len(df_purchase[df_purchase.user_id == 52731290]))) * 100\n",
    "percentage_baldur_player"
   ]
  }
 ],
 "metadata": {
  "kernelspec": {
   "display_name": "Python 3 (ipykernel)",
   "language": "python",
   "name": "python3"
  },
  "language_info": {
   "codemirror_mode": {
    "name": "ipython",
    "version": 3
   },
   "file_extension": ".py",
   "mimetype": "text/x-python",
   "name": "python",
   "nbconvert_exporter": "python",
   "pygments_lexer": "ipython3",
   "version": "3.11.6"
  }
 },
 "nbformat": 4,
 "nbformat_minor": 2
}
