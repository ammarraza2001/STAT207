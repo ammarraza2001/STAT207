{
 "cells": [
  {
   "cell_type": "markdown",
   "metadata": {},
   "source": [
    "# STAT 207 Lab Assignment 3 - Group Part - [9 total points]\n",
    "\n",
    "This group lab assignment will be atypical in that it is worth 9 points (as opposed to the typical 5).\n"
   ]
  },
  {
   "cell_type": "markdown",
   "metadata": {},
   "source": [
    "## <u>Case Study</u>: Association between Two Variables - Controlling for a Third\n",
    "\n",
    "<p>&nbsp;</p>\n",
    "<table style=\"border: none;border-collapse: collapse;width:102pt;\">\n",
    "    <tbody>\n",
    "        <tr>\n",
    "            <td style=\"color:black;font-size:15px;font-weight:700;font-style:normal;text-decoration:none;font-family:Calibri, sans-serif;text-align:general;vertical-align:bottom;border:.5pt solid windowtext;height:14.25pt;width:51pt;\">Problem</td>\n",
    "            <td style=\"color:black;font-size:15px;font-weight:700;font-style:normal;text-decoration:none;font-family:Calibri, sans-serif;text-align:general;vertical-align:bottom;border:.5pt solid windowtext;border-left:none;width:51pt;\">Points</td>\n",
    "        </tr>\n",
    "        <tr>\n",
    "            <td style=\"color:black;font-size:15px;font-weight:400;font-style:normal;text-decoration:none;font-family:Calibri, sans-serif;text-align:right;vertical-align:bottom;border:.5pt solid windowtext;height:14.25pt;border-top:none;\">1</td>\n",
    "            <td style=\"color:black;font-size:15px;font-weight:400;font-style:normal;text-decoration:none;font-family:Calibri, sans-serif;text-align:right;vertical-align:bottom;border:.5pt solid windowtext;border-top:none;border-left:none;\">1</td>\n",
    "        </tr>\n",
    "        <tr>\n",
    "            <td style=\"color:black;font-size:15px;font-weight:400;font-style:normal;text-decoration:none;font-family:Calibri, sans-serif;text-align:right;vertical-align:bottom;border:.5pt solid windowtext;height:14.25pt;border-top:none;\">2</td>\n",
    "            <td style=\"color:black;font-size:15px;font-weight:400;font-style:normal;text-decoration:none;font-family:Calibri, sans-serif;text-align:right;vertical-align:bottom;border:.5pt solid windowtext;border-top:none;border-left:none;\">1</td>\n",
    "        </tr>\n",
    "        <tr>\n",
    "            <td style=\"color:black;font-size:15px;font-weight:400;font-style:normal;text-decoration:none;font-family:Calibri, sans-serif;text-align:right;vertical-align:bottom;border:.5pt solid windowtext;height:14.25pt;border-top:none;\">3</td>\n",
    "            <td style=\"color:black;font-size:15px;font-weight:400;font-style:normal;text-decoration:none;font-family:Calibri, sans-serif;text-align:right;vertical-align:bottom;border:.5pt solid windowtext;border-top:none;border-left:none;\">1</td>\n",
    "        </tr>\n",
    "        <tr>\n",
    "            <td style=\"color:black;font-size:15px;font-weight:400;font-style:normal;text-decoration:none;font-family:Calibri, sans-serif;text-align:right;vertical-align:bottom;border:.5pt solid windowtext;height:14.25pt;border-top:none;\">4</td>\n",
    "            <td style=\"color:black;font-size:15px;font-weight:400;font-style:normal;text-decoration:none;font-family:Calibri, sans-serif;text-align:right;vertical-align:bottom;border:.5pt solid windowtext;border-top:none;border-left:none;\">0.5</td>\n",
    "        </tr>\n",
    "        <tr>\n",
    "            <td style=\"color:black;font-size:15px;font-weight:400;font-style:normal;text-decoration:none;font-family:Calibri, sans-serif;text-align:right;vertical-align:bottom;border:.5pt solid windowtext;height:14.25pt;border-top:none;\">5</td>\n",
    "            <td style=\"color:black;font-size:15px;font-weight:400;font-style:normal;text-decoration:none;font-family:Calibri, sans-serif;text-align:right;vertical-align:bottom;border:.5pt solid windowtext;border-top:none;border-left:none;\">1</td>\n",
    "        </tr>\n",
    "        <tr>\n",
    "            <td style=\"color:black;font-size:15px;font-weight:400;font-style:normal;text-decoration:none;font-family:Calibri, sans-serif;text-align:right;vertical-align:bottom;border:.5pt solid windowtext;height:14.25pt;border-top:none;\">6</td>\n",
    "            <td style=\"color:black;font-size:15px;font-weight:400;font-style:normal;text-decoration:none;font-family:Calibri, sans-serif;text-align:right;vertical-align:bottom;border:.5pt solid windowtext;border-top:none;border-left:none;\">2</td>\n",
    "        </tr>\n",
    "        <tr>\n",
    "            <td style=\"color:black;font-size:15px;font-weight:400;font-style:normal;text-decoration:none;font-family:Calibri, sans-serif;text-align:right;vertical-align:bottom;border:.5pt solid windowtext;height:14.25pt;border-top:none;\">7</td>\n",
    "            <td style=\"color:black;font-size:15px;font-weight:400;font-style:normal;text-decoration:none;font-family:Calibri, sans-serif;text-align:right;vertical-align:bottom;border:.5pt solid windowtext;border-top:none;border-left:none;\">2.5</td>\n",
    "        </tr>\n",
    "    </tbody>\n",
    "</table>\n",
    "\n",
    "### 1. Coffee Brands Dataset\n",
    "\n",
    "In this case study we will explore and answer a research question based on the dataset that can be found in the `coffee_top_varieties.csv` file. Each row in this dataset represents a brand of coffee.\n",
    "\n",
    "Click on this link to learn more about what each of the variables represent. https://corgis-edu.github.io/corgis/csv/coffee/\n",
    "\n",
    "\n",
    "Then do the following.\n",
    "\n",
    "1. Read the csv file into a dataframe.\n",
    "2. Display the first 5 rows.\n",
    "3. Show the number of rows and columns in the dataframe."
   ]
  },
  {
   "cell_type": "code",
   "execution_count": 1,
   "metadata": {},
   "outputs": [],
   "source": [
    "import pandas as pd\n",
    "import numpy as np\n",
    "import seaborn as sns\n",
    "import matplotlib.pyplot as plt"
   ]
  },
  {
   "cell_type": "code",
   "execution_count": 16,
   "metadata": {},
   "outputs": [
    {
     "data": {
      "text/html": [
       "<div>\n",
       "<style scoped>\n",
       "    .dataframe tbody tr th:only-of-type {\n",
       "        vertical-align: middle;\n",
       "    }\n",
       "\n",
       "    .dataframe tbody tr th {\n",
       "        vertical-align: top;\n",
       "    }\n",
       "\n",
       "    .dataframe thead th {\n",
       "        text-align: right;\n",
       "    }\n",
       "</style>\n",
       "<table border=\"1\" class=\"dataframe\">\n",
       "  <thead>\n",
       "    <tr style=\"text-align: right;\">\n",
       "      <th></th>\n",
       "      <th>Location.Country</th>\n",
       "      <th>Location.Region</th>\n",
       "      <th>Location.Altitude.Min</th>\n",
       "      <th>Location.Altitude.Max</th>\n",
       "      <th>Location.Altitude.Average</th>\n",
       "      <th>Year</th>\n",
       "      <th>Data.Owner</th>\n",
       "      <th>Data.Type.Species</th>\n",
       "      <th>Data.Type.Variety</th>\n",
       "      <th>Data.Type.Processing method</th>\n",
       "      <th>...</th>\n",
       "      <th>Data.Scores.Flavor</th>\n",
       "      <th>Data.Scores.Aftertaste</th>\n",
       "      <th>Data.Scores.Acidity</th>\n",
       "      <th>Data.Scores.Body</th>\n",
       "      <th>Data.Scores.Balance</th>\n",
       "      <th>Data.Scores.Uniformity</th>\n",
       "      <th>Data.Scores.Sweetness</th>\n",
       "      <th>Data.Scores.Moisture</th>\n",
       "      <th>Data.Scores.Total</th>\n",
       "      <th>Data.Color</th>\n",
       "    </tr>\n",
       "  </thead>\n",
       "  <tbody>\n",
       "    <tr>\n",
       "      <th>0</th>\n",
       "      <td>Brazil</td>\n",
       "      <td>south of minas</td>\n",
       "      <td>1250</td>\n",
       "      <td>1250</td>\n",
       "      <td>1250</td>\n",
       "      <td>2011</td>\n",
       "      <td>nucoffee</td>\n",
       "      <td>Arabica</td>\n",
       "      <td>Bourbon</td>\n",
       "      <td>Natural / Dry</td>\n",
       "      <td>...</td>\n",
       "      <td>8.50</td>\n",
       "      <td>8.00</td>\n",
       "      <td>8.00</td>\n",
       "      <td>8.00</td>\n",
       "      <td>8.00</td>\n",
       "      <td>10.0</td>\n",
       "      <td>10.0</td>\n",
       "      <td>0.12</td>\n",
       "      <td>86.92</td>\n",
       "      <td>Green</td>\n",
       "    </tr>\n",
       "    <tr>\n",
       "      <th>1</th>\n",
       "      <td>Brazil</td>\n",
       "      <td>vale da grama</td>\n",
       "      <td>1300</td>\n",
       "      <td>1300</td>\n",
       "      <td>1300</td>\n",
       "      <td>2011</td>\n",
       "      <td>nucoffee</td>\n",
       "      <td>Arabica</td>\n",
       "      <td>Bourbon</td>\n",
       "      <td>Natural / Dry</td>\n",
       "      <td>...</td>\n",
       "      <td>8.17</td>\n",
       "      <td>8.00</td>\n",
       "      <td>7.75</td>\n",
       "      <td>8.00</td>\n",
       "      <td>8.00</td>\n",
       "      <td>10.0</td>\n",
       "      <td>10.0</td>\n",
       "      <td>0.12</td>\n",
       "      <td>86.42</td>\n",
       "      <td>Green</td>\n",
       "    </tr>\n",
       "    <tr>\n",
       "      <th>2</th>\n",
       "      <td>Brazil</td>\n",
       "      <td>south of minas</td>\n",
       "      <td>1250</td>\n",
       "      <td>1250</td>\n",
       "      <td>1250</td>\n",
       "      <td>2011</td>\n",
       "      <td>nucoffee</td>\n",
       "      <td>Arabica</td>\n",
       "      <td>Bourbon</td>\n",
       "      <td>Semi-washed / Semi-pulped</td>\n",
       "      <td>...</td>\n",
       "      <td>8.00</td>\n",
       "      <td>8.00</td>\n",
       "      <td>8.00</td>\n",
       "      <td>7.75</td>\n",
       "      <td>8.00</td>\n",
       "      <td>10.0</td>\n",
       "      <td>10.0</td>\n",
       "      <td>0.11</td>\n",
       "      <td>86.08</td>\n",
       "      <td>Blue-Green</td>\n",
       "    </tr>\n",
       "    <tr>\n",
       "      <th>3</th>\n",
       "      <td>Brazil</td>\n",
       "      <td>south of minas</td>\n",
       "      <td>1250</td>\n",
       "      <td>1250</td>\n",
       "      <td>1250</td>\n",
       "      <td>2011</td>\n",
       "      <td>nucoffee</td>\n",
       "      <td>Arabica</td>\n",
       "      <td>Bourbon</td>\n",
       "      <td>Semi-washed / Semi-pulped</td>\n",
       "      <td>...</td>\n",
       "      <td>8.00</td>\n",
       "      <td>8.00</td>\n",
       "      <td>7.67</td>\n",
       "      <td>7.75</td>\n",
       "      <td>8.00</td>\n",
       "      <td>10.0</td>\n",
       "      <td>10.0</td>\n",
       "      <td>0.11</td>\n",
       "      <td>85.42</td>\n",
       "      <td>Blue-Green</td>\n",
       "    </tr>\n",
       "    <tr>\n",
       "      <th>4</th>\n",
       "      <td>Brazil</td>\n",
       "      <td>south of minas</td>\n",
       "      <td>1200</td>\n",
       "      <td>1200</td>\n",
       "      <td>1200</td>\n",
       "      <td>2011</td>\n",
       "      <td>nucoffee</td>\n",
       "      <td>Arabica</td>\n",
       "      <td>Bourbon</td>\n",
       "      <td>Natural / Dry</td>\n",
       "      <td>...</td>\n",
       "      <td>7.92</td>\n",
       "      <td>7.75</td>\n",
       "      <td>7.75</td>\n",
       "      <td>8.00</td>\n",
       "      <td>7.75</td>\n",
       "      <td>10.0</td>\n",
       "      <td>10.0</td>\n",
       "      <td>0.11</td>\n",
       "      <td>84.92</td>\n",
       "      <td>Green</td>\n",
       "    </tr>\n",
       "  </tbody>\n",
       "</table>\n",
       "<p>5 rows × 23 columns</p>\n",
       "</div>"
      ],
      "text/plain": [
       "  Location.Country Location.Region  Location.Altitude.Min  \\\n",
       "0           Brazil  south of minas                   1250   \n",
       "1           Brazil   vale da grama                   1300   \n",
       "2           Brazil  south of minas                   1250   \n",
       "3           Brazil  south of minas                   1250   \n",
       "4           Brazil  south of minas                   1200   \n",
       "\n",
       "   Location.Altitude.Max  Location.Altitude.Average  Year Data.Owner  \\\n",
       "0                   1250                       1250  2011   nucoffee   \n",
       "1                   1300                       1300  2011   nucoffee   \n",
       "2                   1250                       1250  2011   nucoffee   \n",
       "3                   1250                       1250  2011   nucoffee   \n",
       "4                   1200                       1200  2011   nucoffee   \n",
       "\n",
       "  Data.Type.Species Data.Type.Variety Data.Type.Processing method  ...  \\\n",
       "0           Arabica           Bourbon               Natural / Dry  ...   \n",
       "1           Arabica           Bourbon               Natural / Dry  ...   \n",
       "2           Arabica           Bourbon   Semi-washed / Semi-pulped  ...   \n",
       "3           Arabica           Bourbon   Semi-washed / Semi-pulped  ...   \n",
       "4           Arabica           Bourbon               Natural / Dry  ...   \n",
       "\n",
       "   Data.Scores.Flavor  Data.Scores.Aftertaste  Data.Scores.Acidity  \\\n",
       "0                8.50                    8.00                 8.00   \n",
       "1                8.17                    8.00                 7.75   \n",
       "2                8.00                    8.00                 8.00   \n",
       "3                8.00                    8.00                 7.67   \n",
       "4                7.92                    7.75                 7.75   \n",
       "\n",
       "   Data.Scores.Body  Data.Scores.Balance  Data.Scores.Uniformity  \\\n",
       "0              8.00                 8.00                    10.0   \n",
       "1              8.00                 8.00                    10.0   \n",
       "2              7.75                 8.00                    10.0   \n",
       "3              7.75                 8.00                    10.0   \n",
       "4              8.00                 7.75                    10.0   \n",
       "\n",
       "   Data.Scores.Sweetness  Data.Scores.Moisture  Data.Scores.Total  Data.Color  \n",
       "0                   10.0                  0.12              86.92       Green  \n",
       "1                   10.0                  0.12              86.42       Green  \n",
       "2                   10.0                  0.11              86.08  Blue-Green  \n",
       "3                   10.0                  0.11              85.42  Blue-Green  \n",
       "4                   10.0                  0.11              84.92       Green  \n",
       "\n",
       "[5 rows x 23 columns]"
      ]
     },
     "execution_count": 16,
     "metadata": {},
     "output_type": "execute_result"
    }
   ],
   "source": [
    "df = pd.read_csv('C:\\\\Users\\\\samma\\\\Documents\\\\stat207\\\\saraza2\\\\lab_03\\\\coffee_top_varieties.csv')\n",
    "df.head(5)"
   ]
  },
  {
   "cell_type": "code",
   "execution_count": 17,
   "metadata": {
    "scrolled": true
   },
   "outputs": [
    {
     "data": {
      "text/plain": [
       "(582, 23)"
      ]
     },
     "execution_count": 17,
     "metadata": {},
     "output_type": "execute_result"
    }
   ],
   "source": [
    "df.shape"
   ]
  },
  {
   "cell_type": "markdown",
   "metadata": {},
   "source": [
    "### 2. Missing Value Cleaning\n",
    "\n",
    "#### 2.1. Implicit Missing Value Inspection\n",
    "\n",
    "Do you think that there were any implicit missing value strings in this csv file that we did not account for *in our intended numerical variables*? Or in otherwords, could there be some missing values in our intended numerical variables in the dataframe that are NOT represented as a NaN value?"
   ]
  },
  {
   "cell_type": "markdown",
   "metadata": {},
   "source": []
  },
  {
   "cell_type": "code",
   "execution_count": 18,
   "metadata": {},
   "outputs": [
    {
     "data": {
      "text/plain": [
       "Location.Country                   object\n",
       "Location.Region                    object\n",
       "Location.Altitude.Min               int64\n",
       "Location.Altitude.Max               int64\n",
       "Location.Altitude.Average           int64\n",
       "Year                                int64\n",
       "Data.Owner                         object\n",
       "Data.Type.Species                  object\n",
       "Data.Type.Variety                  object\n",
       "Data.Type.Processing method        object\n",
       "Data.Production.Number of bags      int64\n",
       "Data.Production.Bag weight        float64\n",
       "Data.Scores.Aroma                 float64\n",
       "Data.Scores.Flavor                float64\n",
       "Data.Scores.Aftertaste            float64\n",
       "Data.Scores.Acidity               float64\n",
       "Data.Scores.Body                  float64\n",
       "Data.Scores.Balance               float64\n",
       "Data.Scores.Uniformity            float64\n",
       "Data.Scores.Sweetness             float64\n",
       "Data.Scores.Moisture              float64\n",
       "Data.Scores.Total                 float64\n",
       "Data.Color                         object\n",
       "dtype: object"
      ]
     },
     "execution_count": 18,
     "metadata": {},
     "output_type": "execute_result"
    }
   ],
   "source": [
    "df.dtypes\n"
   ]
  },
  {
   "cell_type": "markdown",
   "metadata": {},
   "source": [
    "There are not any implicit missing numerical values in our dataset"
   ]
  },
  {
   "cell_type": "markdown",
   "metadata": {},
   "source": [
    "### 2.2. Missing Value Cleaning\n",
    "\n",
    "1. First create a dataframe that is comprised of just the three variables that you would to explore. **Two should be numerical, and one should be categorical.**. \n",
    "2. Then drop all rows from this dataframe that have a NaN value.\n",
    "3. How many rows did you drop?"
   ]
  },
  {
   "cell_type": "markdown",
   "metadata": {},
   "source": [
    "Processing Method = Categorical\n",
    "Flavour = Numerical\n",
    "Aftertaste = Numerical"
   ]
  },
  {
   "cell_type": "code",
   "execution_count": 19,
   "metadata": {},
   "outputs": [
    {
     "data": {
      "text/html": [
       "<div>\n",
       "<style scoped>\n",
       "    .dataframe tbody tr th:only-of-type {\n",
       "        vertical-align: middle;\n",
       "    }\n",
       "\n",
       "    .dataframe tbody tr th {\n",
       "        vertical-align: top;\n",
       "    }\n",
       "\n",
       "    .dataframe thead th {\n",
       "        text-align: right;\n",
       "    }\n",
       "</style>\n",
       "<table border=\"1\" class=\"dataframe\">\n",
       "  <thead>\n",
       "    <tr style=\"text-align: right;\">\n",
       "      <th></th>\n",
       "      <th>Data.Type.Processing method</th>\n",
       "      <th>Data.Scores.Flavor</th>\n",
       "      <th>Data.Scores.Aftertaste</th>\n",
       "    </tr>\n",
       "  </thead>\n",
       "  <tbody>\n",
       "    <tr>\n",
       "      <th>0</th>\n",
       "      <td>Natural / Dry</td>\n",
       "      <td>8.50</td>\n",
       "      <td>8.00</td>\n",
       "    </tr>\n",
       "    <tr>\n",
       "      <th>1</th>\n",
       "      <td>Natural / Dry</td>\n",
       "      <td>8.17</td>\n",
       "      <td>8.00</td>\n",
       "    </tr>\n",
       "    <tr>\n",
       "      <th>2</th>\n",
       "      <td>Semi-washed / Semi-pulped</td>\n",
       "      <td>8.00</td>\n",
       "      <td>8.00</td>\n",
       "    </tr>\n",
       "    <tr>\n",
       "      <th>3</th>\n",
       "      <td>Semi-washed / Semi-pulped</td>\n",
       "      <td>8.00</td>\n",
       "      <td>8.00</td>\n",
       "    </tr>\n",
       "    <tr>\n",
       "      <th>4</th>\n",
       "      <td>Natural / Dry</td>\n",
       "      <td>7.92</td>\n",
       "      <td>7.75</td>\n",
       "    </tr>\n",
       "    <tr>\n",
       "      <th>...</th>\n",
       "      <td>...</td>\n",
       "      <td>...</td>\n",
       "      <td>...</td>\n",
       "    </tr>\n",
       "    <tr>\n",
       "      <th>577</th>\n",
       "      <td>Washed / Wet</td>\n",
       "      <td>7.25</td>\n",
       "      <td>6.92</td>\n",
       "    </tr>\n",
       "    <tr>\n",
       "      <th>578</th>\n",
       "      <td>Washed / Wet</td>\n",
       "      <td>7.42</td>\n",
       "      <td>7.33</td>\n",
       "    </tr>\n",
       "    <tr>\n",
       "      <th>579</th>\n",
       "      <td>Washed / Wet</td>\n",
       "      <td>7.00</td>\n",
       "      <td>6.75</td>\n",
       "    </tr>\n",
       "    <tr>\n",
       "      <th>580</th>\n",
       "      <td>Washed / Wet</td>\n",
       "      <td>7.67</td>\n",
       "      <td>7.42</td>\n",
       "    </tr>\n",
       "    <tr>\n",
       "      <th>581</th>\n",
       "      <td>NaN</td>\n",
       "      <td>0.00</td>\n",
       "      <td>0.00</td>\n",
       "    </tr>\n",
       "  </tbody>\n",
       "</table>\n",
       "<p>582 rows × 3 columns</p>\n",
       "</div>"
      ],
      "text/plain": [
       "    Data.Type.Processing method  Data.Scores.Flavor  Data.Scores.Aftertaste\n",
       "0                 Natural / Dry                8.50                    8.00\n",
       "1                 Natural / Dry                8.17                    8.00\n",
       "2     Semi-washed / Semi-pulped                8.00                    8.00\n",
       "3     Semi-washed / Semi-pulped                8.00                    8.00\n",
       "4                 Natural / Dry                7.92                    7.75\n",
       "..                          ...                 ...                     ...\n",
       "577                Washed / Wet                7.25                    6.92\n",
       "578                Washed / Wet                7.42                    7.33\n",
       "579                Washed / Wet                7.00                    6.75\n",
       "580                Washed / Wet                7.67                    7.42\n",
       "581                         NaN                0.00                    0.00\n",
       "\n",
       "[582 rows x 3 columns]"
      ]
     },
     "execution_count": 19,
     "metadata": {},
     "output_type": "execute_result"
    }
   ],
   "source": [
    "df_process = df[['Data.Type.Processing method', 'Data.Scores.Flavor', 'Data.Scores.Aftertaste']]\n",
    "df_process"
   ]
  },
  {
   "cell_type": "code",
   "execution_count": 20,
   "metadata": {},
   "outputs": [
    {
     "data": {
      "text/plain": [
       "<bound method DataFrame.sum of      Data.Type.Processing method  Data.Scores.Flavor  Data.Scores.Aftertaste\n",
       "0                          False               False                   False\n",
       "1                          False               False                   False\n",
       "2                          False               False                   False\n",
       "3                          False               False                   False\n",
       "4                          False               False                   False\n",
       "..                           ...                 ...                     ...\n",
       "577                        False               False                   False\n",
       "578                        False               False                   False\n",
       "579                        False               False                   False\n",
       "580                        False               False                   False\n",
       "581                         True               False                   False\n",
       "\n",
       "[582 rows x 3 columns]>"
      ]
     },
     "execution_count": 20,
     "metadata": {},
     "output_type": "execute_result"
    }
   ],
   "source": [
    "df_process.isna().sum"
   ]
  },
  {
   "cell_type": "code",
   "execution_count": 21,
   "metadata": {},
   "outputs": [
    {
     "data": {
      "text/html": [
       "<div>\n",
       "<style scoped>\n",
       "    .dataframe tbody tr th:only-of-type {\n",
       "        vertical-align: middle;\n",
       "    }\n",
       "\n",
       "    .dataframe tbody tr th {\n",
       "        vertical-align: top;\n",
       "    }\n",
       "\n",
       "    .dataframe thead th {\n",
       "        text-align: right;\n",
       "    }\n",
       "</style>\n",
       "<table border=\"1\" class=\"dataframe\">\n",
       "  <thead>\n",
       "    <tr style=\"text-align: right;\">\n",
       "      <th></th>\n",
       "      <th>Data.Type.Processing method</th>\n",
       "      <th>Data.Scores.Flavor</th>\n",
       "      <th>Data.Scores.Aftertaste</th>\n",
       "    </tr>\n",
       "  </thead>\n",
       "  <tbody>\n",
       "    <tr>\n",
       "      <th>0</th>\n",
       "      <td>Natural / Dry</td>\n",
       "      <td>8.50</td>\n",
       "      <td>8.00</td>\n",
       "    </tr>\n",
       "    <tr>\n",
       "      <th>1</th>\n",
       "      <td>Natural / Dry</td>\n",
       "      <td>8.17</td>\n",
       "      <td>8.00</td>\n",
       "    </tr>\n",
       "    <tr>\n",
       "      <th>2</th>\n",
       "      <td>Semi-washed / Semi-pulped</td>\n",
       "      <td>8.00</td>\n",
       "      <td>8.00</td>\n",
       "    </tr>\n",
       "    <tr>\n",
       "      <th>3</th>\n",
       "      <td>Semi-washed / Semi-pulped</td>\n",
       "      <td>8.00</td>\n",
       "      <td>8.00</td>\n",
       "    </tr>\n",
       "    <tr>\n",
       "      <th>4</th>\n",
       "      <td>Natural / Dry</td>\n",
       "      <td>7.92</td>\n",
       "      <td>7.75</td>\n",
       "    </tr>\n",
       "    <tr>\n",
       "      <th>...</th>\n",
       "      <td>...</td>\n",
       "      <td>...</td>\n",
       "      <td>...</td>\n",
       "    </tr>\n",
       "    <tr>\n",
       "      <th>576</th>\n",
       "      <td>Washed / Wet</td>\n",
       "      <td>7.08</td>\n",
       "      <td>6.92</td>\n",
       "    </tr>\n",
       "    <tr>\n",
       "      <th>577</th>\n",
       "      <td>Washed / Wet</td>\n",
       "      <td>7.25</td>\n",
       "      <td>6.92</td>\n",
       "    </tr>\n",
       "    <tr>\n",
       "      <th>578</th>\n",
       "      <td>Washed / Wet</td>\n",
       "      <td>7.42</td>\n",
       "      <td>7.33</td>\n",
       "    </tr>\n",
       "    <tr>\n",
       "      <th>579</th>\n",
       "      <td>Washed / Wet</td>\n",
       "      <td>7.00</td>\n",
       "      <td>6.75</td>\n",
       "    </tr>\n",
       "    <tr>\n",
       "      <th>580</th>\n",
       "      <td>Washed / Wet</td>\n",
       "      <td>7.67</td>\n",
       "      <td>7.42</td>\n",
       "    </tr>\n",
       "  </tbody>\n",
       "</table>\n",
       "<p>576 rows × 3 columns</p>\n",
       "</div>"
      ],
      "text/plain": [
       "    Data.Type.Processing method  Data.Scores.Flavor  Data.Scores.Aftertaste\n",
       "0                 Natural / Dry                8.50                    8.00\n",
       "1                 Natural / Dry                8.17                    8.00\n",
       "2     Semi-washed / Semi-pulped                8.00                    8.00\n",
       "3     Semi-washed / Semi-pulped                8.00                    8.00\n",
       "4                 Natural / Dry                7.92                    7.75\n",
       "..                          ...                 ...                     ...\n",
       "576                Washed / Wet                7.08                    6.92\n",
       "577                Washed / Wet                7.25                    6.92\n",
       "578                Washed / Wet                7.42                    7.33\n",
       "579                Washed / Wet                7.00                    6.75\n",
       "580                Washed / Wet                7.67                    7.42\n",
       "\n",
       "[576 rows x 3 columns]"
      ]
     },
     "execution_count": 21,
     "metadata": {},
     "output_type": "execute_result"
    }
   ],
   "source": [
    "df_process_cleaned = df_process.dropna()\n",
    "df_process_cleaned"
   ]
  },
  {
   "cell_type": "markdown",
   "metadata": {},
   "source": []
  },
  {
   "cell_type": "markdown",
   "metadata": {},
   "source": [
    "Dropped 6 rows"
   ]
  },
  {
   "cell_type": "markdown",
   "metadata": {},
   "source": [
    "### 3. Dataset Exploration\n",
    "\n",
    "You can find out more information about *how* this datast was collected <a href=\"https://github.com/rfordatascience/tidytuesday/tree/2e9bd5a67e09b14d01f616b00f7f7e0931515d24/data/2020/2020-07-07\">here</a>. Do you think that this dataset is comprised of ALL brands of coffee in existence?"
   ]
  },
  {
   "cell_type": "markdown",
   "metadata": {},
   "source": [
    "No it does not comprise of all coffee brands in existence. It only caters to brands that deal with two types of beans, Arabica and Robust beans. Furthermore, the data was last updated in 10/28/2022 and it is now 2024 so there may be new coffee brands that originated since then."
   ]
  },
  {
   "cell_type": "markdown",
   "metadata": {},
   "source": [
    "### 4. Choosing a Research Question\n",
    "\n",
    "Next, based on your dataset you should seek to answer the following question.\n",
    "\n",
    "```How does the association between `x` and `y` change based on different values of `z` in this dataset?```\n",
    "\n",
    "*Your `x` and `y` variables in the question above should be `numerical` and your `z` variable should be `categorical`.*\n",
    "\n",
    "Select your `x`, `y`, and `z` variables and restate your question below using these selected column names."
   ]
  },
  {
   "cell_type": "markdown",
   "metadata": {},
   "source": [
    "How does the association between flavour score and aftertaste change based on different values of processing in this dataset"
   ]
  },
  {
   "cell_type": "markdown",
   "metadata": {},
   "source": [
    "### 5. Research Motivation\n",
    "\n",
    "*Who* might be interested in learning the answer to your research question? If you discovered in #3 that your dataset does not represent ALL brands of coffee, what *shortcomings* about your analysis might you want to be explicit about when it comes to communicating your answer to this person?"
   ]
  },
  {
   "cell_type": "markdown",
   "metadata": {},
   "source": [
    "Coffee manufacturers who are looking to see what processing method leads to the best flavour and aftertaste. The shortcoming about our analysis is that it'll only apply to two types of coffee beans, Arabica and Robust, and not all types of coffee. It will also not contain data for brands introduced after October 2022."
   ]
  },
  {
   "cell_type": "markdown",
   "metadata": {},
   "source": [
    "### 6. Weighing Data Cleaning Choices\n",
    "\n",
    "When attempting to answer your question in #7 below, you might have discovered that it might be beneficial to perform some preliminary cleaning of your dataset first. This cleaning might involve dropping some particular rows from the dataframe first.\n",
    "\n",
    "1. Try to think of at least one data cleaning decision that you *could* make. \n",
    "2. Then weigh the pros and cons of making vs. not making this data cleaning decision in order to answer your research question. \n",
    "3. How might your research motivation be impacted based on your data cleaning decisions?"
   ]
  },
  {
   "cell_type": "markdown",
   "metadata": {},
   "source": []
  },
  {
   "cell_type": "markdown",
   "metadata": {},
   "source": [
    "1. We will drop all rows that have other as a processing method as other is ambiguous and does not help the person who is utilizing this data\n",
    "2. The pro is it makes the dataset less ambiguous and other does not really tell us what the processing method is or really help out so there's no point in showing its result vs negative is that it gives us less information and the other processing method could be the best method\n",
    "3. Our research motivation has not changed and it is clearer as the manufacturer will now have a clearer idea as to what processing method was used to obtain the best flavour and aftertaste result"
   ]
  },
  {
   "cell_type": "code",
   "execution_count": 22,
   "metadata": {},
   "outputs": [
    {
     "data": {
      "text/plain": [
       "array(['Natural / Dry', 'Other', 'Pulped natural / honey',\n",
       "       'Semi-washed / Semi-pulped', 'Washed / Wet'], dtype=object)"
      ]
     },
     "execution_count": 22,
     "metadata": {},
     "output_type": "execute_result"
    }
   ],
   "source": [
    "np.unique(df_process_cleaned['Data.Type.Processing method'].values)"
   ]
  },
  {
   "cell_type": "code",
   "execution_count": 23,
   "metadata": {},
   "outputs": [
    {
     "data": {
      "text/html": [
       "<div>\n",
       "<style scoped>\n",
       "    .dataframe tbody tr th:only-of-type {\n",
       "        vertical-align: middle;\n",
       "    }\n",
       "\n",
       "    .dataframe tbody tr th {\n",
       "        vertical-align: top;\n",
       "    }\n",
       "\n",
       "    .dataframe thead th {\n",
       "        text-align: right;\n",
       "    }\n",
       "</style>\n",
       "<table border=\"1\" class=\"dataframe\">\n",
       "  <thead>\n",
       "    <tr style=\"text-align: right;\">\n",
       "      <th></th>\n",
       "      <th>Data.Type.Processing method</th>\n",
       "      <th>Data.Scores.Flavor</th>\n",
       "      <th>Data.Scores.Aftertaste</th>\n",
       "    </tr>\n",
       "  </thead>\n",
       "  <tbody>\n",
       "    <tr>\n",
       "      <th>0</th>\n",
       "      <td>Natural / Dry</td>\n",
       "      <td>8.50</td>\n",
       "      <td>8.00</td>\n",
       "    </tr>\n",
       "    <tr>\n",
       "      <th>1</th>\n",
       "      <td>Natural / Dry</td>\n",
       "      <td>8.17</td>\n",
       "      <td>8.00</td>\n",
       "    </tr>\n",
       "    <tr>\n",
       "      <th>2</th>\n",
       "      <td>Semi-washed / Semi-pulped</td>\n",
       "      <td>8.00</td>\n",
       "      <td>8.00</td>\n",
       "    </tr>\n",
       "    <tr>\n",
       "      <th>3</th>\n",
       "      <td>Semi-washed / Semi-pulped</td>\n",
       "      <td>8.00</td>\n",
       "      <td>8.00</td>\n",
       "    </tr>\n",
       "    <tr>\n",
       "      <th>4</th>\n",
       "      <td>Natural / Dry</td>\n",
       "      <td>7.92</td>\n",
       "      <td>7.75</td>\n",
       "    </tr>\n",
       "    <tr>\n",
       "      <th>...</th>\n",
       "      <td>...</td>\n",
       "      <td>...</td>\n",
       "      <td>...</td>\n",
       "    </tr>\n",
       "    <tr>\n",
       "      <th>576</th>\n",
       "      <td>Washed / Wet</td>\n",
       "      <td>7.08</td>\n",
       "      <td>6.92</td>\n",
       "    </tr>\n",
       "    <tr>\n",
       "      <th>577</th>\n",
       "      <td>Washed / Wet</td>\n",
       "      <td>7.25</td>\n",
       "      <td>6.92</td>\n",
       "    </tr>\n",
       "    <tr>\n",
       "      <th>578</th>\n",
       "      <td>Washed / Wet</td>\n",
       "      <td>7.42</td>\n",
       "      <td>7.33</td>\n",
       "    </tr>\n",
       "    <tr>\n",
       "      <th>579</th>\n",
       "      <td>Washed / Wet</td>\n",
       "      <td>7.00</td>\n",
       "      <td>6.75</td>\n",
       "    </tr>\n",
       "    <tr>\n",
       "      <th>580</th>\n",
       "      <td>Washed / Wet</td>\n",
       "      <td>7.67</td>\n",
       "      <td>7.42</td>\n",
       "    </tr>\n",
       "  </tbody>\n",
       "</table>\n",
       "<p>568 rows × 3 columns</p>\n",
       "</div>"
      ],
      "text/plain": [
       "    Data.Type.Processing method  Data.Scores.Flavor  Data.Scores.Aftertaste\n",
       "0                 Natural / Dry                8.50                    8.00\n",
       "1                 Natural / Dry                8.17                    8.00\n",
       "2     Semi-washed / Semi-pulped                8.00                    8.00\n",
       "3     Semi-washed / Semi-pulped                8.00                    8.00\n",
       "4                 Natural / Dry                7.92                    7.75\n",
       "..                          ...                 ...                     ...\n",
       "576                Washed / Wet                7.08                    6.92\n",
       "577                Washed / Wet                7.25                    6.92\n",
       "578                Washed / Wet                7.42                    7.33\n",
       "579                Washed / Wet                7.00                    6.75\n",
       "580                Washed / Wet                7.67                    7.42\n",
       "\n",
       "[568 rows x 3 columns]"
      ]
     },
     "execution_count": 23,
     "metadata": {},
     "output_type": "execute_result"
    }
   ],
   "source": [
    "df_filtered = df_process_cleaned.loc[df_process_cleaned['Data.Type.Processing method'] != \"Other\"]\n",
    "df_filtered"
   ]
  },
  {
   "cell_type": "code",
   "execution_count": null,
   "metadata": {},
   "outputs": [],
   "source": []
  },
  {
   "cell_type": "code",
   "execution_count": null,
   "metadata": {},
   "outputs": [],
   "source": []
  },
  {
   "cell_type": "code",
   "execution_count": null,
   "metadata": {},
   "outputs": [],
   "source": []
  },
  {
   "cell_type": "markdown",
   "metadata": {},
   "source": [
    "### 7. Answer the Question\n",
    "\n",
    "Finally, use the appropriate visualizations and summary statistics that we discussed in class to *thoroughly* answer this question. \n",
    "\n",
    "*Recall in class that we discussed 5 things about the association between `x` and `y` that you should **compare** for different values of `z`. You should compare these 5 things for full credit.*"
   ]
  },
  {
   "cell_type": "markdown",
   "metadata": {},
   "source": []
  },
  {
   "cell_type": "code",
   "execution_count": 24,
   "metadata": {},
   "outputs": [
    {
     "data": {
      "image/png": "[encoded data removed]",
      "text/plain": [
       "<Figure size 640x480 with 1 Axes>"
      ]
     },
     "metadata": {},
     "output_type": "display_data"
    }
   ],
   "source": [
    "sns.scatterplot(x='Data.Scores.Flavor', y='Data.Scores.Aftertaste', hue='Data.Type.Processing method', data=df_filtered)\n",
    "plt.show()"
   ]
  },
  {
   "cell_type": "code",
   "execution_count": 25,
   "metadata": {},
   "outputs": [
    {
     "data": {
      "image/png": "[encoded data removed]",
      "text/plain": [
       "<Figure size 743.375x500 with 1 Axes>"
      ]
     },
     "metadata": {},
     "output_type": "display_data"
    }
   ],
   "source": [
    "sns.lmplot(x='Data.Scores.Flavor', y='Data.Scores.Aftertaste', hue='Data.Type.Processing method', ci=False, data=df_filtered)\n",
    "plt.show()\n"
   ]
  },
  {
   "cell_type": "code",
   "execution_count": 26,
   "metadata": {},
   "outputs": [
    {
     "data": {
      "text/html": [
       "<div>\n",
       "<style scoped>\n",
       "    .dataframe tbody tr th:only-of-type {\n",
       "        vertical-align: middle;\n",
       "    }\n",
       "\n",
       "    .dataframe tbody tr th {\n",
       "        vertical-align: top;\n",
       "    }\n",
       "\n",
       "    .dataframe thead th {\n",
       "        text-align: right;\n",
       "    }\n",
       "</style>\n",
       "<table border=\"1\" class=\"dataframe\">\n",
       "  <thead>\n",
       "    <tr style=\"text-align: right;\">\n",
       "      <th></th>\n",
       "      <th></th>\n",
       "      <th>Data.Scores.Flavor</th>\n",
       "      <th>Data.Scores.Aftertaste</th>\n",
       "    </tr>\n",
       "    <tr>\n",
       "      <th>Data.Type.Processing method</th>\n",
       "      <th></th>\n",
       "      <th></th>\n",
       "      <th></th>\n",
       "    </tr>\n",
       "  </thead>\n",
       "  <tbody>\n",
       "    <tr>\n",
       "      <th rowspan=\"2\" valign=\"top\">Natural / Dry</th>\n",
       "      <th>Data.Scores.Flavor</th>\n",
       "      <td>1.000000</td>\n",
       "      <td>0.818094</td>\n",
       "    </tr>\n",
       "    <tr>\n",
       "      <th>Data.Scores.Aftertaste</th>\n",
       "      <td>0.818094</td>\n",
       "      <td>1.000000</td>\n",
       "    </tr>\n",
       "    <tr>\n",
       "      <th rowspan=\"2\" valign=\"top\">Pulped natural / honey</th>\n",
       "      <th>Data.Scores.Flavor</th>\n",
       "      <td>1.000000</td>\n",
       "      <td>1.000000</td>\n",
       "    </tr>\n",
       "    <tr>\n",
       "      <th>Data.Scores.Aftertaste</th>\n",
       "      <td>1.000000</td>\n",
       "      <td>1.000000</td>\n",
       "    </tr>\n",
       "    <tr>\n",
       "      <th rowspan=\"2\" valign=\"top\">Semi-washed / Semi-pulped</th>\n",
       "      <th>Data.Scores.Flavor</th>\n",
       "      <td>1.000000</td>\n",
       "      <td>0.876048</td>\n",
       "    </tr>\n",
       "    <tr>\n",
       "      <th>Data.Scores.Aftertaste</th>\n",
       "      <td>0.876048</td>\n",
       "      <td>1.000000</td>\n",
       "    </tr>\n",
       "    <tr>\n",
       "      <th rowspan=\"2\" valign=\"top\">Washed / Wet</th>\n",
       "      <th>Data.Scores.Flavor</th>\n",
       "      <td>1.000000</td>\n",
       "      <td>0.862882</td>\n",
       "    </tr>\n",
       "    <tr>\n",
       "      <th>Data.Scores.Aftertaste</th>\n",
       "      <td>0.862882</td>\n",
       "      <td>1.000000</td>\n",
       "    </tr>\n",
       "  </tbody>\n",
       "</table>\n",
       "</div>"
      ],
      "text/plain": [
       "                                                    Data.Scores.Flavor  \\\n",
       "Data.Type.Processing method                                              \n",
       "Natural / Dry               Data.Scores.Flavor                1.000000   \n",
       "                            Data.Scores.Aftertaste            0.818094   \n",
       "Pulped natural / honey      Data.Scores.Flavor                1.000000   \n",
       "                            Data.Scores.Aftertaste            1.000000   \n",
       "Semi-washed / Semi-pulped   Data.Scores.Flavor                1.000000   \n",
       "                            Data.Scores.Aftertaste            0.876048   \n",
       "Washed / Wet                Data.Scores.Flavor                1.000000   \n",
       "                            Data.Scores.Aftertaste            0.862882   \n",
       "\n",
       "                                                    Data.Scores.Aftertaste  \n",
       "Data.Type.Processing method                                                 \n",
       "Natural / Dry               Data.Scores.Flavor                    0.818094  \n",
       "                            Data.Scores.Aftertaste                1.000000  \n",
       "Pulped natural / honey      Data.Scores.Flavor                    1.000000  \n",
       "                            Data.Scores.Aftertaste                1.000000  \n",
       "Semi-washed / Semi-pulped   Data.Scores.Flavor                    0.876048  \n",
       "                            Data.Scores.Aftertaste                1.000000  \n",
       "Washed / Wet                Data.Scores.Flavor                    0.862882  \n",
       "                            Data.Scores.Aftertaste                1.000000  "
      ]
     },
     "execution_count": 26,
     "metadata": {},
     "output_type": "execute_result"
    }
   ],
   "source": [
    "df_filtered[['Data.Type.Processing method', 'Data.Scores.Flavor', 'Data.Scores.Aftertaste']].groupby(['Data.Type.Processing method']).corr()"
   ]
  },
  {
   "cell_type": "markdown",
   "metadata": {},
   "source": [
    "The direction for flavour and aftertaste is positive for all processing methods\n",
    "\n",
    "The shape of the relationship between flavour and aftertaste are both linear for all processing methods\n",
    "\n",
    "The strength of the relationship between flavour anf aftertaste is the best fir pupled natural/honey as the correlation is 1 where as the second best is semi-washed/semi-pulped\n",
    "\n",
    "From looking at the graph, it doesnt seem like there are any outliers\n",
    "\n",
    "The slope is steepest for pulped natural/honey, whereas the slope for washed/wet and semi-washed/semi-pupled are practically the same and the shallowest slope is natural/dry\n"
   ]
  },
  {
   "cell_type": "markdown",
   "metadata": {},
   "source": [
    "### Contribution Report\n",
    "These contribution reports should be included in all group lab assignments. In this contribution report below you should list of the following:\n",
    "1. Names of each team member.\n",
    "2. Contributions of each team member to report.\n",
    "\n",
    "*For example:*\n",
    "\n",
    "*<u>Teammates:</u>*\n",
    "\n",
    "*1. Nora Harvey did 1 and 2\n",
    "\n",
    "*2. Ava Zhang did 3 and 4 (MAIN SUBMISSION)\n",
    "\n",
    "*3. Sammy Haskel did 5 and 6\n",
    "\n",
    "*4. Syed Ammar Raza did 6 and 7"
   ]
  }
 ],
 "metadata": {
  "kernelspec": {
   "display_name": "Python 3 (ipykernel)",
   "language": "python",
   "name": "python3"
  },
  "language_info": {
   "codemirror_mode": {
    "name": "ipython",
    "version": 3
   },
   "file_extension": ".py",
   "mimetype": "text/x-python",
   "name": "python",
   "nbconvert_exporter": "python",
   "pygments_lexer": "ipython3",
   "version": "3.11.6"
  }
 },
 "nbformat": 4,
 "nbformat_minor": 2
}
