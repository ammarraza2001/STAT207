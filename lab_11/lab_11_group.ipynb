{
 "cells": [
  {
   "cell_type": "markdown",
   "metadata": {},
   "source": [
    "# STAT 207 Lab Assignment 11 - Group Part  - [13.25 Points]\n",
    "\n",
    "\n",
    "\n",
    "## <u>Case Study</u>: Predicting Airbnb Superhost Status\n",
    "\n",
    "Suppose that you have a spare room in your house (in Seattle) and you are considering advertising this room to guests on Airbnb. Airbnb superhosts are considered to be experienced hosts who provide a shining example for other hosts, and extraordinary experiences for their guests. Once a host reaches Superhost status, a superhost badge will automatically appear on their listing and profile to help guests identify them. You would like to assess your chances of being named a superhost with your property.\n",
    "\n",
    "The following dataset is a sample (assume random) of available Airbnb listings in Seattle, WA. These listings were collected in January 2016, and filtered to just contain listings from the five most popular Seattlbe neighborhoods (for Airbnb listings) and just contain listings that are either in a house or apartment property.\n",
    "\n",
    "This dataset contains the following variables.\n",
    "\n",
    "**Listing Information**\n",
    "The dataset contains the following information about the Airbnb *listing*:\n",
    "* <u>price</u>: price of the listing (per night)(in US dollars)\n",
    "* <u>review_scores_rating</u>: the average rating of the listing [0,100] (100 is the best)\n",
    "* <u>number_of_reviews</u>: the number of reviews for the listing\n",
    "* <u>security_deposit</u>: the security deposit required for the listing (in US dollars)\n",
    "* <u>cleaning_fee</u>: the cleaning fee required for the listing (in US dollars)\n",
    "* <u>neighborhood</u>: the neighborhood of Seattle the listing is located in\n",
    "* <u>property_type</u>: is the listing in a 'House' or 'Apartment'\n",
    "* <u>room_type</u>: is the listing a 'Entire home/apt', 'Private room', or 'Shared room'\n",
    "* <u>accommodates</u>: how many guests will the listing accommodate\n",
    "* <u>bathrooms</u>:how many bathrooms does the listing have\n",
    "* <u>beds</u>: how many beds does the listing have\n",
    "\n",
    "**Host Information**\n",
    "The dataset also contains the following information about the *host* of the given Airbnb listing:\n",
    "* <u>host_is_superhost</u>: is the host a \"superhost\": t=True, f=False\n",
    "* <u>host_has_profile_pic</u>: does the host have a profile pic in their bio: t=True, f=False\n",
    "* <u>host_response_time</u>: how fast will the host respond to requests (on average)\n",
    "\n",
    "## Research Goals\n",
    "\n",
    "The primary research goal that we will pursue in this group lab will be to build a predictive model that effectively predicts the `probability a Seattle Airbnb host is a **superhost**` for ***LISTINGS IN THIS DATASET*** given some combination of the available explanatory variables.\n",
    "\n",
    "\n",
    "\n",
    "## Points\n",
    "\n",
    "<p>&nbsp;</p>\n",
    "<table style=\"border: none;border-collapse: collapse;width:102pt;\">\n",
    "    <tbody>\n",
    "        <tr>\n",
    "            <td style=\"color:black;font-size:15px;font-weight:700;font-style:normal;text-decoration:none;font-family:Calibri, sans-serif;text-align:right;vertical-align:bottom;border:.5pt solid windowtext;height:14.25pt;width:51pt;\">Problem</td>\n",
    "            <td style=\"color:black;font-size:15px;font-weight:700;font-style:normal;text-decoration:none;font-family:Calibri, sans-serif;text-align:general;vertical-align:bottom;border:.5pt solid windowtext;border-left:none;width:51pt;\">Points</td>\n",
    "        </tr>\n",
    "        <tr>\n",
    "            <td style=\"color:black;font-size:15px;font-weight:400;font-style:normal;text-decoration:none;font-family:Calibri, sans-serif;text-align:right;vertical-align:bottom;border:.5pt solid windowtext;height:14.25pt;border-top:none;\">1.1</td>\n",
    "            <td style=\"color:black;font-size:15px;font-weight:400;font-style:normal;text-decoration:none;font-family:Calibri, sans-serif;text-align:right;vertical-align:bottom;border:.5pt solid windowtext;border-top:none;border-left:none;\">0.25</td>\n",
    "        </tr>\n",
    "        <tr>\n",
    "            <td style=\"color:black;font-size:15px;font-weight:400;font-style:normal;text-decoration:none;font-family:Calibri, sans-serif;text-align:right;vertical-align:bottom;border:.5pt solid windowtext;height:14.25pt;border-top:none;\">1.2</td>\n",
    "            <td style=\"color:black;font-size:15px;font-weight:400;font-style:normal;text-decoration:none;font-family:Calibri, sans-serif;text-align:right;vertical-align:bottom;border:.5pt solid windowtext;border-top:none;border-left:none;\">0.5</td>\n",
    "        </tr>\n",
    "        <tr>\n",
    "            <td style=\"color:black;font-size:15px;font-weight:400;font-style:normal;text-decoration:none;font-family:Calibri, sans-serif;text-align:right;vertical-align:bottom;border:.5pt solid windowtext;height:14.25pt;border-top:none;\">2.1</td>\n",
    "            <td style=\"color:black;font-size:15px;font-weight:400;font-style:normal;text-decoration:none;font-family:Calibri, sans-serif;text-align:right;vertical-align:bottom;border:.5pt solid windowtext;border-top:none;border-left:none;\">0.5</td>\n",
    "        </tr>\n",
    "        <tr>\n",
    "            <td style=\"color:black;font-size:15px;font-weight:400;font-style:normal;text-decoration:none;font-family:Calibri, sans-serif;text-align:right;vertical-align:bottom;border:.5pt solid windowtext;height:14.25pt;border-top:none;\">2.2</td>\n",
    "            <td style=\"color:black;font-size:15px;font-weight:400;font-style:normal;text-decoration:none;font-family:Calibri, sans-serif;text-align:right;vertical-align:bottom;border:.5pt solid windowtext;border-top:none;border-left:none;\">0.75</td>\n",
    "        </tr>\n",
    "        <tr>\n",
    "            <td style=\"color:black;font-size:15px;font-weight:400;font-style:normal;text-decoration:none;font-family:Calibri, sans-serif;text-align:right;vertical-align:bottom;border:.5pt solid windowtext;height:14.25pt;border-top:none;\">3.1</td>\n",
    "            <td style=\"color:black;font-size:15px;font-weight:400;font-style:normal;text-decoration:none;font-family:Calibri, sans-serif;text-align:right;vertical-align:bottom;border:.5pt solid windowtext;border-top:none;border-left:none;\">1.25</td>\n",
    "        </tr>\n",
    "        <tr>\n",
    "            <td style=\"color:black;font-size:15px;font-weight:400;font-style:normal;text-decoration:none;font-family:Calibri, sans-serif;text-align:right;vertical-align:bottom;border:.5pt solid windowtext;height:14.25pt;border-top:none;\">3.2</td>\n",
    "            <td style=\"color:black;font-size:15px;font-weight:400;font-style:normal;text-decoration:none;font-family:Calibri, sans-serif;text-align:right;vertical-align:bottom;border:.5pt solid windowtext;border-top:none;border-left:none;\">1</td>\n",
    "        </tr>\n",
    "        <tr>\n",
    "            <td style=\"color:black;font-size:15px;font-weight:400;font-style:normal;text-decoration:none;font-family:Calibri, sans-serif;text-align:right;vertical-align:bottom;border:.5pt solid windowtext;height:14.25pt;border-top:none;\">3.3.1</td>\n",
    "            <td style=\"color:black;font-size:15px;font-weight:400;font-style:normal;text-decoration:none;font-family:Calibri, sans-serif;text-align:right;vertical-align:bottom;border:.5pt solid windowtext;border-top:none;border-left:none;\">1</td>\n",
    "        </tr>\n",
    "        <tr>\n",
    "            <td style=\"color:black;font-size:15px;font-weight:400;font-style:normal;text-decoration:none;font-family:Calibri, sans-serif;text-align:right;vertical-align:bottom;border:.5pt solid windowtext;height:14.25pt;border-top:none;\">3.3.2</td>\n",
    "            <td style=\"color:black;font-size:15px;font-weight:400;font-style:normal;text-decoration:none;font-family:Calibri, sans-serif;text-align:right;vertical-align:bottom;border:.5pt solid windowtext;border-top:none;border-left:none;\">1</td>\n",
    "        </tr>\n",
    "        <tr>\n",
    "            <td style=\"color:black;font-size:15px;font-weight:400;font-style:normal;text-decoration:none;font-family:Calibri, sans-serif;text-align:right;vertical-align:bottom;border:.5pt solid windowtext;height:14.25pt;border-top:none;\">3.3.3</td>\n",
    "            <td style=\"color:black;font-size:15px;font-weight:400;font-style:normal;text-decoration:none;font-family:Calibri, sans-serif;text-align:right;vertical-align:bottom;border:.5pt solid windowtext;border-top:none;border-left:none;\">1</td>\n",
    "        </tr>\n",
    "        <tr>\n",
    "            <td style=\"color:black;font-size:15px;font-weight:400;font-style:normal;text-decoration:none;font-family:Calibri, sans-serif;text-align:right;vertical-align:bottom;border:.5pt solid windowtext;height:14.25pt;border-top:none;\">3.4.1</td>\n",
    "            <td style=\"color:black;font-size:15px;font-weight:400;font-style:normal;text-decoration:none;font-family:Calibri, sans-serif;text-align:right;vertical-align:bottom;border:.5pt solid windowtext;border-top:none;border-left:none;\">1</td>\n",
    "        </tr>\n",
    "        <tr>\n",
    "            <td style=\"color:black;font-size:15px;font-weight:400;font-style:normal;text-decoration:none;font-family:Calibri, sans-serif;text-align:right;vertical-align:bottom;border:.5pt solid windowtext;height:14.25pt;border-top:none;\">3.4.2</td>\n",
    "            <td style=\"color:black;font-size:15px;font-weight:400;font-style:normal;text-decoration:none;font-family:Calibri, sans-serif;text-align:right;vertical-align:bottom;border:.5pt solid windowtext;border-top:none;border-left:none;\">1</td>\n",
    "        </tr>\n",
    "        <tr>\n",
    "            <td style=\"color:black;font-size:15px;font-weight:400;font-style:normal;text-decoration:none;font-family:Calibri, sans-serif;text-align:right;vertical-align:bottom;border:.5pt solid windowtext;height:14.25pt;border-top:none;\">3.4.3</td>\n",
    "            <td style=\"color:black;font-size:15px;font-weight:400;font-style:normal;text-decoration:none;font-family:Calibri, sans-serif;text-align:right;vertical-align:bottom;border:.5pt solid windowtext;border-top:none;border-left:none;\">1</td>\n",
    "        </tr>\n",
    "        <tr>\n",
    "            <td style=\"color:black;font-size:15px;font-weight:400;font-style:normal;text-decoration:none;font-family:Calibri, sans-serif;text-align:right;vertical-align:bottom;border:.5pt solid windowtext;height:14.25pt;border-top:none;\">3.4.1</td>\n",
    "            <td style=\"color:black;font-size:15px;font-weight:400;font-style:normal;text-decoration:none;font-family:Calibri, sans-serif;text-align:right;vertical-align:bottom;border:.5pt solid windowtext;border-top:none;border-left:none;\">1</td>\n",
    "        </tr>\n",
    "        <tr>\n",
    "            <td style=\"color:black;font-size:15px;font-weight:400;font-style:normal;text-decoration:none;font-family:Calibri, sans-serif;text-align:right;vertical-align:bottom;border:.5pt solid windowtext;height:14.25pt;border-top:none;\">3.4.2</td>\n",
    "            <td style=\"color:black;font-size:15px;font-weight:400;font-style:normal;text-decoration:none;font-family:Calibri, sans-serif;text-align:right;vertical-align:bottom;border:.5pt solid windowtext;border-top:none;border-left:none;\">1</td>\n",
    "        </tr>\n",
    "        <tr>\n",
    "            <td style=\"color:black;font-size:15px;font-weight:400;font-style:normal;text-decoration:none;font-family:Calibri, sans-serif;text-align:right;vertical-align:bottom;border:.5pt solid windowtext;height:14.25pt;border-top:none;\">3.4.3</td>\n",
    "            <td style=\"color:black;font-size:15px;font-weight:400;font-style:normal;text-decoration:none;font-family:Calibri, sans-serif;text-align:right;vertical-align:bottom;border:.5pt solid windowtext;border-top:none;border-left:none;\">1</td>\n",
    "        </tr>\n",
    "    </tbody>\n",
    "</table>"
   ]
  },
  {
   "cell_type": "markdown",
   "metadata": {},
   "source": [
    "Contribution Report\n",
    "1. Nora Harvey did 1\n",
    "2. Ammar Raza did 2\n",
    "3. Sammy Haskel, Isabella, and Ava Zhang did 3\n",
    "\n",
    "Ava Zhang is main submission\n"
   ]
  },
  {
   "cell_type": "code",
   "execution_count": 21,
   "metadata": {},
   "outputs": [],
   "source": [
    "import pandas as pd\n",
    "import numpy as np\n",
    "import seaborn as sns\n",
    "import matplotlib.pyplot as plt\n",
    "\n",
    "from sklearn.model_selection import cross_val_score\n",
    "\n",
    "import statsmodels.formula.api as smf\n",
    "\n",
    "from sklearn.linear_model import Ridge, Lasso, ElasticNet, LinearRegression\n",
    "\n",
    "from sklearn.preprocessing import StandardScaler\n",
    "\n",
    "import warnings\n",
    "from sklearn.exceptions import ConvergenceWarning\n",
    "\n",
    "# Ignore scikit-learn ConvergenceWarnings\n",
    "warnings.filterwarnings(\"ignore\", category=ConvergenceWarning)\n",
    "warnings.filterwarnings(\"ignore\", category=UserWarning)"
   ]
  },
  {
   "cell_type": "markdown",
   "metadata": {},
   "source": [
    "## 1. Basic Data Examination and Manipulation\n",
    "\n",
    "### 1.1. Basics\n",
    "1. Read the `seattle_airbnb_listings.csv` file into a dataframe.\n",
    "\n",
    "2. Display your dataframe.\n",
    "\n",
    "3. Show how many rows your dataframe has.\n",
    "\n"
   ]
  },
  {
   "cell_type": "code",
   "execution_count": 22,
   "metadata": {},
   "outputs": [
    {
     "data": {
      "text/html": [
       "<div>\n",
       "<style scoped>\n",
       "    .dataframe tbody tr th:only-of-type {\n",
       "        vertical-align: middle;\n",
       "    }\n",
       "\n",
       "    .dataframe tbody tr th {\n",
       "        vertical-align: top;\n",
       "    }\n",
       "\n",
       "    .dataframe thead th {\n",
       "        text-align: right;\n",
       "    }\n",
       "</style>\n",
       "<table border=\"1\" class=\"dataframe\">\n",
       "  <thead>\n",
       "    <tr style=\"text-align: right;\">\n",
       "      <th></th>\n",
       "      <th>price</th>\n",
       "      <th>review_scores_rating</th>\n",
       "      <th>number_of_reviews</th>\n",
       "      <th>security_deposit</th>\n",
       "      <th>cleaning_fee</th>\n",
       "      <th>neighborhood</th>\n",
       "      <th>property_type</th>\n",
       "      <th>room_type</th>\n",
       "      <th>accommodates</th>\n",
       "      <th>bathrooms</th>\n",
       "      <th>beds</th>\n",
       "      <th>host_response_time</th>\n",
       "      <th>host_response_rate</th>\n",
       "      <th>host_is_superhost</th>\n",
       "      <th>host_has_profile_pic</th>\n",
       "      <th>host_identity_verified</th>\n",
       "    </tr>\n",
       "  </thead>\n",
       "  <tbody>\n",
       "    <tr>\n",
       "      <th>0</th>\n",
       "      <td>300</td>\n",
       "      <td>100</td>\n",
       "      <td>24</td>\n",
       "      <td>500</td>\n",
       "      <td>95</td>\n",
       "      <td>Wallingford</td>\n",
       "      <td>House</td>\n",
       "      <td>Entire home/apt</td>\n",
       "      <td>5</td>\n",
       "      <td>1.5</td>\n",
       "      <td>3</td>\n",
       "      <td>within a few hours</td>\n",
       "      <td>1.00</td>\n",
       "      <td>t</td>\n",
       "      <td>t</td>\n",
       "      <td>t</td>\n",
       "    </tr>\n",
       "    <tr>\n",
       "      <th>1</th>\n",
       "      <td>149</td>\n",
       "      <td>96</td>\n",
       "      <td>11</td>\n",
       "      <td>300</td>\n",
       "      <td>105</td>\n",
       "      <td>Wallingford</td>\n",
       "      <td>Apartment</td>\n",
       "      <td>Entire home/apt</td>\n",
       "      <td>6</td>\n",
       "      <td>1.0</td>\n",
       "      <td>3</td>\n",
       "      <td>within an hour</td>\n",
       "      <td>1.00</td>\n",
       "      <td>f</td>\n",
       "      <td>t</td>\n",
       "      <td>t</td>\n",
       "    </tr>\n",
       "    <tr>\n",
       "      <th>2</th>\n",
       "      <td>95</td>\n",
       "      <td>95</td>\n",
       "      <td>79</td>\n",
       "      <td>150</td>\n",
       "      <td>40</td>\n",
       "      <td>Wallingford</td>\n",
       "      <td>Apartment</td>\n",
       "      <td>Entire home/apt</td>\n",
       "      <td>3</td>\n",
       "      <td>1.0</td>\n",
       "      <td>2</td>\n",
       "      <td>within an hour</td>\n",
       "      <td>1.00</td>\n",
       "      <td>f</td>\n",
       "      <td>t</td>\n",
       "      <td>t</td>\n",
       "    </tr>\n",
       "    <tr>\n",
       "      <th>3</th>\n",
       "      <td>105</td>\n",
       "      <td>100</td>\n",
       "      <td>13</td>\n",
       "      <td>500</td>\n",
       "      <td>50</td>\n",
       "      <td>Wallingford</td>\n",
       "      <td>House</td>\n",
       "      <td>Private room</td>\n",
       "      <td>2</td>\n",
       "      <td>2.0</td>\n",
       "      <td>1</td>\n",
       "      <td>within a few hours</td>\n",
       "      <td>1.00</td>\n",
       "      <td>t</td>\n",
       "      <td>t</td>\n",
       "      <td>t</td>\n",
       "    </tr>\n",
       "    <tr>\n",
       "      <th>4</th>\n",
       "      <td>140</td>\n",
       "      <td>99</td>\n",
       "      <td>30</td>\n",
       "      <td>250</td>\n",
       "      <td>65</td>\n",
       "      <td>Wallingford</td>\n",
       "      <td>House</td>\n",
       "      <td>Entire home/apt</td>\n",
       "      <td>2</td>\n",
       "      <td>1.0</td>\n",
       "      <td>1</td>\n",
       "      <td>within an hour</td>\n",
       "      <td>1.00</td>\n",
       "      <td>t</td>\n",
       "      <td>t</td>\n",
       "      <td>t</td>\n",
       "    </tr>\n",
       "    <tr>\n",
       "      <th>...</th>\n",
       "      <td>...</td>\n",
       "      <td>...</td>\n",
       "      <td>...</td>\n",
       "      <td>...</td>\n",
       "      <td>...</td>\n",
       "      <td>...</td>\n",
       "      <td>...</td>\n",
       "      <td>...</td>\n",
       "      <td>...</td>\n",
       "      <td>...</td>\n",
       "      <td>...</td>\n",
       "      <td>...</td>\n",
       "      <td>...</td>\n",
       "      <td>...</td>\n",
       "      <td>...</td>\n",
       "      <td>...</td>\n",
       "    </tr>\n",
       "    <tr>\n",
       "      <th>320</th>\n",
       "      <td>400</td>\n",
       "      <td>100</td>\n",
       "      <td>4</td>\n",
       "      <td>200</td>\n",
       "      <td>125</td>\n",
       "      <td>Fremont</td>\n",
       "      <td>House</td>\n",
       "      <td>Entire home/apt</td>\n",
       "      <td>8</td>\n",
       "      <td>2.5</td>\n",
       "      <td>3</td>\n",
       "      <td>within an hour</td>\n",
       "      <td>1.00</td>\n",
       "      <td>t</td>\n",
       "      <td>t</td>\n",
       "      <td>t</td>\n",
       "    </tr>\n",
       "    <tr>\n",
       "      <th>321</th>\n",
       "      <td>225</td>\n",
       "      <td>95</td>\n",
       "      <td>8</td>\n",
       "      <td>200</td>\n",
       "      <td>100</td>\n",
       "      <td>Fremont</td>\n",
       "      <td>House</td>\n",
       "      <td>Entire home/apt</td>\n",
       "      <td>4</td>\n",
       "      <td>1.0</td>\n",
       "      <td>2</td>\n",
       "      <td>within a few hours</td>\n",
       "      <td>1.00</td>\n",
       "      <td>f</td>\n",
       "      <td>t</td>\n",
       "      <td>t</td>\n",
       "    </tr>\n",
       "    <tr>\n",
       "      <th>322</th>\n",
       "      <td>350</td>\n",
       "      <td>94</td>\n",
       "      <td>20</td>\n",
       "      <td>350</td>\n",
       "      <td>175</td>\n",
       "      <td>Fremont</td>\n",
       "      <td>House</td>\n",
       "      <td>Entire home/apt</td>\n",
       "      <td>6</td>\n",
       "      <td>2.5</td>\n",
       "      <td>4</td>\n",
       "      <td>within a few hours</td>\n",
       "      <td>1.00</td>\n",
       "      <td>f</td>\n",
       "      <td>t</td>\n",
       "      <td>t</td>\n",
       "    </tr>\n",
       "    <tr>\n",
       "      <th>323</th>\n",
       "      <td>150</td>\n",
       "      <td>88</td>\n",
       "      <td>8</td>\n",
       "      <td>250</td>\n",
       "      <td>105</td>\n",
       "      <td>Fremont</td>\n",
       "      <td>Apartment</td>\n",
       "      <td>Entire home/apt</td>\n",
       "      <td>6</td>\n",
       "      <td>1.0</td>\n",
       "      <td>3</td>\n",
       "      <td>within a few hours</td>\n",
       "      <td>0.90</td>\n",
       "      <td>f</td>\n",
       "      <td>t</td>\n",
       "      <td>f</td>\n",
       "    </tr>\n",
       "    <tr>\n",
       "      <th>324</th>\n",
       "      <td>99</td>\n",
       "      <td>96</td>\n",
       "      <td>35</td>\n",
       "      <td>100</td>\n",
       "      <td>67</td>\n",
       "      <td>Fremont</td>\n",
       "      <td>Apartment</td>\n",
       "      <td>Entire home/apt</td>\n",
       "      <td>2</td>\n",
       "      <td>1.0</td>\n",
       "      <td>1</td>\n",
       "      <td>within a few hours</td>\n",
       "      <td>0.67</td>\n",
       "      <td>f</td>\n",
       "      <td>t</td>\n",
       "      <td>t</td>\n",
       "    </tr>\n",
       "  </tbody>\n",
       "</table>\n",
       "<p>325 rows × 16 columns</p>\n",
       "</div>"
      ],
      "text/plain": [
       "     price  review_scores_rating  number_of_reviews  security_deposit  \\\n",
       "0      300                   100                 24               500   \n",
       "1      149                    96                 11               300   \n",
       "2       95                    95                 79               150   \n",
       "3      105                   100                 13               500   \n",
       "4      140                    99                 30               250   \n",
       "..     ...                   ...                ...               ...   \n",
       "320    400                   100                  4               200   \n",
       "321    225                    95                  8               200   \n",
       "322    350                    94                 20               350   \n",
       "323    150                    88                  8               250   \n",
       "324     99                    96                 35               100   \n",
       "\n",
       "     cleaning_fee neighborhood property_type        room_type  accommodates  \\\n",
       "0              95  Wallingford         House  Entire home/apt             5   \n",
       "1             105  Wallingford     Apartment  Entire home/apt             6   \n",
       "2              40  Wallingford     Apartment  Entire home/apt             3   \n",
       "3              50  Wallingford         House     Private room             2   \n",
       "4              65  Wallingford         House  Entire home/apt             2   \n",
       "..            ...          ...           ...              ...           ...   \n",
       "320           125      Fremont         House  Entire home/apt             8   \n",
       "321           100      Fremont         House  Entire home/apt             4   \n",
       "322           175      Fremont         House  Entire home/apt             6   \n",
       "323           105      Fremont     Apartment  Entire home/apt             6   \n",
       "324            67      Fremont     Apartment  Entire home/apt             2   \n",
       "\n",
       "     bathrooms  beds  host_response_time  host_response_rate  \\\n",
       "0          1.5     3  within a few hours                1.00   \n",
       "1          1.0     3      within an hour                1.00   \n",
       "2          1.0     2      within an hour                1.00   \n",
       "3          2.0     1  within a few hours                1.00   \n",
       "4          1.0     1      within an hour                1.00   \n",
       "..         ...   ...                 ...                 ...   \n",
       "320        2.5     3      within an hour                1.00   \n",
       "321        1.0     2  within a few hours                1.00   \n",
       "322        2.5     4  within a few hours                1.00   \n",
       "323        1.0     3  within a few hours                0.90   \n",
       "324        1.0     1  within a few hours                0.67   \n",
       "\n",
       "    host_is_superhost host_has_profile_pic host_identity_verified  \n",
       "0                   t                    t                      t  \n",
       "1                   f                    t                      t  \n",
       "2                   f                    t                      t  \n",
       "3                   t                    t                      t  \n",
       "4                   t                    t                      t  \n",
       "..                ...                  ...                    ...  \n",
       "320                 t                    t                      t  \n",
       "321                 f                    t                      t  \n",
       "322                 f                    t                      t  \n",
       "323                 f                    t                      f  \n",
       "324                 f                    t                      t  \n",
       "\n",
       "[325 rows x 16 columns]"
      ]
     },
     "execution_count": 22,
     "metadata": {},
     "output_type": "execute_result"
    }
   ],
   "source": [
    "df = pd.read_csv(r\"C:\\Users\\samma\\Documents\\stat207\\saraza2\\lab_11\\seattle_airbnb_listings.csv\")\n",
    "df"
   ]
  },
  {
   "cell_type": "code",
   "execution_count": 23,
   "metadata": {},
   "outputs": [
    {
     "name": "stdout",
     "output_type": "stream",
     "text": [
      "Number of rows: 325\n"
     ]
    }
   ],
   "source": [
    "print(\"Number of rows:\", len(df))"
   ]
  },
  {
   "cell_type": "markdown",
   "metadata": {},
   "source": [
    "### 1.2. 0/1 Response Variable\n",
    "\n",
    "Create a new 0/1 variable in your dataset in which `superhosts=1` and `nonsuperhosts=0`. "
   ]
  },
  {
   "cell_type": "code",
   "execution_count": 24,
   "metadata": {},
   "outputs": [
    {
     "data": {
      "text/html": [
       "<div>\n",
       "<style scoped>\n",
       "    .dataframe tbody tr th:only-of-type {\n",
       "        vertical-align: middle;\n",
       "    }\n",
       "\n",
       "    .dataframe tbody tr th {\n",
       "        vertical-align: top;\n",
       "    }\n",
       "\n",
       "    .dataframe thead th {\n",
       "        text-align: right;\n",
       "    }\n",
       "</style>\n",
       "<table border=\"1\" class=\"dataframe\">\n",
       "  <thead>\n",
       "    <tr style=\"text-align: right;\">\n",
       "      <th></th>\n",
       "      <th>price</th>\n",
       "      <th>review_scores_rating</th>\n",
       "      <th>number_of_reviews</th>\n",
       "      <th>security_deposit</th>\n",
       "      <th>cleaning_fee</th>\n",
       "      <th>neighborhood</th>\n",
       "      <th>property_type</th>\n",
       "      <th>room_type</th>\n",
       "      <th>accommodates</th>\n",
       "      <th>bathrooms</th>\n",
       "      <th>beds</th>\n",
       "      <th>host_response_time</th>\n",
       "      <th>host_response_rate</th>\n",
       "      <th>host_is_superhost</th>\n",
       "      <th>host_has_profile_pic</th>\n",
       "      <th>host_identity_verified</th>\n",
       "      <th>y</th>\n",
       "    </tr>\n",
       "  </thead>\n",
       "  <tbody>\n",
       "    <tr>\n",
       "      <th>0</th>\n",
       "      <td>300</td>\n",
       "      <td>100</td>\n",
       "      <td>24</td>\n",
       "      <td>500</td>\n",
       "      <td>95</td>\n",
       "      <td>Wallingford</td>\n",
       "      <td>House</td>\n",
       "      <td>Entire home/apt</td>\n",
       "      <td>5</td>\n",
       "      <td>1.5</td>\n",
       "      <td>3</td>\n",
       "      <td>within a few hours</td>\n",
       "      <td>1.00</td>\n",
       "      <td>t</td>\n",
       "      <td>t</td>\n",
       "      <td>t</td>\n",
       "      <td>1</td>\n",
       "    </tr>\n",
       "    <tr>\n",
       "      <th>1</th>\n",
       "      <td>149</td>\n",
       "      <td>96</td>\n",
       "      <td>11</td>\n",
       "      <td>300</td>\n",
       "      <td>105</td>\n",
       "      <td>Wallingford</td>\n",
       "      <td>Apartment</td>\n",
       "      <td>Entire home/apt</td>\n",
       "      <td>6</td>\n",
       "      <td>1.0</td>\n",
       "      <td>3</td>\n",
       "      <td>within an hour</td>\n",
       "      <td>1.00</td>\n",
       "      <td>f</td>\n",
       "      <td>t</td>\n",
       "      <td>t</td>\n",
       "      <td>0</td>\n",
       "    </tr>\n",
       "    <tr>\n",
       "      <th>2</th>\n",
       "      <td>95</td>\n",
       "      <td>95</td>\n",
       "      <td>79</td>\n",
       "      <td>150</td>\n",
       "      <td>40</td>\n",
       "      <td>Wallingford</td>\n",
       "      <td>Apartment</td>\n",
       "      <td>Entire home/apt</td>\n",
       "      <td>3</td>\n",
       "      <td>1.0</td>\n",
       "      <td>2</td>\n",
       "      <td>within an hour</td>\n",
       "      <td>1.00</td>\n",
       "      <td>f</td>\n",
       "      <td>t</td>\n",
       "      <td>t</td>\n",
       "      <td>0</td>\n",
       "    </tr>\n",
       "    <tr>\n",
       "      <th>3</th>\n",
       "      <td>105</td>\n",
       "      <td>100</td>\n",
       "      <td>13</td>\n",
       "      <td>500</td>\n",
       "      <td>50</td>\n",
       "      <td>Wallingford</td>\n",
       "      <td>House</td>\n",
       "      <td>Private room</td>\n",
       "      <td>2</td>\n",
       "      <td>2.0</td>\n",
       "      <td>1</td>\n",
       "      <td>within a few hours</td>\n",
       "      <td>1.00</td>\n",
       "      <td>t</td>\n",
       "      <td>t</td>\n",
       "      <td>t</td>\n",
       "      <td>1</td>\n",
       "    </tr>\n",
       "    <tr>\n",
       "      <th>4</th>\n",
       "      <td>140</td>\n",
       "      <td>99</td>\n",
       "      <td>30</td>\n",
       "      <td>250</td>\n",
       "      <td>65</td>\n",
       "      <td>Wallingford</td>\n",
       "      <td>House</td>\n",
       "      <td>Entire home/apt</td>\n",
       "      <td>2</td>\n",
       "      <td>1.0</td>\n",
       "      <td>1</td>\n",
       "      <td>within an hour</td>\n",
       "      <td>1.00</td>\n",
       "      <td>t</td>\n",
       "      <td>t</td>\n",
       "      <td>t</td>\n",
       "      <td>1</td>\n",
       "    </tr>\n",
       "    <tr>\n",
       "      <th>...</th>\n",
       "      <td>...</td>\n",
       "      <td>...</td>\n",
       "      <td>...</td>\n",
       "      <td>...</td>\n",
       "      <td>...</td>\n",
       "      <td>...</td>\n",
       "      <td>...</td>\n",
       "      <td>...</td>\n",
       "      <td>...</td>\n",
       "      <td>...</td>\n",
       "      <td>...</td>\n",
       "      <td>...</td>\n",
       "      <td>...</td>\n",
       "      <td>...</td>\n",
       "      <td>...</td>\n",
       "      <td>...</td>\n",
       "      <td>...</td>\n",
       "    </tr>\n",
       "    <tr>\n",
       "      <th>320</th>\n",
       "      <td>400</td>\n",
       "      <td>100</td>\n",
       "      <td>4</td>\n",
       "      <td>200</td>\n",
       "      <td>125</td>\n",
       "      <td>Fremont</td>\n",
       "      <td>House</td>\n",
       "      <td>Entire home/apt</td>\n",
       "      <td>8</td>\n",
       "      <td>2.5</td>\n",
       "      <td>3</td>\n",
       "      <td>within an hour</td>\n",
       "      <td>1.00</td>\n",
       "      <td>t</td>\n",
       "      <td>t</td>\n",
       "      <td>t</td>\n",
       "      <td>1</td>\n",
       "    </tr>\n",
       "    <tr>\n",
       "      <th>321</th>\n",
       "      <td>225</td>\n",
       "      <td>95</td>\n",
       "      <td>8</td>\n",
       "      <td>200</td>\n",
       "      <td>100</td>\n",
       "      <td>Fremont</td>\n",
       "      <td>House</td>\n",
       "      <td>Entire home/apt</td>\n",
       "      <td>4</td>\n",
       "      <td>1.0</td>\n",
       "      <td>2</td>\n",
       "      <td>within a few hours</td>\n",
       "      <td>1.00</td>\n",
       "      <td>f</td>\n",
       "      <td>t</td>\n",
       "      <td>t</td>\n",
       "      <td>0</td>\n",
       "    </tr>\n",
       "    <tr>\n",
       "      <th>322</th>\n",
       "      <td>350</td>\n",
       "      <td>94</td>\n",
       "      <td>20</td>\n",
       "      <td>350</td>\n",
       "      <td>175</td>\n",
       "      <td>Fremont</td>\n",
       "      <td>House</td>\n",
       "      <td>Entire home/apt</td>\n",
       "      <td>6</td>\n",
       "      <td>2.5</td>\n",
       "      <td>4</td>\n",
       "      <td>within a few hours</td>\n",
       "      <td>1.00</td>\n",
       "      <td>f</td>\n",
       "      <td>t</td>\n",
       "      <td>t</td>\n",
       "      <td>0</td>\n",
       "    </tr>\n",
       "    <tr>\n",
       "      <th>323</th>\n",
       "      <td>150</td>\n",
       "      <td>88</td>\n",
       "      <td>8</td>\n",
       "      <td>250</td>\n",
       "      <td>105</td>\n",
       "      <td>Fremont</td>\n",
       "      <td>Apartment</td>\n",
       "      <td>Entire home/apt</td>\n",
       "      <td>6</td>\n",
       "      <td>1.0</td>\n",
       "      <td>3</td>\n",
       "      <td>within a few hours</td>\n",
       "      <td>0.90</td>\n",
       "      <td>f</td>\n",
       "      <td>t</td>\n",
       "      <td>f</td>\n",
       "      <td>0</td>\n",
       "    </tr>\n",
       "    <tr>\n",
       "      <th>324</th>\n",
       "      <td>99</td>\n",
       "      <td>96</td>\n",
       "      <td>35</td>\n",
       "      <td>100</td>\n",
       "      <td>67</td>\n",
       "      <td>Fremont</td>\n",
       "      <td>Apartment</td>\n",
       "      <td>Entire home/apt</td>\n",
       "      <td>2</td>\n",
       "      <td>1.0</td>\n",
       "      <td>1</td>\n",
       "      <td>within a few hours</td>\n",
       "      <td>0.67</td>\n",
       "      <td>f</td>\n",
       "      <td>t</td>\n",
       "      <td>t</td>\n",
       "      <td>0</td>\n",
       "    </tr>\n",
       "  </tbody>\n",
       "</table>\n",
       "<p>325 rows × 17 columns</p>\n",
       "</div>"
      ],
      "text/plain": [
       "     price  review_scores_rating  number_of_reviews  security_deposit  \\\n",
       "0      300                   100                 24               500   \n",
       "1      149                    96                 11               300   \n",
       "2       95                    95                 79               150   \n",
       "3      105                   100                 13               500   \n",
       "4      140                    99                 30               250   \n",
       "..     ...                   ...                ...               ...   \n",
       "320    400                   100                  4               200   \n",
       "321    225                    95                  8               200   \n",
       "322    350                    94                 20               350   \n",
       "323    150                    88                  8               250   \n",
       "324     99                    96                 35               100   \n",
       "\n",
       "     cleaning_fee neighborhood property_type        room_type  accommodates  \\\n",
       "0              95  Wallingford         House  Entire home/apt             5   \n",
       "1             105  Wallingford     Apartment  Entire home/apt             6   \n",
       "2              40  Wallingford     Apartment  Entire home/apt             3   \n",
       "3              50  Wallingford         House     Private room             2   \n",
       "4              65  Wallingford         House  Entire home/apt             2   \n",
       "..            ...          ...           ...              ...           ...   \n",
       "320           125      Fremont         House  Entire home/apt             8   \n",
       "321           100      Fremont         House  Entire home/apt             4   \n",
       "322           175      Fremont         House  Entire home/apt             6   \n",
       "323           105      Fremont     Apartment  Entire home/apt             6   \n",
       "324            67      Fremont     Apartment  Entire home/apt             2   \n",
       "\n",
       "     bathrooms  beds  host_response_time  host_response_rate  \\\n",
       "0          1.5     3  within a few hours                1.00   \n",
       "1          1.0     3      within an hour                1.00   \n",
       "2          1.0     2      within an hour                1.00   \n",
       "3          2.0     1  within a few hours                1.00   \n",
       "4          1.0     1      within an hour                1.00   \n",
       "..         ...   ...                 ...                 ...   \n",
       "320        2.5     3      within an hour                1.00   \n",
       "321        1.0     2  within a few hours                1.00   \n",
       "322        2.5     4  within a few hours                1.00   \n",
       "323        1.0     3  within a few hours                0.90   \n",
       "324        1.0     1  within a few hours                0.67   \n",
       "\n",
       "    host_is_superhost host_has_profile_pic host_identity_verified  y  \n",
       "0                   t                    t                      t  1  \n",
       "1                   f                    t                      t  0  \n",
       "2                   f                    t                      t  0  \n",
       "3                   t                    t                      t  1  \n",
       "4                   t                    t                      t  1  \n",
       "..                ...                  ...                    ... ..  \n",
       "320                 t                    t                      t  1  \n",
       "321                 f                    t                      t  0  \n",
       "322                 f                    t                      t  0  \n",
       "323                 f                    t                      f  0  \n",
       "324                 f                    t                      t  0  \n",
       "\n",
       "[325 rows x 17 columns]"
      ]
     },
     "execution_count": 24,
     "metadata": {},
     "output_type": "execute_result"
    }
   ],
   "source": [
    "df['y'] = df['host_is_superhost'].replace({'t': 1, 'f': 0})\n",
    "df"
   ]
  },
  {
   "cell_type": "markdown",
   "metadata": {},
   "source": [
    "## 2. Model\n",
    "\n",
    "In the interest of time, let's build a logistic regression model, which will predict the `probability that a host is a superhost` given:\n",
    "\n",
    "* `review_scores_rating`\n",
    "* `property_type`\n",
    "* `room_type`\n",
    "\n",
    "### 2.1. Fit the Model\n",
    "\n",
    "Fit this \"full\" logistic regression model and show the summary output table."
   ]
  },
  {
   "cell_type": "code",
   "execution_count": 25,
   "metadata": {},
   "outputs": [
    {
     "name": "stdout",
     "output_type": "stream",
     "text": [
      "Optimization terminated successfully.\n",
      "         Current function value: 0.524382\n",
      "         Iterations 8\n"
     ]
    }
   ],
   "source": [
    "log_mod = smf.logit(formula='y~review_scores_rating+property_type+room_type', data=df).fit()"
   ]
  },
  {
   "cell_type": "code",
   "execution_count": 26,
   "metadata": {},
   "outputs": [
    {
     "data": {
      "text/html": [
       "<table class=\"simpletable\">\n",
       "<caption>Logit Regression Results</caption>\n",
       "<tr>\n",
       "  <th>Dep. Variable:</th>           <td>y</td>        <th>  No. Observations:  </th>  <td>   325</td>  \n",
       "</tr>\n",
       "<tr>\n",
       "  <th>Model:</th>                 <td>Logit</td>      <th>  Df Residuals:      </th>  <td>   320</td>  \n",
       "</tr>\n",
       "<tr>\n",
       "  <th>Method:</th>                 <td>MLE</td>       <th>  Df Model:          </th>  <td>     4</td>  \n",
       "</tr>\n",
       "<tr>\n",
       "  <th>Date:</th>            <td>Tue, 09 Apr 2024</td> <th>  Pseudo R-squ.:     </th>  <td>0.1360</td>  \n",
       "</tr>\n",
       "<tr>\n",
       "  <th>Time:</th>                <td>20:02:07</td>     <th>  Log-Likelihood:    </th> <td> -170.42</td> \n",
       "</tr>\n",
       "<tr>\n",
       "  <th>converged:</th>             <td>True</td>       <th>  LL-Null:           </th> <td> -197.24</td> \n",
       "</tr>\n",
       "<tr>\n",
       "  <th>Covariance Type:</th>     <td>nonrobust</td>    <th>  LLR p-value:       </th> <td>6.264e-11</td>\n",
       "</tr>\n",
       "</table>\n",
       "<table class=\"simpletable\">\n",
       "<tr>\n",
       "              <td></td>                 <th>coef</th>     <th>std err</th>      <th>z</th>      <th>P>|z|</th>  <th>[0.025</th>    <th>0.975]</th>  \n",
       "</tr>\n",
       "<tr>\n",
       "  <th>Intercept</th>                 <td>  -21.5917</td> <td>    4.158</td> <td>   -5.192</td> <td> 0.000</td> <td>  -29.742</td> <td>  -13.442</td>\n",
       "</tr>\n",
       "<tr>\n",
       "  <th>property_type[T.House]</th>    <td>   -0.1108</td> <td>    0.293</td> <td>   -0.378</td> <td> 0.705</td> <td>   -0.685</td> <td>    0.463</td>\n",
       "</tr>\n",
       "<tr>\n",
       "  <th>room_type[T.Private room]</th> <td>    0.0420</td> <td>    0.370</td> <td>    0.113</td> <td> 0.910</td> <td>   -0.683</td> <td>    0.767</td>\n",
       "</tr>\n",
       "<tr>\n",
       "  <th>room_type[T.Shared room]</th>  <td>   -2.1820</td> <td>    1.059</td> <td>   -2.059</td> <td> 0.039</td> <td>   -4.259</td> <td>   -0.105</td>\n",
       "</tr>\n",
       "<tr>\n",
       "  <th>review_scores_rating</th>      <td>    0.2173</td> <td>    0.043</td> <td>    5.056</td> <td> 0.000</td> <td>    0.133</td> <td>    0.302</td>\n",
       "</tr>\n",
       "</table>"
      ],
      "text/latex": [
       "\\begin{center}\n",
       "\\begin{tabular}{lclc}\n",
       "\\toprule\n",
       "\\textbf{Dep. Variable:}             &        y         & \\textbf{  No. Observations:  } &      325    \\\\\n",
       "\\textbf{Model:}                     &      Logit       & \\textbf{  Df Residuals:      } &      320    \\\\\n",
       "\\textbf{Method:}                    &       MLE        & \\textbf{  Df Model:          } &        4    \\\\\n",
       "\\textbf{Date:}                      & Tue, 09 Apr 2024 & \\textbf{  Pseudo R-squ.:     } &   0.1360    \\\\\n",
       "\\textbf{Time:}                      &     20:02:07     & \\textbf{  Log-Likelihood:    } &   -170.42   \\\\\n",
       "\\textbf{converged:}                 &       True       & \\textbf{  LL-Null:           } &   -197.24   \\\\\n",
       "\\textbf{Covariance Type:}           &    nonrobust     & \\textbf{  LLR p-value:       } & 6.264e-11   \\\\\n",
       "\\bottomrule\n",
       "\\end{tabular}\n",
       "\\begin{tabular}{lcccccc}\n",
       "                                    & \\textbf{coef} & \\textbf{std err} & \\textbf{z} & \\textbf{P$> |$z$|$} & \\textbf{[0.025} & \\textbf{0.975]}  \\\\\n",
       "\\midrule\n",
       "\\textbf{Intercept}                  &     -21.5917  &        4.158     &    -5.192  &         0.000        &      -29.742    &      -13.442     \\\\\n",
       "\\textbf{property\\_type[T.House]}    &      -0.1108  &        0.293     &    -0.378  &         0.705        &       -0.685    &        0.463     \\\\\n",
       "\\textbf{room\\_type[T.Private room]} &       0.0420  &        0.370     &     0.113  &         0.910        &       -0.683    &        0.767     \\\\\n",
       "\\textbf{room\\_type[T.Shared room]}  &      -2.1820  &        1.059     &    -2.059  &         0.039        &       -4.259    &       -0.105     \\\\\n",
       "\\textbf{review\\_scores\\_rating}     &       0.2173  &        0.043     &     5.056  &         0.000        &        0.133    &        0.302     \\\\\n",
       "\\bottomrule\n",
       "\\end{tabular}\n",
       "%\\caption{Logit Regression Results}\n",
       "\\end{center}"
      ],
      "text/plain": [
       "<class 'statsmodels.iolib.summary.Summary'>\n",
       "\"\"\"\n",
       "                           Logit Regression Results                           \n",
       "==============================================================================\n",
       "Dep. Variable:                      y   No. Observations:                  325\n",
       "Model:                          Logit   Df Residuals:                      320\n",
       "Method:                           MLE   Df Model:                            4\n",
       "Date:                Tue, 09 Apr 2024   Pseudo R-squ.:                  0.1360\n",
       "Time:                        20:02:07   Log-Likelihood:                -170.42\n",
       "converged:                       True   LL-Null:                       -197.24\n",
       "Covariance Type:            nonrobust   LLR p-value:                 6.264e-11\n",
       "=============================================================================================\n",
       "                                coef    std err          z      P>|z|      [0.025      0.975]\n",
       "---------------------------------------------------------------------------------------------\n",
       "Intercept                   -21.5917      4.158     -5.192      0.000     -29.742     -13.442\n",
       "property_type[T.House]       -0.1108      0.293     -0.378      0.705      -0.685       0.463\n",
       "room_type[T.Private room]     0.0420      0.370      0.113      0.910      -0.683       0.767\n",
       "room_type[T.Shared room]     -2.1820      1.059     -2.059      0.039      -4.259      -0.105\n",
       "review_scores_rating          0.2173      0.043      5.056      0.000       0.133       0.302\n",
       "=============================================================================================\n",
       "\"\"\""
      ]
     },
     "execution_count": 26,
     "metadata": {},
     "output_type": "execute_result"
    }
   ],
   "source": [
    "log_mod.summary()"
   ]
  },
  {
   "cell_type": "markdown",
   "metadata": {},
   "source": [
    "### 2.2. Model Equation\n",
    "\n",
    "Write the equation for the resulting logistic regression model that has the predicted **odds** on the left-hand side. Make sure to use the appropriate notation discussed in class."
   ]
  },
  {
   "cell_type": "markdown",
   "metadata": {},
   "source": [
    "odds(^) = e ^ (-21.5917 - (0.1108 * property_type[T.House]) + (0.0420 * room_type[T.Private room]) - (2.1820 * room_type[T.Shared room]) + (0.2173 * review_scores_rating))"
   ]
  },
  {
   "cell_type": "markdown",
   "metadata": {},
   "source": [
    "## 3. Slope and Intercept Interpretations\n",
    "\n",
    "### 3.1. Baseline Odds\n",
    "\n",
    "Calculate the baseline odds for this model and put it into words. Make sure to use non-misleading language discussed in class."
   ]
  },
  {
   "cell_type": "code",
   "execution_count": 27,
   "metadata": {},
   "outputs": [
    {
     "data": {
      "text/plain": [
       "4.196080729325872e-10"
      ]
     },
     "execution_count": 27,
     "metadata": {},
     "output_type": "execute_result"
    }
   ],
   "source": [
    "odds = np.exp(-21.5917)\n",
    "odds"
   ]
  },
  {
   "cell_type": "markdown",
   "metadata": {},
   "source": [
    "We expects the odds of a listing of a house with a private room and a shared room having a review rating of being a superhost to be 4.196080729325872e-10"
   ]
  },
  {
   "cell_type": "markdown",
   "metadata": {},
   "source": [
    "### 3.2. Prose Baseline Odds\n",
    "\n",
    "The baseline odds that you calculated in 3.1 is a numerical odds. Put this numerical odds into prose form."
   ]
  },
  {
   "cell_type": "markdown",
   "metadata": {},
   "source": [
    "We expect the odds of this listing to be a superhost to be 4.196080729325872e-10 to 1"
   ]
  },
  {
   "cell_type": "markdown",
   "metadata": {},
   "source": [
    "### 3.3. Odds Multiplier for Review Scores Rating"
   ]
  },
  {
   "cell_type": "markdown",
   "metadata": {},
   "source": [
    "#### 3.3.1. Odds Multiplier\n",
    "\n",
    "Calculate the odds multiplier for review scores rating and put it into words. Make sure to use non-misleading language discussed in class."
   ]
  },
  {
   "cell_type": "code",
   "execution_count": 28,
   "metadata": {},
   "outputs": [
    {
     "data": {
      "text/plain": [
       "1.242716861279481"
      ]
     },
     "execution_count": 28,
     "metadata": {},
     "output_type": "execute_result"
    }
   ],
   "source": [
    "odds_mult = np.exp(0.2173)\n",
    "odds_mult"
   ]
  },
  {
   "cell_type": "markdown",
   "metadata": {},
   "source": [
    "All else held equal, if we were to increase the review score rating by 1 then we would expect on an average for the odds that the listing is a superhost to increase by a multiple of 1.242716861279481"
   ]
  },
  {
   "cell_type": "markdown",
   "metadata": {},
   "source": [
    "#### 3.3.2. Applying the Odds Multiplier\n",
    "\n",
    "Suppose that an Airbnb host currently has a review scores rating of 8. The odds of her being a superhost was predicted to be 2 by this model. If she were to increase her review scores rating to 9, what would the model predict her new odds to be?"
   ]
  },
  {
   "cell_type": "code",
   "execution_count": 29,
   "metadata": {},
   "outputs": [
    {
     "data": {
      "text/plain": [
       "2.485433722558962"
      ]
     },
     "execution_count": 29,
     "metadata": {},
     "output_type": "execute_result"
    }
   ],
   "source": [
    "odds_new = 1.242716861279481 * 2\n",
    "odds_new"
   ]
  },
  {
   "cell_type": "markdown",
   "metadata": {},
   "source": []
  },
  {
   "cell_type": "markdown",
   "metadata": {},
   "source": [
    "#### 3.3.3. Review Scores and Superhost Status\n",
    "\n",
    "Visualize the relationships between `host_is_superhost` and `review_scores_rating`.\n",
    "\n",
    "Does your odds multiplier of `review_scores_rating` interpretation match what your visualization suggests about the relationship between `host_is_superhost` and `review_scores_rating`? Explain."
   ]
  },
  {
   "cell_type": "code",
   "execution_count": 43,
   "metadata": {},
   "outputs": [
    {
     "data": {
      "image/png": "[encoded data removed]",
      "text/plain": [
       "<Figure size 640x480 with 1 Axes>"
      ]
     },
     "metadata": {},
     "output_type": "display_data"
    }
   ],
   "source": [
    "sns.boxplot(x='y', y='review_scores_rating', data=df)\n",
    "plt.show()"
   ]
  },
  {
   "cell_type": "markdown",
   "metadata": {},
   "source": [
    "Yes my odds multiplier interpretation matches what the visualization suggests about the relationship between`host_is_superhost` and `review_scores_rating` because as we can see for superhosts ('1') the review scores are generally higher with the median closer to the top of the box as compared to superhosts ('0'). Furthermore, there are more outliers for superhosts('0'). The odds multiplier suggested that an increase in rating increases the odds of being a superhost and the boxplot supports this because it clearly shows that superhosts tend to have a higher review score so as the review score increases so does the odds of being a superhost "
   ]
  },
  {
   "cell_type": "markdown",
   "metadata": {},
   "source": [
    "### 3.4. Odds Ratio of House vs. Apartment Listings"
   ]
  },
  {
   "cell_type": "markdown",
   "metadata": {},
   "source": [
    "#### 3.4.1. Odds Ratio\n",
    "\n",
    "Calculate the odds ratio for <u>house</u> vs. <u>apartment</u> listings in this model and put it into words. Make sure to use non-misleading language discussed in class."
   ]
  },
  {
   "cell_type": "code",
   "execution_count": 31,
   "metadata": {},
   "outputs": [
    {
     "data": {
      "text/plain": [
       "0.8951177545787851"
      ]
     },
     "execution_count": 31,
     "metadata": {},
     "output_type": "execute_result"
    }
   ],
   "source": [
    "odds_ratio = np.exp(-0.1108)\n",
    "odds_ratio"
   ]
  },
  {
   "cell_type": "markdown",
   "metadata": {},
   "source": [
    "All else held equal we would expect the ratio of the odds a listing that is a superhost of being a house vs the odds that the listing is a superhost of being an apartment to be 0.8951177545787851"
   ]
  },
  {
   "cell_type": "markdown",
   "metadata": {},
   "source": [
    "#### 3.4.2. Applying the Odds Ratio\n",
    "\n",
    "Suppose that an Airbnb host is currently listing a private room in their <u>apartment</u>. The model predicts the odds that he is a superhost to be 0.6. If he were to also list a private room in a <u>house</u>, what would the model predict the odds of him being a superhost to be?"
   ]
  },
  {
   "cell_type": "code",
   "execution_count": 32,
   "metadata": {},
   "outputs": [
    {
     "data": {
      "text/plain": [
       "0.5370706527472711"
      ]
     },
     "execution_count": 32,
     "metadata": {},
     "output_type": "execute_result"
    }
   ],
   "source": [
    "odds_new = 0.6 * 0.8951177545787851\n",
    "odds_new"
   ]
  },
  {
   "cell_type": "markdown",
   "metadata": {},
   "source": []
  },
  {
   "cell_type": "markdown",
   "metadata": {},
   "source": [
    "#### 3.4.3. Property Type and Superhost Status\n",
    "\n",
    "Visualize the relationships between `host_is_superhost` and `property_type`. \n",
    "\n",
    "Does your odds ratio interpretation from 3.4.1 match what your visualization suggests about the relationship between `host_is_superhost` and `property_type`? Explain.\n",
    "\n",
    "*(Hint: `property_type` should be on your x-axis in this visualization in order to best answer the question above).*"
   ]
  },
  {
   "cell_type": "code",
   "execution_count": 44,
   "metadata": {},
   "outputs": [
    {
     "data": {
      "image/png": "[encoded data removed]",
      "text/plain": [
       "<Figure size 640x480 with 1 Axes>"
      ]
     },
     "metadata": {},
     "output_type": "display_data"
    }
   ],
   "source": [
    "sns.barplot(x='property_type', y='y', data=df)\n",
    "plt.show()\n"
   ]
  },
  {
   "cell_type": "markdown",
   "metadata": {},
   "source": [
    "Yes, the visualizations matches the odds ratio. The bar for 'House' is shorter as the odds are less which matches the fact that being a superhost is less likely (lesser odds) for hosts who list a house compared to those who list an apartment."
   ]
  },
  {
   "cell_type": "markdown",
   "metadata": {},
   "source": [
    "### 3.5. Odds Ratio of Shared Room vs. Whole House/Apartment Listings"
   ]
  },
  {
   "cell_type": "markdown",
   "metadata": {},
   "source": [
    "#### 3.5.1. Odds Ratio\n",
    "\n",
    "Calculate the odds ratio for <u>shared room</u> vs. <u>whole house/apartment</u> listings in this model and put it into words. Make sure to use non-misleading language discussed in class."
   ]
  },
  {
   "cell_type": "code",
   "execution_count": 34,
   "metadata": {},
   "outputs": [
    {
     "data": {
      "text/plain": [
       "0.11281567351158354"
      ]
     },
     "execution_count": 34,
     "metadata": {},
     "output_type": "execute_result"
    }
   ],
   "source": [
    "odds_ratio = np.exp(-2.1820)\n",
    "odds_ratio"
   ]
  },
  {
   "cell_type": "markdown",
   "metadata": {},
   "source": [
    "All else held equal we would expect the ratio of the odds a listing that is a superhost of being a shared room vs the odds that the listing is a superhost of being an apartment/whole house to be 0.11281567351158354"
   ]
  },
  {
   "cell_type": "markdown",
   "metadata": {},
   "source": [
    "#### 3.5.2. Applying the Odds Ratio\n",
    "\n",
    "Suppose that an Airbnb host is currently listing their <u>shared room</u>. The model predicts the odds that she is a superhost to be 9. If she were instead to list her <u>whole house</u>, what would the model predict the odds of her being a superhost to be?"
   ]
  },
  {
   "cell_type": "code",
   "execution_count": 46,
   "metadata": {},
   "outputs": [
    {
     "data": {
      "text/plain": [
       "79.77614918086634"
      ]
     },
     "execution_count": 46,
     "metadata": {},
     "output_type": "execute_result"
    }
   ],
   "source": [
    "odds_new = 9 / 0.11281567351158354\n",
    "odds_new"
   ]
  },
  {
   "cell_type": "markdown",
   "metadata": {},
   "source": []
  },
  {
   "cell_type": "markdown",
   "metadata": {},
   "source": [
    "#### 3.5.3. Room Type and Superhost Status\n",
    "\n",
    "Visualize the relationships between `host_is_superhost` and `room_type`. \n",
    "\n",
    "Does your odds ratio interpretation from 3.5.1 match what your visualization suggests about the relationship between `host_is_superhost` and `room_type`? Explain.\n",
    "\n",
    "*(Hint: `room_type` should be on your x-axis in this visualization in order to best answer the question above).*"
   ]
  },
  {
   "cell_type": "code",
   "execution_count": 45,
   "metadata": {},
   "outputs": [
    {
     "data": {
      "image/png": "[encoded data removed]",
      "text/plain": [
       "<Figure size 640x480 with 1 Axes>"
      ]
     },
     "metadata": {},
     "output_type": "display_data"
    }
   ],
   "source": [
    "sns.barplot(x='room_type', y='y', data=df)\n",
    "plt.show()"
   ]
  },
  {
   "cell_type": "markdown",
   "metadata": {},
   "source": [
    "The odds ratio for a shared room was significantly less than 1 (approximately 0.113), suggesting that the likelihood of being a superhost is lower for shared room listings compared to entire home/apartment listings. This matches the visualization where the bar for shared rooms is notably shorter than the others, reflecting a lower probability of those hosts being superhosts."
   ]
  }
 ],
 "metadata": {
  "kernelspec": {
   "display_name": "Python 3 (ipykernel)",
   "language": "python",
   "name": "python3"
  },
  "language_info": {
   "codemirror_mode": {
    "name": "ipython",
    "version": 3
   },
   "file_extension": ".py",
   "mimetype": "text/x-python",
   "name": "python",
   "nbconvert_exporter": "python",
   "pygments_lexer": "ipython3",
   "version": "3.11.6"
  }
 },
 "nbformat": 4,
 "nbformat_minor": 2
}
